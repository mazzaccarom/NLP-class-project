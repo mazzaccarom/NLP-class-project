{
 "cells": [
  {
   "cell_type": "markdown",
   "id": "b087df1b",
   "metadata": {
    "papermill": {
     "duration": 0.004656,
     "end_time": "2022-11-02T02:43:53.972701",
     "exception": false,
     "start_time": "2022-11-02T02:43:53.968045",
     "status": "completed"
    },
    "tags": []
   },
   "source": [
    "The goal of my project is to determine if the sentiment of a statment is postive, neutral or negative. I am using a data set called Tweets.csv from https://www.kaggle.com/datasets/yasserh/twitter-tweets-sentiment-dataset. The data set contains 27.5k tweets with sentiment annalysis. "
   ]
  },
  {
   "cell_type": "code",
   "execution_count": 1,
   "id": "0314856c",
   "metadata": {
    "execution": {
     "iopub.execute_input": "2022-11-02T02:43:53.982126Z",
     "iopub.status.busy": "2022-11-02T02:43:53.981661Z",
     "iopub.status.idle": "2022-11-02T02:43:54.002208Z",
     "shell.execute_reply": "2022-11-02T02:43:54.000873Z"
    },
    "papermill": {
     "duration": 0.030759,
     "end_time": "2022-11-02T02:43:54.007270",
     "exception": false,
     "start_time": "2022-11-02T02:43:53.976511",
     "status": "completed"
    },
    "tags": []
   },
   "outputs": [
    {
     "name": "stdout",
     "output_type": "stream",
     "text": [
      "/kaggle/input/tweetscsv/Tweets.csv\n"
     ]
    }
   ],
   "source": [
    "import numpy as np # linear algebra\n",
    "import pandas as pd # data processing, CSV file I/O (e.g. pd.read_csv)\n",
    "import matplotlib.pyplot as plt\n",
    "import re \n",
    "# Input data files are available in the read-only \"../input/\" directory\n",
    "\n",
    "import os\n",
    "for dirname, _, filenames in os.walk('/kaggle/input'):\n",
    "    for filename in filenames:\n",
    "        print(os.path.join(dirname, filename))\n"
   ]
  },
  {
   "cell_type": "code",
   "execution_count": 2,
   "id": "c9f61cfc",
   "metadata": {
    "execution": {
     "iopub.execute_input": "2022-11-02T02:43:54.017359Z",
     "iopub.status.busy": "2022-11-02T02:43:54.016953Z",
     "iopub.status.idle": "2022-11-02T02:43:54.189390Z",
     "shell.execute_reply": "2022-11-02T02:43:54.188421Z"
    },
    "papermill": {
     "duration": 0.18054,
     "end_time": "2022-11-02T02:43:54.192206",
     "exception": false,
     "start_time": "2022-11-02T02:43:54.011666",
     "status": "completed"
    },
    "tags": []
   },
   "outputs": [
    {
     "data": {
      "text/plain": [
       "(27481, 4)"
      ]
     },
     "execution_count": 2,
     "metadata": {},
     "output_type": "execute_result"
    }
   ],
   "source": [
    "data_URL = '/kaggle/input/tweetscsv/Tweets.csv'\n",
    "df = pd.read_csv(data_URL)\n",
    "df.shape"
   ]
  },
  {
   "cell_type": "code",
   "execution_count": 3,
   "id": "a3b8120b",
   "metadata": {
    "execution": {
     "iopub.execute_input": "2022-11-02T02:43:54.203031Z",
     "iopub.status.busy": "2022-11-02T02:43:54.202420Z",
     "iopub.status.idle": "2022-11-02T02:43:54.235819Z",
     "shell.execute_reply": "2022-11-02T02:43:54.234147Z"
    },
    "papermill": {
     "duration": 0.044511,
     "end_time": "2022-11-02T02:43:54.240904",
     "exception": false,
     "start_time": "2022-11-02T02:43:54.196393",
     "status": "completed"
    },
    "tags": []
   },
   "outputs": [
    {
     "data": {
      "text/html": [
       "<div>\n",
       "<style scoped>\n",
       "    .dataframe tbody tr th:only-of-type {\n",
       "        vertical-align: middle;\n",
       "    }\n",
       "\n",
       "    .dataframe tbody tr th {\n",
       "        vertical-align: top;\n",
       "    }\n",
       "\n",
       "    .dataframe thead th {\n",
       "        text-align: right;\n",
       "    }\n",
       "</style>\n",
       "<table border=\"1\" class=\"dataframe\">\n",
       "  <thead>\n",
       "    <tr style=\"text-align: right;\">\n",
       "      <th></th>\n",
       "      <th>textID</th>\n",
       "      <th>text</th>\n",
       "      <th>selected_text</th>\n",
       "      <th>sentiment</th>\n",
       "    </tr>\n",
       "  </thead>\n",
       "  <tbody>\n",
       "    <tr>\n",
       "      <th>0</th>\n",
       "      <td>cb774db0d1</td>\n",
       "      <td>I`d have responded, if I were going</td>\n",
       "      <td>I`d have responded, if I were going</td>\n",
       "      <td>neutral</td>\n",
       "    </tr>\n",
       "    <tr>\n",
       "      <th>1</th>\n",
       "      <td>549e992a42</td>\n",
       "      <td>Sooo SAD I will miss you here in San Diego!!!</td>\n",
       "      <td>Sooo SAD</td>\n",
       "      <td>negative</td>\n",
       "    </tr>\n",
       "    <tr>\n",
       "      <th>2</th>\n",
       "      <td>088c60f138</td>\n",
       "      <td>my boss is bullying me...</td>\n",
       "      <td>bullying me</td>\n",
       "      <td>negative</td>\n",
       "    </tr>\n",
       "    <tr>\n",
       "      <th>3</th>\n",
       "      <td>9642c003ef</td>\n",
       "      <td>what interview! leave me alone</td>\n",
       "      <td>leave me alone</td>\n",
       "      <td>negative</td>\n",
       "    </tr>\n",
       "    <tr>\n",
       "      <th>4</th>\n",
       "      <td>358bd9e861</td>\n",
       "      <td>Sons of ****, why couldn`t they put them on t...</td>\n",
       "      <td>Sons of ****,</td>\n",
       "      <td>negative</td>\n",
       "    </tr>\n",
       "    <tr>\n",
       "      <th>5</th>\n",
       "      <td>28b57f3990</td>\n",
       "      <td>http://www.dothebouncy.com/smf - some shameles...</td>\n",
       "      <td>http://www.dothebouncy.com/smf - some shameles...</td>\n",
       "      <td>neutral</td>\n",
       "    </tr>\n",
       "    <tr>\n",
       "      <th>6</th>\n",
       "      <td>6e0c6d75b1</td>\n",
       "      <td>2am feedings for the baby are fun when he is a...</td>\n",
       "      <td>fun</td>\n",
       "      <td>positive</td>\n",
       "    </tr>\n",
       "    <tr>\n",
       "      <th>7</th>\n",
       "      <td>50e14c0bb8</td>\n",
       "      <td>Soooo high</td>\n",
       "      <td>Soooo high</td>\n",
       "      <td>neutral</td>\n",
       "    </tr>\n",
       "    <tr>\n",
       "      <th>8</th>\n",
       "      <td>e050245fbd</td>\n",
       "      <td>Both of you</td>\n",
       "      <td>Both of you</td>\n",
       "      <td>neutral</td>\n",
       "    </tr>\n",
       "    <tr>\n",
       "      <th>9</th>\n",
       "      <td>fc2cbefa9d</td>\n",
       "      <td>Journey!? Wow... u just became cooler.  hehe....</td>\n",
       "      <td>Wow... u just became cooler.</td>\n",
       "      <td>positive</td>\n",
       "    </tr>\n",
       "  </tbody>\n",
       "</table>\n",
       "</div>"
      ],
      "text/plain": [
       "       textID                                               text  \\\n",
       "0  cb774db0d1                I`d have responded, if I were going   \n",
       "1  549e992a42      Sooo SAD I will miss you here in San Diego!!!   \n",
       "2  088c60f138                          my boss is bullying me...   \n",
       "3  9642c003ef                     what interview! leave me alone   \n",
       "4  358bd9e861   Sons of ****, why couldn`t they put them on t...   \n",
       "5  28b57f3990  http://www.dothebouncy.com/smf - some shameles...   \n",
       "6  6e0c6d75b1  2am feedings for the baby are fun when he is a...   \n",
       "7  50e14c0bb8                                         Soooo high   \n",
       "8  e050245fbd                                        Both of you   \n",
       "9  fc2cbefa9d   Journey!? Wow... u just became cooler.  hehe....   \n",
       "\n",
       "                                       selected_text sentiment  \n",
       "0                I`d have responded, if I were going   neutral  \n",
       "1                                           Sooo SAD  negative  \n",
       "2                                        bullying me  negative  \n",
       "3                                     leave me alone  negative  \n",
       "4                                      Sons of ****,  negative  \n",
       "5  http://www.dothebouncy.com/smf - some shameles...   neutral  \n",
       "6                                                fun  positive  \n",
       "7                                         Soooo high   neutral  \n",
       "8                                        Both of you   neutral  \n",
       "9                       Wow... u just became cooler.  positive  "
      ]
     },
     "execution_count": 3,
     "metadata": {},
     "output_type": "execute_result"
    }
   ],
   "source": [
    "df.head(10)"
   ]
  },
  {
   "cell_type": "code",
   "execution_count": 4,
   "id": "e9e36a97",
   "metadata": {
    "execution": {
     "iopub.execute_input": "2022-11-02T02:43:54.253066Z",
     "iopub.status.busy": "2022-11-02T02:43:54.252047Z",
     "iopub.status.idle": "2022-11-02T02:43:54.292041Z",
     "shell.execute_reply": "2022-11-02T02:43:54.289991Z"
    },
    "papermill": {
     "duration": 0.049232,
     "end_time": "2022-11-02T02:43:54.295507",
     "exception": false,
     "start_time": "2022-11-02T02:43:54.246275",
     "status": "completed"
    },
    "tags": []
   },
   "outputs": [
    {
     "name": "stdout",
     "output_type": "stream",
     "text": [
      "<class 'pandas.core.frame.DataFrame'>\n",
      "RangeIndex: 27481 entries, 0 to 27480\n",
      "Data columns (total 4 columns):\n",
      " #   Column         Non-Null Count  Dtype \n",
      "---  ------         --------------  ----- \n",
      " 0   textID         27481 non-null  object\n",
      " 1   text           27480 non-null  object\n",
      " 2   selected_text  27480 non-null  object\n",
      " 3   sentiment      27481 non-null  object\n",
      "dtypes: object(4)\n",
      "memory usage: 858.9+ KB\n"
     ]
    }
   ],
   "source": [
    "df.info()"
   ]
  },
  {
   "cell_type": "code",
   "execution_count": 5,
   "id": "65f2bf9d",
   "metadata": {
    "execution": {
     "iopub.execute_input": "2022-11-02T02:43:54.306509Z",
     "iopub.status.busy": "2022-11-02T02:43:54.305301Z",
     "iopub.status.idle": "2022-11-02T02:43:54.335204Z",
     "shell.execute_reply": "2022-11-02T02:43:54.333591Z"
    },
    "papermill": {
     "duration": 0.038815,
     "end_time": "2022-11-02T02:43:54.338841",
     "exception": false,
     "start_time": "2022-11-02T02:43:54.300026",
     "status": "completed"
    },
    "tags": []
   },
   "outputs": [
    {
     "name": "stdout",
     "output_type": "stream",
     "text": [
      "<class 'pandas.core.frame.DataFrame'>\n",
      "Int64Index: 27480 entries, 0 to 27480\n",
      "Data columns (total 4 columns):\n",
      " #   Column         Non-Null Count  Dtype \n",
      "---  ------         --------------  ----- \n",
      " 0   textID         27480 non-null  object\n",
      " 1   text           27480 non-null  object\n",
      " 2   selected_text  27480 non-null  object\n",
      " 3   sentiment      27480 non-null  object\n",
      "dtypes: object(4)\n",
      "memory usage: 1.0+ MB\n"
     ]
    }
   ],
   "source": [
    "df = df.dropna()\n",
    "df.info()"
   ]
  },
  {
   "cell_type": "code",
   "execution_count": 6,
   "id": "36451d45",
   "metadata": {
    "execution": {
     "iopub.execute_input": "2022-11-02T02:43:54.354348Z",
     "iopub.status.busy": "2022-11-02T02:43:54.353852Z",
     "iopub.status.idle": "2022-11-02T02:43:54.368477Z",
     "shell.execute_reply": "2022-11-02T02:43:54.367153Z"
    },
    "papermill": {
     "duration": 0.025298,
     "end_time": "2022-11-02T02:43:54.370814",
     "exception": false,
     "start_time": "2022-11-02T02:43:54.345516",
     "status": "completed"
    },
    "tags": []
   },
   "outputs": [
    {
     "data": {
      "text/html": [
       "<div>\n",
       "<style scoped>\n",
       "    .dataframe tbody tr th:only-of-type {\n",
       "        vertical-align: middle;\n",
       "    }\n",
       "\n",
       "    .dataframe tbody tr th {\n",
       "        vertical-align: top;\n",
       "    }\n",
       "\n",
       "    .dataframe thead th {\n",
       "        text-align: right;\n",
       "    }\n",
       "</style>\n",
       "<table border=\"1\" class=\"dataframe\">\n",
       "  <thead>\n",
       "    <tr style=\"text-align: right;\">\n",
       "      <th></th>\n",
       "      <th>textID</th>\n",
       "      <th>text</th>\n",
       "      <th>selected_text</th>\n",
       "      <th>sentiment</th>\n",
       "    </tr>\n",
       "  </thead>\n",
       "  <tbody>\n",
       "    <tr>\n",
       "      <th>27476</th>\n",
       "      <td>4eac33d1c0</td>\n",
       "      <td>wish we could come see u on Denver  husband l...</td>\n",
       "      <td>d lost</td>\n",
       "      <td>negative</td>\n",
       "    </tr>\n",
       "    <tr>\n",
       "      <th>27477</th>\n",
       "      <td>4f4c4fc327</td>\n",
       "      <td>I`ve wondered about rake to.  The client has ...</td>\n",
       "      <td>, don`t force</td>\n",
       "      <td>negative</td>\n",
       "    </tr>\n",
       "    <tr>\n",
       "      <th>27478</th>\n",
       "      <td>f67aae2310</td>\n",
       "      <td>Yay good for both of you. Enjoy the break - y...</td>\n",
       "      <td>Yay good for both of you.</td>\n",
       "      <td>positive</td>\n",
       "    </tr>\n",
       "    <tr>\n",
       "      <th>27479</th>\n",
       "      <td>ed167662a5</td>\n",
       "      <td>But it was worth it  ****.</td>\n",
       "      <td>But it was worth it  ****.</td>\n",
       "      <td>positive</td>\n",
       "    </tr>\n",
       "    <tr>\n",
       "      <th>27480</th>\n",
       "      <td>6f7127d9d7</td>\n",
       "      <td>All this flirting going on - The ATG smiles...</td>\n",
       "      <td>All this flirting going on - The ATG smiles. Y...</td>\n",
       "      <td>neutral</td>\n",
       "    </tr>\n",
       "  </tbody>\n",
       "</table>\n",
       "</div>"
      ],
      "text/plain": [
       "           textID                                               text  \\\n",
       "27476  4eac33d1c0   wish we could come see u on Denver  husband l...   \n",
       "27477  4f4c4fc327   I`ve wondered about rake to.  The client has ...   \n",
       "27478  f67aae2310   Yay good for both of you. Enjoy the break - y...   \n",
       "27479  ed167662a5                         But it was worth it  ****.   \n",
       "27480  6f7127d9d7     All this flirting going on - The ATG smiles...   \n",
       "\n",
       "                                           selected_text sentiment  \n",
       "27476                                             d lost  negative  \n",
       "27477                                      , don`t force  negative  \n",
       "27478                          Yay good for both of you.  positive  \n",
       "27479                         But it was worth it  ****.  positive  \n",
       "27480  All this flirting going on - The ATG smiles. Y...   neutral  "
      ]
     },
     "execution_count": 6,
     "metadata": {},
     "output_type": "execute_result"
    }
   ],
   "source": [
    "df.tail()"
   ]
  },
  {
   "cell_type": "code",
   "execution_count": 7,
   "id": "ed2fbcd2",
   "metadata": {
    "execution": {
     "iopub.execute_input": "2022-11-02T02:43:54.382952Z",
     "iopub.status.busy": "2022-11-02T02:43:54.381987Z",
     "iopub.status.idle": "2022-11-02T02:43:54.577338Z",
     "shell.execute_reply": "2022-11-02T02:43:54.574982Z"
    },
    "papermill": {
     "duration": 0.20654,
     "end_time": "2022-11-02T02:43:54.582337",
     "exception": false,
     "start_time": "2022-11-02T02:43:54.375797",
     "status": "completed"
    },
    "tags": []
   },
   "outputs": [
    {
     "name": "stdout",
     "output_type": "stream",
     "text": [
      "neutral     40.454876\n",
      "positive    31.229985\n",
      "negative    28.315138\n",
      "Name: sentiment, dtype: float64\n"
     ]
    },
    {
     "data": {
      "text/plain": [
       "([<matplotlib.patches.Wedge at 0x7f732ef44c50>,\n",
       "  <matplotlib.patches.Wedge at 0x7f732ef595d0>,\n",
       "  <matplotlib.patches.Wedge at 0x7f732ef59e10>],\n",
       " [Text(-1.0509127456270435, 0.3249344565887541, 'Negative'),\n",
       "  Text(0.4094229682749853, -1.0209666170100278, 'Positive'),\n",
       "  Text(0.8544647281492502, 0.6927409532782282, 'Neutral')],\n",
       " [Text(-0.5732251339783874, 0.17723697632113858, '40.5%'),\n",
       "  Text(0.22332161905908288, -0.5568908820054695, '31.2%'),\n",
       "  Text(0.4660716698995909, 0.3778587017881244, '28.3%')])"
      ]
     },
     "execution_count": 7,
     "metadata": {},
     "output_type": "execute_result"
    },
    {
     "data": {
      "image/png": "[encoded data removed]",
      "text/plain": [
       "<Figure size 432x288 with 1 Axes>"
      ]
     },
     "metadata": {},
     "output_type": "display_data"
    }
   ],
   "source": [
    "f=df['sentiment'].value_counts()\n",
    "print((f*100)/f.sum())\n",
    "plt.pie(f,labels=['Negative','Positive','Neutral'],autopct='%1.1f%%',startangle=90)"
   ]
  },
  {
   "cell_type": "code",
   "execution_count": 8,
   "id": "970aec3e",
   "metadata": {
    "execution": {
     "iopub.execute_input": "2022-11-02T02:43:54.609584Z",
     "iopub.status.busy": "2022-11-02T02:43:54.608403Z",
     "iopub.status.idle": "2022-11-02T02:43:56.179125Z",
     "shell.execute_reply": "2022-11-02T02:43:56.177538Z"
    },
    "papermill": {
     "duration": 1.587662,
     "end_time": "2022-11-02T02:43:56.181694",
     "exception": false,
     "start_time": "2022-11-02T02:43:54.594032",
     "status": "completed"
    },
    "tags": []
   },
   "outputs": [
    {
     "data": {
      "text/plain": [
       "<AxesSubplot:xlabel='sentiment', ylabel='count'>"
      ]
     },
     "execution_count": 8,
     "metadata": {},
     "output_type": "execute_result"
    },
    {
     "data": {
      "image/png": "[encoded data removed]",
      "text/plain": [
       "<Figure size 432x288 with 1 Axes>"
      ]
     },
     "metadata": {
      "needs_background": "light"
     },
     "output_type": "display_data"
    }
   ],
   "source": [
    "import seaborn as sns \n",
    "sns.countplot(x=df['sentiment'])"
   ]
  },
  {
   "cell_type": "code",
   "execution_count": 9,
   "id": "64b56bde",
   "metadata": {
    "execution": {
     "iopub.execute_input": "2022-11-02T02:43:56.194340Z",
     "iopub.status.busy": "2022-11-02T02:43:56.193852Z",
     "iopub.status.idle": "2022-11-02T02:43:56.229638Z",
     "shell.execute_reply": "2022-11-02T02:43:56.228678Z"
    },
    "papermill": {
     "duration": 0.044819,
     "end_time": "2022-11-02T02:43:56.231846",
     "exception": false,
     "start_time": "2022-11-02T02:43:56.187027",
     "status": "completed"
    },
    "tags": []
   },
   "outputs": [
    {
     "data": {
      "text/plain": [
       "0"
      ]
     },
     "execution_count": 9,
     "metadata": {},
     "output_type": "execute_result"
    }
   ],
   "source": [
    "df.duplicated().sum()"
   ]
  }
 ],
 "metadata": {
  "kernelspec": {
   "display_name": "Python 3",
   "language": "python",
   "name": "python3"
  },
  "language_info": {
   "codemirror_mode": {
    "name": "ipython",
    "version": 3
   },
   "file_extension": ".py",
   "mimetype": "text/x-python",
   "name": "python",
   "nbconvert_exporter": "python",
   "pygments_lexer": "ipython3",
   "version": "3.7.12"
  },
  "papermill": {
   "default_parameters": {},
   "duration": 13.55344,
   "end_time": "2022-11-02T02:43:57.364310",
   "environment_variables": {},
   "exception": null,
   "input_path": "__notebook__.ipynb",
   "output_path": "__notebook__.ipynb",
   "parameters": {},
   "start_time": "2022-11-02T02:43:43.810870",
   "version": "2.3.4"
  }
 },
 "nbformat": 4,
 "nbformat_minor": 5
}
