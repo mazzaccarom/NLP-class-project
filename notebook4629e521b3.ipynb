{
 "cells": [
  {
   "attachments": {},
   "cell_type": "markdown",
   "id": "e1bfb00b",
   "metadata": {
    "papermill": {
     "duration": 0.024517,
     "end_time": "2022-12-04T04:11:55.388661",
     "exception": false,
     "start_time": "2022-12-04T04:11:55.364144",
     "status": "completed"
    },
    "tags": []
   },
   "source": [
    "For part 3 I kept the same notebook and modified the cells. \n",
    "\n",
    "A Bit about the data set:\n",
    "\n",
    " It is from here: https://www.kaggle.com/c/jigsaw-unintended-bias-in-toxicity-classification/data. This was a kaggle competion from 3 years ago. The top three leaders had a score of: \n",
    " \n",
    " 1[.94734]\n",
    " 2[.94720]\n",
    " 3[.94707]\n",
    " \n",
    " The data set has over 1.8 million text data from 2015-2017. These text was analyzed with several toxicty and identity labels to provide a target value between 0 and 1, where above 0.5 is considered toxic. For the purpose of my assignment I will divide the target value in to 2 categories: positive, negative, though there is significate opportunity to increase the number of sentiment values. At first try I will define 0 to less than .50 to be positive, and .5 and greater to be negative. I will use the multi-layer perceptron used in the the class notebook  https://github.com/sgeinitz/cs39aa_notebooks to solve this classification problem. \n",
    " \n",
    " For this assignemet I added 2 more classifictaion models which I used to classify the text, then to train the MLP model, then test how well the MLP model preforms with the different classified text data sets. \n",
    " \n",
    " "
   ]
  },
  {
   "attachments": {},
   "cell_type": "markdown",
   "id": "7c7c93b2",
   "metadata": {
    "papermill": {
     "duration": 0.019764,
     "end_time": "2022-12-04T04:11:55.427989",
     "exception": false,
     "start_time": "2022-12-04T04:11:55.408225",
     "status": "completed"
    },
    "tags": []
   },
   "source": [
    "Kaggel is smart enough to supply the model, good thing."
   ]
  },
  {
   "cell_type": "code",
   "execution_count": 1,
   "id": "2d5cfe96",
   "metadata": {
    "execution": {
     "iopub.execute_input": "2022-12-04T04:11:55.469678Z",
     "iopub.status.busy": "2022-12-04T04:11:55.468739Z",
     "iopub.status.idle": "2022-12-04T04:12:22.572036Z",
     "shell.execute_reply": "2022-12-04T04:12:22.570727Z"
    },
    "papermill": {
     "duration": 27.127108,
     "end_time": "2022-12-04T04:12:22.574949",
     "exception": false,
     "start_time": "2022-12-04T04:11:55.447841",
     "status": "completed"
    },
    "tags": []
   },
   "outputs": [
    {
     "name": "stderr",
     "output_type": "stream",
     "text": [
      "No model was supplied, defaulted to distilbert-base-uncased-finetuned-sst-2-english (https://huggingface.co/distilbert-base-uncased-finetuned-sst-2-english)\n"
     ]
    },
    {
     "data": {
      "application/vnd.jupyter.widget-view+json": {
       "model_id": "19d75e797ff743f5ac640f2b42573a57",
       "version_major": 2,
       "version_minor": 0
      },
      "text/plain": [
       "Downloading:   0%|          | 0.00/629 [00:00<?, ?B/s]"
      ]
     },
     "metadata": {},
     "output_type": "display_data"
    },
    {
     "name": "stderr",
     "output_type": "stream",
     "text": [
      "2022-12-04 04:12:10.079085: I tensorflow/core/common_runtime/process_util.cc:146] Creating new thread pool with default inter op setting: 2. Tune using inter_op_parallelism_threads for best performance.\n"
     ]
    },
    {
     "data": {
      "application/vnd.jupyter.widget-view+json": {
       "model_id": "e79eeb22d1194b48bbf5fe791e6a7ab2",
       "version_major": 2,
       "version_minor": 0
      },
      "text/plain": [
       "Downloading:   0%|          | 0.00/255M [00:00<?, ?B/s]"
      ]
     },
     "metadata": {},
     "output_type": "display_data"
    },
    {
     "data": {
      "application/vnd.jupyter.widget-view+json": {
       "model_id": "a60a497ff3b144a8b1e4f97a2d5786ca",
       "version_major": 2,
       "version_minor": 0
      },
      "text/plain": [
       "Downloading:   0%|          | 0.00/48.0 [00:00<?, ?B/s]"
      ]
     },
     "metadata": {},
     "output_type": "display_data"
    },
    {
     "data": {
      "application/vnd.jupyter.widget-view+json": {
       "model_id": "c232a5535f224944b050503168271e08",
       "version_major": 2,
       "version_minor": 0
      },
      "text/plain": [
       "Downloading:   0%|          | 0.00/226k [00:00<?, ?B/s]"
      ]
     },
     "metadata": {},
     "output_type": "display_data"
    }
   ],
   "source": [
    "from transformers import pipeline\n",
    "\n",
    "classifier = pipeline(\"sentiment-analysis\")"
   ]
  },
  {
   "attachments": {},
   "cell_type": "markdown",
   "id": "bdcfb52e",
   "metadata": {
    "papermill": {
     "duration": 0.019416,
     "end_time": "2022-12-04T04:12:22.615715",
     "exception": false,
     "start_time": "2022-12-04T04:12:22.596299",
     "status": "completed"
    },
    "tags": []
   },
   "source": [
    "The below two text comments are from the data set and had suspect ratings of positive. Though these text comments had a 'rejected' rating and were not used in the training dataset. I wanted to see how the pretrained model evaluated them."
   ]
  },
  {
   "cell_type": "code",
   "execution_count": 2,
   "id": "538a6b8d",
   "metadata": {
    "execution": {
     "iopub.execute_input": "2022-12-04T04:12:22.658163Z",
     "iopub.status.busy": "2022-12-04T04:12:22.656359Z",
     "iopub.status.idle": "2022-12-04T04:12:22.839786Z",
     "shell.execute_reply": "2022-12-04T04:12:22.838072Z"
    },
    "papermill": {
     "duration": 0.207561,
     "end_time": "2022-12-04T04:12:22.842719",
     "exception": false,
     "start_time": "2022-12-04T04:12:22.635158",
     "status": "completed"
    },
    "tags": []
   },
   "outputs": [
    {
     "name": "stdout",
     "output_type": "stream",
     "text": [
      "label: NEGATIVE, with score: 0.9866\n",
      "label: NEGATIVE, with score: 0.8328\n"
     ]
    }
   ],
   "source": [
    "result = classifier(\"FFFFUUUUUUUUUUUUUUU\")[0]\n",
    "print(f\"label: {result['label']}, with score: {round(result['score'], 4)}\")\n",
    "\n",
    "result = classifier(\"hahahahahahahahhha suck it.\")[0]\n",
    "print(f\"label: {result['label']}, with score: {round(result['score'], 4)}\")"
   ]
  },
  {
   "cell_type": "code",
   "execution_count": 3,
   "id": "4ba07f5c",
   "metadata": {
    "execution": {
     "iopub.execute_input": "2022-12-04T04:12:22.887728Z",
     "iopub.status.busy": "2022-12-04T04:12:22.887166Z",
     "iopub.status.idle": "2022-12-04T04:12:23.909637Z",
     "shell.execute_reply": "2022-12-04T04:12:23.907660Z"
    },
    "papermill": {
     "duration": 1.047042,
     "end_time": "2022-12-04T04:12:23.912288",
     "exception": false,
     "start_time": "2022-12-04T04:12:22.865246",
     "status": "completed"
    },
    "tags": []
   },
   "outputs": [
    {
     "name": "stderr",
     "output_type": "stream",
     "text": [
      "[nltk_data] Downloading package wordnet to /usr/share/nltk_data...\n",
      "[nltk_data]   Package wordnet is already up-to-date!\n",
      "[nltk_data] Downloading package omw-1.4 to /usr/share/nltk_data...\n"
     ]
    },
    {
     "name": "stdout",
     "output_type": "stream",
     "text": [
      "/kaggle/input/jigsaw-unintended-bias-in-toxicity-classification/sample_submission.csv\n",
      "/kaggle/input/jigsaw-unintended-bias-in-toxicity-classification/all_data.csv\n",
      "/kaggle/input/jigsaw-unintended-bias-in-toxicity-classification/test_public_expanded.csv\n",
      "/kaggle/input/jigsaw-unintended-bias-in-toxicity-classification/test_private_expanded.csv\n",
      "/kaggle/input/jigsaw-unintended-bias-in-toxicity-classification/toxicity_individual_annotations.csv\n",
      "/kaggle/input/jigsaw-unintended-bias-in-toxicity-classification/train.csv\n",
      "/kaggle/input/jigsaw-unintended-bias-in-toxicity-classification/identity_individual_annotations.csv\n",
      "/kaggle/input/jigsaw-unintended-bias-in-toxicity-classification/test.csv\n"
     ]
    }
   ],
   "source": [
    "import torch\n",
    "import random\n",
    "import matplotlib\n",
    "\n",
    "import nltk\n",
    "nltk.download('wordnet')\n",
    "nltk.download('omw-1.4')\n",
    "\n",
    "import torch.nn as nn\n",
    "import torch.nn.functional as F\n",
    "import torch.optim as optim\n",
    "import pandas as pd\n",
    "import numpy as np\n",
    "import matplotlib.pyplot as plt\n",
    "from tqdm import notebook\n",
    "from torch.utils.data import Dataset, DataLoader\n",
    "\n",
    "import os\n",
    "for dirname, _, filenames in os.walk('/kaggle/input'):\n",
    "    for filename in filenames:\n",
    "        print(os.path.join(dirname, filename))\n"
   ]
  },
  {
   "attachments": {},
   "cell_type": "markdown",
   "id": "4aaf989f",
   "metadata": {
    "papermill": {
     "duration": 0.020276,
     "end_time": "2022-12-04T04:12:23.952534",
     "exception": false,
     "start_time": "2022-12-04T04:12:23.932258",
     "status": "completed"
    },
    "tags": []
   },
   "source": [
    "TextBlob is a python libirary that I was introduced to from the powerfull tool, TikTok. So I decided to use it for some fun comparison. \"TextBlob stands on the giant shoulders of NLTK and pattern, and plays nicely with both.\" -https://textblob.readthedocs.io/en/dev/"
   ]
  },
  {
   "cell_type": "code",
   "execution_count": 4,
   "id": "0f2374da",
   "metadata": {
    "execution": {
     "iopub.execute_input": "2022-12-04T04:12:23.994631Z",
     "iopub.status.busy": "2022-12-04T04:12:23.993933Z",
     "iopub.status.idle": "2022-12-04T04:12:24.051360Z",
     "shell.execute_reply": "2022-12-04T04:12:24.050142Z"
    },
    "papermill": {
     "duration": 0.082038,
     "end_time": "2022-12-04T04:12:24.054338",
     "exception": false,
     "start_time": "2022-12-04T04:12:23.972300",
     "status": "completed"
    },
    "tags": []
   },
   "outputs": [],
   "source": [
    "from textblob import TextBlob\n",
    "text = \" Today is a dramatic day\"\n",
    "blob = TextBlob(text)"
   ]
  },
  {
   "attachments": {},
   "cell_type": "markdown",
   "id": "4cf17b3c",
   "metadata": {
    "papermill": {
     "duration": 0.019449,
     "end_time": "2022-12-04T04:12:24.094228",
     "exception": false,
     "start_time": "2022-12-04T04:12:24.074779",
     "status": "completed"
    },
    "tags": []
   },
   "source": [
    "TextBlob provides some fun and usefull stuff."
   ]
  },
  {
   "cell_type": "code",
   "execution_count": 5,
   "id": "647302bd",
   "metadata": {
    "execution": {
     "iopub.execute_input": "2022-12-04T04:12:24.136745Z",
     "iopub.status.busy": "2022-12-04T04:12:24.136320Z",
     "iopub.status.idle": "2022-12-04T04:12:24.298156Z",
     "shell.execute_reply": "2022-12-04T04:12:24.296597Z"
    },
    "papermill": {
     "duration": 0.187727,
     "end_time": "2022-12-04T04:12:24.301879",
     "exception": false,
     "start_time": "2022-12-04T04:12:24.114152",
     "status": "completed"
    },
    "tags": []
   },
   "outputs": [
    {
     "data": {
      "text/plain": [
       "[('Today', 'NN'),\n",
       " ('is', 'VBZ'),\n",
       " ('a', 'DT'),\n",
       " ('dramatic', 'JJ'),\n",
       " ('day', 'NN')]"
      ]
     },
     "execution_count": 5,
     "metadata": {},
     "output_type": "execute_result"
    }
   ],
   "source": [
    "blob.tags"
   ]
  },
  {
   "cell_type": "code",
   "execution_count": 6,
   "id": "6367ec9f",
   "metadata": {
    "execution": {
     "iopub.execute_input": "2022-12-04T04:12:24.346826Z",
     "iopub.status.busy": "2022-12-04T04:12:24.346126Z",
     "iopub.status.idle": "2022-12-04T04:12:24.402654Z",
     "shell.execute_reply": "2022-12-04T04:12:24.401735Z"
    },
    "papermill": {
     "duration": 0.08099,
     "end_time": "2022-12-04T04:12:24.405175",
     "exception": false,
     "start_time": "2022-12-04T04:12:24.324185",
     "status": "completed"
    },
    "tags": []
   },
   "outputs": [
    {
     "data": {
      "text/plain": [
       "Sentiment(polarity=-0.4333333333333333, subjectivity=0.6)"
      ]
     },
     "execution_count": 6,
     "metadata": {},
     "output_type": "execute_result"
    }
   ],
   "source": [
    "blob.sentiment"
   ]
  },
  {
   "cell_type": "code",
   "execution_count": 7,
   "id": "d466a9e4",
   "metadata": {
    "execution": {
     "iopub.execute_input": "2022-12-04T04:12:24.448203Z",
     "iopub.status.busy": "2022-12-04T04:12:24.447050Z",
     "iopub.status.idle": "2022-12-04T04:12:52.312874Z",
     "shell.execute_reply": "2022-12-04T04:12:52.311600Z"
    },
    "papermill": {
     "duration": 27.890283,
     "end_time": "2022-12-04T04:12:52.316046",
     "exception": false,
     "start_time": "2022-12-04T04:12:24.425763",
     "status": "completed"
    },
    "tags": []
   },
   "outputs": [],
   "source": [
    "df_original = pd.read_csv(\"../input/jigsaw-unintended-bias-in-toxicity-classification/train.csv\")"
   ]
  },
  {
   "cell_type": "code",
   "execution_count": 8,
   "id": "e8928091",
   "metadata": {
    "execution": {
     "iopub.execute_input": "2022-12-04T04:12:52.359646Z",
     "iopub.status.busy": "2022-12-04T04:12:52.359163Z",
     "iopub.status.idle": "2022-12-04T04:12:52.400587Z",
     "shell.execute_reply": "2022-12-04T04:12:52.399350Z"
    },
    "papermill": {
     "duration": 0.066954,
     "end_time": "2022-12-04T04:12:52.403421",
     "exception": false,
     "start_time": "2022-12-04T04:12:52.336467",
     "status": "completed"
    },
    "tags": []
   },
   "outputs": [
    {
     "data": {
      "text/html": [
       "<div>\n",
       "<style scoped>\n",
       "    .dataframe tbody tr th:only-of-type {\n",
       "        vertical-align: middle;\n",
       "    }\n",
       "\n",
       "    .dataframe tbody tr th {\n",
       "        vertical-align: top;\n",
       "    }\n",
       "\n",
       "    .dataframe thead th {\n",
       "        text-align: right;\n",
       "    }\n",
       "</style>\n",
       "<table border=\"1\" class=\"dataframe\">\n",
       "  <thead>\n",
       "    <tr style=\"text-align: right;\">\n",
       "      <th></th>\n",
       "      <th>id</th>\n",
       "      <th>target</th>\n",
       "      <th>comment_text</th>\n",
       "      <th>severe_toxicity</th>\n",
       "      <th>obscene</th>\n",
       "      <th>identity_attack</th>\n",
       "      <th>insult</th>\n",
       "      <th>threat</th>\n",
       "      <th>asian</th>\n",
       "      <th>atheist</th>\n",
       "      <th>...</th>\n",
       "      <th>article_id</th>\n",
       "      <th>rating</th>\n",
       "      <th>funny</th>\n",
       "      <th>wow</th>\n",
       "      <th>sad</th>\n",
       "      <th>likes</th>\n",
       "      <th>disagree</th>\n",
       "      <th>sexual_explicit</th>\n",
       "      <th>identity_annotator_count</th>\n",
       "      <th>toxicity_annotator_count</th>\n",
       "    </tr>\n",
       "  </thead>\n",
       "  <tbody>\n",
       "    <tr>\n",
       "      <th>0</th>\n",
       "      <td>59848</td>\n",
       "      <td>0.000000</td>\n",
       "      <td>This is so cool. It's like, 'would you want yo...</td>\n",
       "      <td>0.000000</td>\n",
       "      <td>0.000000</td>\n",
       "      <td>0.000000</td>\n",
       "      <td>0.000000</td>\n",
       "      <td>0.0</td>\n",
       "      <td>NaN</td>\n",
       "      <td>NaN</td>\n",
       "      <td>...</td>\n",
       "      <td>2006</td>\n",
       "      <td>rejected</td>\n",
       "      <td>0</td>\n",
       "      <td>0</td>\n",
       "      <td>0</td>\n",
       "      <td>0</td>\n",
       "      <td>0</td>\n",
       "      <td>0.000000</td>\n",
       "      <td>0</td>\n",
       "      <td>4</td>\n",
       "    </tr>\n",
       "    <tr>\n",
       "      <th>1</th>\n",
       "      <td>59849</td>\n",
       "      <td>0.000000</td>\n",
       "      <td>Thank you!! This would make my life a lot less...</td>\n",
       "      <td>0.000000</td>\n",
       "      <td>0.000000</td>\n",
       "      <td>0.000000</td>\n",
       "      <td>0.000000</td>\n",
       "      <td>0.0</td>\n",
       "      <td>NaN</td>\n",
       "      <td>NaN</td>\n",
       "      <td>...</td>\n",
       "      <td>2006</td>\n",
       "      <td>rejected</td>\n",
       "      <td>0</td>\n",
       "      <td>0</td>\n",
       "      <td>0</td>\n",
       "      <td>0</td>\n",
       "      <td>0</td>\n",
       "      <td>0.000000</td>\n",
       "      <td>0</td>\n",
       "      <td>4</td>\n",
       "    </tr>\n",
       "    <tr>\n",
       "      <th>2</th>\n",
       "      <td>59852</td>\n",
       "      <td>0.000000</td>\n",
       "      <td>This is such an urgent design problem; kudos t...</td>\n",
       "      <td>0.000000</td>\n",
       "      <td>0.000000</td>\n",
       "      <td>0.000000</td>\n",
       "      <td>0.000000</td>\n",
       "      <td>0.0</td>\n",
       "      <td>NaN</td>\n",
       "      <td>NaN</td>\n",
       "      <td>...</td>\n",
       "      <td>2006</td>\n",
       "      <td>rejected</td>\n",
       "      <td>0</td>\n",
       "      <td>0</td>\n",
       "      <td>0</td>\n",
       "      <td>0</td>\n",
       "      <td>0</td>\n",
       "      <td>0.000000</td>\n",
       "      <td>0</td>\n",
       "      <td>4</td>\n",
       "    </tr>\n",
       "    <tr>\n",
       "      <th>3</th>\n",
       "      <td>59855</td>\n",
       "      <td>0.000000</td>\n",
       "      <td>Is this something I'll be able to install on m...</td>\n",
       "      <td>0.000000</td>\n",
       "      <td>0.000000</td>\n",
       "      <td>0.000000</td>\n",
       "      <td>0.000000</td>\n",
       "      <td>0.0</td>\n",
       "      <td>NaN</td>\n",
       "      <td>NaN</td>\n",
       "      <td>...</td>\n",
       "      <td>2006</td>\n",
       "      <td>rejected</td>\n",
       "      <td>0</td>\n",
       "      <td>0</td>\n",
       "      <td>0</td>\n",
       "      <td>0</td>\n",
       "      <td>0</td>\n",
       "      <td>0.000000</td>\n",
       "      <td>0</td>\n",
       "      <td>4</td>\n",
       "    </tr>\n",
       "    <tr>\n",
       "      <th>4</th>\n",
       "      <td>59856</td>\n",
       "      <td>0.893617</td>\n",
       "      <td>haha you guys are a bunch of losers.</td>\n",
       "      <td>0.021277</td>\n",
       "      <td>0.000000</td>\n",
       "      <td>0.021277</td>\n",
       "      <td>0.872340</td>\n",
       "      <td>0.0</td>\n",
       "      <td>0.0</td>\n",
       "      <td>0.0</td>\n",
       "      <td>...</td>\n",
       "      <td>2006</td>\n",
       "      <td>rejected</td>\n",
       "      <td>0</td>\n",
       "      <td>0</td>\n",
       "      <td>0</td>\n",
       "      <td>1</td>\n",
       "      <td>0</td>\n",
       "      <td>0.000000</td>\n",
       "      <td>4</td>\n",
       "      <td>47</td>\n",
       "    </tr>\n",
       "    <tr>\n",
       "      <th>5</th>\n",
       "      <td>59859</td>\n",
       "      <td>0.666667</td>\n",
       "      <td>ur a sh*tty comment.</td>\n",
       "      <td>0.047619</td>\n",
       "      <td>0.638095</td>\n",
       "      <td>0.000000</td>\n",
       "      <td>0.333333</td>\n",
       "      <td>0.0</td>\n",
       "      <td>NaN</td>\n",
       "      <td>NaN</td>\n",
       "      <td>...</td>\n",
       "      <td>2006</td>\n",
       "      <td>rejected</td>\n",
       "      <td>0</td>\n",
       "      <td>0</td>\n",
       "      <td>0</td>\n",
       "      <td>0</td>\n",
       "      <td>0</td>\n",
       "      <td>0.009524</td>\n",
       "      <td>0</td>\n",
       "      <td>105</td>\n",
       "    </tr>\n",
       "    <tr>\n",
       "      <th>6</th>\n",
       "      <td>59861</td>\n",
       "      <td>0.457627</td>\n",
       "      <td>hahahahahahahahhha suck it.</td>\n",
       "      <td>0.050847</td>\n",
       "      <td>0.305085</td>\n",
       "      <td>0.000000</td>\n",
       "      <td>0.254237</td>\n",
       "      <td>0.0</td>\n",
       "      <td>NaN</td>\n",
       "      <td>NaN</td>\n",
       "      <td>...</td>\n",
       "      <td>2006</td>\n",
       "      <td>rejected</td>\n",
       "      <td>0</td>\n",
       "      <td>0</td>\n",
       "      <td>0</td>\n",
       "      <td>0</td>\n",
       "      <td>0</td>\n",
       "      <td>0.220339</td>\n",
       "      <td>0</td>\n",
       "      <td>59</td>\n",
       "    </tr>\n",
       "    <tr>\n",
       "      <th>7</th>\n",
       "      <td>59863</td>\n",
       "      <td>0.000000</td>\n",
       "      <td>FFFFUUUUUUUUUUUUUUU</td>\n",
       "      <td>0.000000</td>\n",
       "      <td>0.000000</td>\n",
       "      <td>0.000000</td>\n",
       "      <td>0.000000</td>\n",
       "      <td>0.0</td>\n",
       "      <td>NaN</td>\n",
       "      <td>NaN</td>\n",
       "      <td>...</td>\n",
       "      <td>2006</td>\n",
       "      <td>rejected</td>\n",
       "      <td>0</td>\n",
       "      <td>0</td>\n",
       "      <td>0</td>\n",
       "      <td>0</td>\n",
       "      <td>0</td>\n",
       "      <td>0.000000</td>\n",
       "      <td>0</td>\n",
       "      <td>4</td>\n",
       "    </tr>\n",
       "    <tr>\n",
       "      <th>8</th>\n",
       "      <td>239575</td>\n",
       "      <td>0.000000</td>\n",
       "      <td>The ranchers seem motivated by mostly by greed...</td>\n",
       "      <td>0.000000</td>\n",
       "      <td>0.000000</td>\n",
       "      <td>0.000000</td>\n",
       "      <td>0.000000</td>\n",
       "      <td>0.0</td>\n",
       "      <td>NaN</td>\n",
       "      <td>NaN</td>\n",
       "      <td>...</td>\n",
       "      <td>26662</td>\n",
       "      <td>approved</td>\n",
       "      <td>0</td>\n",
       "      <td>0</td>\n",
       "      <td>0</td>\n",
       "      <td>0</td>\n",
       "      <td>0</td>\n",
       "      <td>0.000000</td>\n",
       "      <td>0</td>\n",
       "      <td>4</td>\n",
       "    </tr>\n",
       "    <tr>\n",
       "      <th>9</th>\n",
       "      <td>239576</td>\n",
       "      <td>0.000000</td>\n",
       "      <td>It was a great show. Not a combo I'd of expect...</td>\n",
       "      <td>0.000000</td>\n",
       "      <td>0.000000</td>\n",
       "      <td>0.000000</td>\n",
       "      <td>0.000000</td>\n",
       "      <td>0.0</td>\n",
       "      <td>NaN</td>\n",
       "      <td>NaN</td>\n",
       "      <td>...</td>\n",
       "      <td>26650</td>\n",
       "      <td>approved</td>\n",
       "      <td>0</td>\n",
       "      <td>0</td>\n",
       "      <td>0</td>\n",
       "      <td>1</td>\n",
       "      <td>0</td>\n",
       "      <td>0.000000</td>\n",
       "      <td>0</td>\n",
       "      <td>4</td>\n",
       "    </tr>\n",
       "  </tbody>\n",
       "</table>\n",
       "<p>10 rows × 45 columns</p>\n",
       "</div>"
      ],
      "text/plain": [
       "       id    target                                       comment_text  \\\n",
       "0   59848  0.000000  This is so cool. It's like, 'would you want yo...   \n",
       "1   59849  0.000000  Thank you!! This would make my life a lot less...   \n",
       "2   59852  0.000000  This is such an urgent design problem; kudos t...   \n",
       "3   59855  0.000000  Is this something I'll be able to install on m...   \n",
       "4   59856  0.893617               haha you guys are a bunch of losers.   \n",
       "5   59859  0.666667                               ur a sh*tty comment.   \n",
       "6   59861  0.457627                        hahahahahahahahhha suck it.   \n",
       "7   59863  0.000000                                FFFFUUUUUUUUUUUUUUU   \n",
       "8  239575  0.000000  The ranchers seem motivated by mostly by greed...   \n",
       "9  239576  0.000000  It was a great show. Not a combo I'd of expect...   \n",
       "\n",
       "   severe_toxicity   obscene  identity_attack    insult  threat  asian  \\\n",
       "0         0.000000  0.000000         0.000000  0.000000     0.0    NaN   \n",
       "1         0.000000  0.000000         0.000000  0.000000     0.0    NaN   \n",
       "2         0.000000  0.000000         0.000000  0.000000     0.0    NaN   \n",
       "3         0.000000  0.000000         0.000000  0.000000     0.0    NaN   \n",
       "4         0.021277  0.000000         0.021277  0.872340     0.0    0.0   \n",
       "5         0.047619  0.638095         0.000000  0.333333     0.0    NaN   \n",
       "6         0.050847  0.305085         0.000000  0.254237     0.0    NaN   \n",
       "7         0.000000  0.000000         0.000000  0.000000     0.0    NaN   \n",
       "8         0.000000  0.000000         0.000000  0.000000     0.0    NaN   \n",
       "9         0.000000  0.000000         0.000000  0.000000     0.0    NaN   \n",
       "\n",
       "   atheist  ...  article_id    rating  funny  wow  sad  likes  disagree  \\\n",
       "0      NaN  ...        2006  rejected      0    0    0      0         0   \n",
       "1      NaN  ...        2006  rejected      0    0    0      0         0   \n",
       "2      NaN  ...        2006  rejected      0    0    0      0         0   \n",
       "3      NaN  ...        2006  rejected      0    0    0      0         0   \n",
       "4      0.0  ...        2006  rejected      0    0    0      1         0   \n",
       "5      NaN  ...        2006  rejected      0    0    0      0         0   \n",
       "6      NaN  ...        2006  rejected      0    0    0      0         0   \n",
       "7      NaN  ...        2006  rejected      0    0    0      0         0   \n",
       "8      NaN  ...       26662  approved      0    0    0      0         0   \n",
       "9      NaN  ...       26650  approved      0    0    0      1         0   \n",
       "\n",
       "   sexual_explicit  identity_annotator_count  toxicity_annotator_count  \n",
       "0         0.000000                         0                         4  \n",
       "1         0.000000                         0                         4  \n",
       "2         0.000000                         0                         4  \n",
       "3         0.000000                         0                         4  \n",
       "4         0.000000                         4                        47  \n",
       "5         0.009524                         0                       105  \n",
       "6         0.220339                         0                        59  \n",
       "7         0.000000                         0                         4  \n",
       "8         0.000000                         0                         4  \n",
       "9         0.000000                         0                         4  \n",
       "\n",
       "[10 rows x 45 columns]"
      ]
     },
     "execution_count": 8,
     "metadata": {},
     "output_type": "execute_result"
    }
   ],
   "source": [
    "df_original.head(10)"
   ]
  },
  {
   "attachments": {},
   "cell_type": "markdown",
   "id": "40890a6a",
   "metadata": {
    "papermill": {
     "duration": 0.021276,
     "end_time": "2022-12-04T04:12:52.446028",
     "exception": false,
     "start_time": "2022-12-04T04:12:52.424752",
     "status": "completed"
    },
    "tags": []
   },
   "source": [
    "The below cell is where I try to clean up the data a bit. This method takes a long time, so I used a small fraction of the data available. My goal was to get close to 100k approved entries. This method is horribly long"
   ]
  },
  {
   "cell_type": "code",
   "execution_count": 9,
   "id": "c85a7816",
   "metadata": {
    "execution": {
     "iopub.execute_input": "2022-12-04T04:12:52.489898Z",
     "iopub.status.busy": "2022-12-04T04:12:52.488729Z",
     "iopub.status.idle": "2022-12-04T04:38:01.247386Z",
     "shell.execute_reply": "2022-12-04T04:38:01.245882Z"
    },
    "papermill": {
     "duration": 1508.783608,
     "end_time": "2022-12-04T04:38:01.250324",
     "exception": false,
     "start_time": "2022-12-04T04:12:52.466716",
     "status": "completed"
    },
    "tags": []
   },
   "outputs": [],
   "source": [
    "df_approved = pd.DataFrame()\n",
    "i=0\n",
    "for index, row in df_original.iterrows():\n",
    "    if i < 100000:\n",
    "        i=i+1\n",
    "        if (row[\"rating\"] == 'approved'):\n",
    "            df_approved = df_approved.append(row)\n",
    "    else:\n",
    "        break"
   ]
  },
  {
   "cell_type": "code",
   "execution_count": 10,
   "id": "19fbb2e1",
   "metadata": {
    "execution": {
     "iopub.execute_input": "2022-12-04T04:38:01.298187Z",
     "iopub.status.busy": "2022-12-04T04:38:01.297798Z",
     "iopub.status.idle": "2022-12-04T04:38:01.304944Z",
     "shell.execute_reply": "2022-12-04T04:38:01.303598Z"
    },
    "papermill": {
     "duration": 0.033839,
     "end_time": "2022-12-04T04:38:01.307906",
     "exception": false,
     "start_time": "2022-12-04T04:38:01.274067",
     "status": "completed"
    },
    "tags": []
   },
   "outputs": [
    {
     "data": {
      "text/plain": [
       "(94729, 45)"
      ]
     },
     "execution_count": 10,
     "metadata": {},
     "output_type": "execute_result"
    }
   ],
   "source": [
    "df_approved.shape"
   ]
  },
  {
   "attachments": {},
   "cell_type": "markdown",
   "id": "aa0dfaef",
   "metadata": {
    "papermill": {
     "duration": 0.02024,
     "end_time": "2022-12-04T04:38:01.349363",
     "exception": false,
     "start_time": "2022-12-04T04:38:01.329123",
     "status": "completed"
    },
    "tags": []
   },
   "source": [
    "Assigning sentiment."
   ]
  },
  {
   "cell_type": "code",
   "execution_count": 11,
   "id": "ca2d2add",
   "metadata": {
    "execution": {
     "iopub.execute_input": "2022-12-04T04:38:01.393927Z",
     "iopub.status.busy": "2022-12-04T04:38:01.393428Z",
     "iopub.status.idle": "2022-12-04T04:38:07.597860Z",
     "shell.execute_reply": "2022-12-04T04:38:07.596392Z"
    },
    "papermill": {
     "duration": 6.230617,
     "end_time": "2022-12-04T04:38:07.600730",
     "exception": false,
     "start_time": "2022-12-04T04:38:01.370113",
     "status": "completed"
    },
    "tags": []
   },
   "outputs": [],
   "source": [
    "sentiment = []\n",
    "for index, row in df_approved.iterrows():\n",
    "    if (row[\"target\"] >= 0.50):\n",
    "        sentiment.append(\"negative\")\n",
    "    else:\n",
    "        sentiment.append(\"positive\")"
   ]
  },
  {
   "attachments": {},
   "cell_type": "markdown",
   "id": "8962f3bb",
   "metadata": {
    "papermill": {
     "duration": 0.021956,
     "end_time": "2022-12-04T04:38:07.645684",
     "exception": false,
     "start_time": "2022-12-04T04:38:07.623728",
     "status": "completed"
    },
    "tags": []
   },
   "source": [
    "Inserting the sentiment value and checking the value split."
   ]
  },
  {
   "cell_type": "code",
   "execution_count": 12,
   "id": "41fe6160",
   "metadata": {
    "execution": {
     "iopub.execute_input": "2022-12-04T04:38:07.691778Z",
     "iopub.status.busy": "2022-12-04T04:38:07.691330Z",
     "iopub.status.idle": "2022-12-04T04:38:07.713079Z",
     "shell.execute_reply": "2022-12-04T04:38:07.712181Z"
    },
    "papermill": {
     "duration": 0.047115,
     "end_time": "2022-12-04T04:38:07.715329",
     "exception": false,
     "start_time": "2022-12-04T04:38:07.668214",
     "status": "completed"
    },
    "tags": []
   },
   "outputs": [
    {
     "data": {
      "text/plain": [
       "positive    0.941475\n",
       "negative    0.058525\n",
       "Name: sentiment, dtype: float64"
      ]
     },
     "execution_count": 12,
     "metadata": {},
     "output_type": "execute_result"
    }
   ],
   "source": [
    "df_approved.insert(loc=1, column=\"sentiment\", value = sentiment) \n",
    "df_approved.sentiment.value_counts(normalize=True)"
   ]
  },
  {
   "attachments": {},
   "cell_type": "markdown",
   "id": "5b49589f",
   "metadata": {
    "papermill": {
     "duration": 0.022104,
     "end_time": "2022-12-04T04:38:07.760045",
     "exception": false,
     "start_time": "2022-12-04T04:38:07.737941",
     "status": "completed"
    },
    "tags": []
   },
   "source": [
    "A little more data clean up."
   ]
  },
  {
   "cell_type": "code",
   "execution_count": 13,
   "id": "00cadbff",
   "metadata": {
    "execution": {
     "iopub.execute_input": "2022-12-04T04:38:07.806100Z",
     "iopub.status.busy": "2022-12-04T04:38:07.805624Z",
     "iopub.status.idle": "2022-12-04T04:38:07.834082Z",
     "shell.execute_reply": "2022-12-04T04:38:07.832700Z"
    },
    "papermill": {
     "duration": 0.054348,
     "end_time": "2022-12-04T04:38:07.836699",
     "exception": false,
     "start_time": "2022-12-04T04:38:07.782351",
     "status": "completed"
    },
    "tags": []
   },
   "outputs": [
    {
     "data": {
      "text/plain": [
       "(94729, 2)"
      ]
     },
     "execution_count": 13,
     "metadata": {},
     "output_type": "execute_result"
    }
   ],
   "source": [
    "df_new = df_approved[['sentiment', 'comment_text']].copy()\n",
    "df_new.shape"
   ]
  },
  {
   "attachments": {},
   "cell_type": "markdown",
   "id": "614a45f7",
   "metadata": {
    "papermill": {
     "duration": 0.023983,
     "end_time": "2022-12-04T04:38:07.884420",
     "exception": false,
     "start_time": "2022-12-04T04:38:07.860437",
     "status": "completed"
    },
    "tags": []
   },
   "source": [
    "I wanted to make an evenly dispersed data set between positive and negative values for training. "
   ]
  },
  {
   "cell_type": "code",
   "execution_count": 14,
   "id": "95594eb7",
   "metadata": {
    "execution": {
     "iopub.execute_input": "2022-12-04T04:38:07.931192Z",
     "iopub.status.busy": "2022-12-04T04:38:07.930754Z",
     "iopub.status.idle": "2022-12-04T04:44:18.384979Z",
     "shell.execute_reply": "2022-12-04T04:44:18.383725Z"
    },
    "papermill": {
     "duration": 370.49824,
     "end_time": "2022-12-04T04:44:18.405575",
     "exception": false,
     "start_time": "2022-12-04T04:38:07.907335",
     "status": "completed"
    },
    "tags": []
   },
   "outputs": [
    {
     "data": {
      "text/plain": [
       "(89185, 2)"
      ]
     },
     "execution_count": 14,
     "metadata": {},
     "output_type": "execute_result"
    }
   ],
   "source": [
    "df_negative = pd.DataFrame()\n",
    "df_positive = pd.DataFrame()\n",
    "\n",
    "for index, row in df_new.iterrows():\n",
    "    if (row[\"sentiment\"] == 'negative'):\n",
    "        df_negative = df_negative.append(row)\n",
    "    else :\n",
    "        df_positive = df_positive.append(row)\n",
    "\n",
    "df_positive.shape"
   ]
  },
  {
   "cell_type": "code",
   "execution_count": 15,
   "id": "1f59fbca",
   "metadata": {
    "execution": {
     "iopub.execute_input": "2022-12-04T04:44:18.450313Z",
     "iopub.status.busy": "2022-12-04T04:44:18.449548Z",
     "iopub.status.idle": "2022-12-04T04:44:18.456442Z",
     "shell.execute_reply": "2022-12-04T04:44:18.455554Z"
    },
    "papermill": {
     "duration": 0.0319,
     "end_time": "2022-12-04T04:44:18.458766",
     "exception": false,
     "start_time": "2022-12-04T04:44:18.426866",
     "status": "completed"
    },
    "tags": []
   },
   "outputs": [
    {
     "data": {
      "text/plain": [
       "(5544, 2)"
      ]
     },
     "execution_count": 15,
     "metadata": {},
     "output_type": "execute_result"
    }
   ],
   "source": [
    "df_negative.shape"
   ]
  },
  {
   "attachments": {},
   "cell_type": "markdown",
   "id": "cd549d61",
   "metadata": {
    "papermill": {
     "duration": 0.020531,
     "end_time": "2022-12-04T04:44:18.500235",
     "exception": false,
     "start_time": "2022-12-04T04:44:18.479704",
     "status": "completed"
    },
    "tags": []
   },
   "source": [
    "Building the training dataset based on the amount of negative comments."
   ]
  },
  {
   "cell_type": "code",
   "execution_count": 16,
   "id": "0d583f3d",
   "metadata": {
    "execution": {
     "iopub.execute_input": "2022-12-04T04:44:18.546267Z",
     "iopub.status.busy": "2022-12-04T04:44:18.545446Z",
     "iopub.status.idle": "2022-12-04T04:44:24.719763Z",
     "shell.execute_reply": "2022-12-04T04:44:24.718697Z"
    },
    "papermill": {
     "duration": 6.200065,
     "end_time": "2022-12-04T04:44:24.722939",
     "exception": false,
     "start_time": "2022-12-04T04:44:18.522874",
     "status": "completed"
    },
    "tags": []
   },
   "outputs": [
    {
     "data": {
      "text/plain": [
       "(10000, 2)"
      ]
     },
     "execution_count": 16,
     "metadata": {},
     "output_type": "execute_result"
    }
   ],
   "source": [
    "df = pd.DataFrame()\n",
    "for i in range(5000):\n",
    "    df = df.append(df_positive.iloc[i:i+1])\n",
    "    df = df.append(df_negative.iloc[i:i+1])\n",
    "df.shape"
   ]
  },
  {
   "attachments": {},
   "cell_type": "markdown",
   "id": "ce5f5acc",
   "metadata": {
    "papermill": {
     "duration": 0.022766,
     "end_time": "2022-12-04T04:44:24.767578",
     "exception": false,
     "start_time": "2022-12-04T04:44:24.744812",
     "status": "completed"
    },
    "tags": []
   },
   "source": [
    "sentimentPipe is the list of values generated from the pretrained model on huggingface. Below I am generating sentiment values from the comment text in the original dataset and inserting those values into the dataset I will use to train the MLP on. "
   ]
  },
  {
   "cell_type": "code",
   "execution_count": 17,
   "id": "36f377da",
   "metadata": {
    "execution": {
     "iopub.execute_input": "2022-12-04T04:44:24.816495Z",
     "iopub.status.busy": "2022-12-04T04:44:24.816009Z",
     "iopub.status.idle": "2022-12-04T04:59:42.206153Z",
     "shell.execute_reply": "2022-12-04T04:59:42.204045Z"
    },
    "papermill": {
     "duration": 917.421444,
     "end_time": "2022-12-04T04:59:42.212311",
     "exception": false,
     "start_time": "2022-12-04T04:44:24.790867",
     "status": "completed"
    },
    "tags": []
   },
   "outputs": [],
   "source": [
    "sentimentPipe = []\n",
    "for index, row in df.iterrows():\n",
    "    result = classifier(row['comment_text'])[0]\n",
    "    sentimentPipe.append(result['label'].lower())"
   ]
  },
  {
   "cell_type": "code",
   "execution_count": 18,
   "id": "7f3d6caf",
   "metadata": {
    "execution": {
     "iopub.execute_input": "2022-12-04T04:59:42.263718Z",
     "iopub.status.busy": "2022-12-04T04:59:42.263240Z",
     "iopub.status.idle": "2022-12-04T04:59:42.280875Z",
     "shell.execute_reply": "2022-12-04T04:59:42.279529Z"
    },
    "papermill": {
     "duration": 0.044411,
     "end_time": "2022-12-04T04:59:42.283635",
     "exception": false,
     "start_time": "2022-12-04T04:59:42.239224",
     "status": "completed"
    },
    "tags": []
   },
   "outputs": [
    {
     "data": {
      "text/plain": [
       "negative    0.7802\n",
       "positive    0.2198\n",
       "Name: sentimentPipe, dtype: float64"
      ]
     },
     "execution_count": 18,
     "metadata": {},
     "output_type": "execute_result"
    }
   ],
   "source": [
    "df.insert(loc=1, column=\"sentimentPipe\", value = sentimentPipe) \n",
    "df.sentimentPipe.value_counts(normalize=True)"
   ]
  },
  {
   "attachments": {},
   "cell_type": "markdown",
   "id": "943686dc",
   "metadata": {
    "papermill": {
     "duration": 0.147556,
     "end_time": "2022-12-04T04:59:42.453454",
     "exception": false,
     "start_time": "2022-12-04T04:59:42.305898",
     "status": "completed"
    },
    "tags": []
   },
   "source": [
    "I based this training data set on even sentiment disbursement from the original dataset's annotation and my interpretation of those values. Both of the added values differ in disbursement. For this assignment I will keep the training dataset consistent."
   ]
  },
  {
   "cell_type": "code",
   "execution_count": 19,
   "id": "81ddc893",
   "metadata": {
    "execution": {
     "iopub.execute_input": "2022-12-04T04:59:42.498481Z",
     "iopub.status.busy": "2022-12-04T04:59:42.497950Z",
     "iopub.status.idle": "2022-12-04T04:59:42.508698Z",
     "shell.execute_reply": "2022-12-04T04:59:42.507219Z"
    },
    "papermill": {
     "duration": 0.03625,
     "end_time": "2022-12-04T04:59:42.511387",
     "exception": false,
     "start_time": "2022-12-04T04:59:42.475137",
     "status": "completed"
    },
    "tags": []
   },
   "outputs": [
    {
     "data": {
      "text/plain": [
       "positive    0.5\n",
       "negative    0.5\n",
       "Name: sentiment, dtype: float64"
      ]
     },
     "execution_count": 19,
     "metadata": {},
     "output_type": "execute_result"
    }
   ],
   "source": [
    "df.sentiment.value_counts(normalize=True)"
   ]
  },
  {
   "attachments": {},
   "cell_type": "markdown",
   "id": "dbd4b2b3",
   "metadata": {
    "papermill": {
     "duration": 0.022505,
     "end_time": "2022-12-04T04:59:42.556453",
     "exception": false,
     "start_time": "2022-12-04T04:59:42.533948",
     "status": "completed"
    },
    "tags": []
   },
   "source": [
    "TextBlob is very quick compared to the sentimentPipe method. I am also interperting the result to a binary value."
   ]
  },
  {
   "cell_type": "code",
   "execution_count": 20,
   "id": "cd38bf05",
   "metadata": {
    "execution": {
     "iopub.execute_input": "2022-12-04T04:59:42.602133Z",
     "iopub.status.busy": "2022-12-04T04:59:42.601713Z",
     "iopub.status.idle": "2022-12-04T04:59:49.655031Z",
     "shell.execute_reply": "2022-12-04T04:59:49.654070Z"
    },
    "papermill": {
     "duration": 7.079332,
     "end_time": "2022-12-04T04:59:49.657654",
     "exception": false,
     "start_time": "2022-12-04T04:59:42.578322",
     "status": "completed"
    },
    "tags": []
   },
   "outputs": [],
   "source": [
    "sentimentBlob = []\n",
    "for index, row in df.iterrows():\n",
    "    result = row['comment_text']\n",
    "    blob = TextBlob(result)\n",
    "    if blob.sentiment[0] < 0 :\n",
    "        sentimentBlob.append('negative')\n",
    "    else :\n",
    "        sentimentBlob.append('positive')"
   ]
  },
  {
   "cell_type": "code",
   "execution_count": 21,
   "id": "9dbd6770",
   "metadata": {
    "execution": {
     "iopub.execute_input": "2022-12-04T04:59:49.703774Z",
     "iopub.status.busy": "2022-12-04T04:59:49.703331Z",
     "iopub.status.idle": "2022-12-04T04:59:49.715877Z",
     "shell.execute_reply": "2022-12-04T04:59:49.714444Z"
    },
    "papermill": {
     "duration": 0.038571,
     "end_time": "2022-12-04T04:59:49.718570",
     "exception": false,
     "start_time": "2022-12-04T04:59:49.679999",
     "status": "completed"
    },
    "tags": []
   },
   "outputs": [
    {
     "data": {
      "text/plain": [
       "positive    0.657\n",
       "negative    0.343\n",
       "Name: sentimentBlob, dtype: float64"
      ]
     },
     "execution_count": 21,
     "metadata": {},
     "output_type": "execute_result"
    }
   ],
   "source": [
    "df.insert(loc=1, column=\"sentimentBlob\", value = sentimentBlob) \n",
    "df.sentimentBlob.value_counts(normalize=True)"
   ]
  },
  {
   "attachments": {},
   "cell_type": "markdown",
   "id": "d2da8c24",
   "metadata": {
    "papermill": {
     "duration": 0.022552,
     "end_time": "2022-12-04T04:59:49.763742",
     "exception": false,
     "start_time": "2022-12-04T04:59:49.741190",
     "status": "completed"
    },
    "tags": []
   },
   "source": [
    "The difference in values between the 3 is very interesting."
   ]
  },
  {
   "cell_type": "code",
   "execution_count": 22,
   "id": "0372b5ba",
   "metadata": {
    "execution": {
     "iopub.execute_input": "2022-12-04T04:59:49.810234Z",
     "iopub.status.busy": "2022-12-04T04:59:49.809825Z",
     "iopub.status.idle": "2022-12-04T04:59:49.816916Z",
     "shell.execute_reply": "2022-12-04T04:59:49.815755Z"
    },
    "papermill": {
     "duration": 0.03304,
     "end_time": "2022-12-04T04:59:49.819321",
     "exception": false,
     "start_time": "2022-12-04T04:59:49.786281",
     "status": "completed"
    },
    "tags": []
   },
   "outputs": [
    {
     "data": {
      "text/plain": [
       "(10000, 4)"
      ]
     },
     "execution_count": 22,
     "metadata": {},
     "output_type": "execute_result"
    }
   ],
   "source": [
    "df.shape"
   ]
  },
  {
   "attachments": {},
   "cell_type": "markdown",
   "id": "1b7f4fed",
   "metadata": {
    "papermill": {
     "duration": 0.021608,
     "end_time": "2022-12-04T04:59:49.862785",
     "exception": false,
     "start_time": "2022-12-04T04:59:49.841177",
     "status": "completed"
    },
    "tags": []
   },
   "source": [
    "All of the values in one dataset."
   ]
  },
  {
   "cell_type": "code",
   "execution_count": 23,
   "id": "85c10649",
   "metadata": {
    "execution": {
     "iopub.execute_input": "2022-12-04T04:59:49.909689Z",
     "iopub.status.busy": "2022-12-04T04:59:49.908384Z",
     "iopub.status.idle": "2022-12-04T04:59:49.922697Z",
     "shell.execute_reply": "2022-12-04T04:59:49.921599Z"
    },
    "papermill": {
     "duration": 0.040118,
     "end_time": "2022-12-04T04:59:49.925014",
     "exception": false,
     "start_time": "2022-12-04T04:59:49.884896",
     "status": "completed"
    },
    "tags": []
   },
   "outputs": [
    {
     "data": {
      "text/html": [
       "<div>\n",
       "<style scoped>\n",
       "    .dataframe tbody tr th:only-of-type {\n",
       "        vertical-align: middle;\n",
       "    }\n",
       "\n",
       "    .dataframe tbody tr th {\n",
       "        vertical-align: top;\n",
       "    }\n",
       "\n",
       "    .dataframe thead th {\n",
       "        text-align: right;\n",
       "    }\n",
       "</style>\n",
       "<table border=\"1\" class=\"dataframe\">\n",
       "  <thead>\n",
       "    <tr style=\"text-align: right;\">\n",
       "      <th></th>\n",
       "      <th>sentiment</th>\n",
       "      <th>sentimentBlob</th>\n",
       "      <th>sentimentPipe</th>\n",
       "      <th>comment_text</th>\n",
       "    </tr>\n",
       "  </thead>\n",
       "  <tbody>\n",
       "    <tr>\n",
       "      <th>8</th>\n",
       "      <td>positive</td>\n",
       "      <td>positive</td>\n",
       "      <td>negative</td>\n",
       "      <td>The ranchers seem motivated by mostly by greed...</td>\n",
       "    </tr>\n",
       "    <tr>\n",
       "      <th>13</th>\n",
       "      <td>negative</td>\n",
       "      <td>negative</td>\n",
       "      <td>negative</td>\n",
       "      <td>It's ridiculous that these guys are being call...</td>\n",
       "    </tr>\n",
       "    <tr>\n",
       "      <th>9</th>\n",
       "      <td>positive</td>\n",
       "      <td>positive</td>\n",
       "      <td>positive</td>\n",
       "      <td>It was a great show. Not a combo I'd of expect...</td>\n",
       "    </tr>\n",
       "    <tr>\n",
       "      <th>14</th>\n",
       "      <td>negative</td>\n",
       "      <td>positive</td>\n",
       "      <td>negative</td>\n",
       "      <td>This story gets more ridiculous by the hour! A...</td>\n",
       "    </tr>\n",
       "    <tr>\n",
       "      <th>10</th>\n",
       "      <td>positive</td>\n",
       "      <td>positive</td>\n",
       "      <td>positive</td>\n",
       "      <td>Wow, that sounds great.</td>\n",
       "    </tr>\n",
       "    <tr>\n",
       "      <th>19</th>\n",
       "      <td>negative</td>\n",
       "      <td>negative</td>\n",
       "      <td>negative</td>\n",
       "      <td>Angry trolls, misogynists and Racists\", oh my....</td>\n",
       "    </tr>\n",
       "    <tr>\n",
       "      <th>11</th>\n",
       "      <td>positive</td>\n",
       "      <td>positive</td>\n",
       "      <td>positive</td>\n",
       "      <td>This is a great story. Man. I wonder if the pe...</td>\n",
       "    </tr>\n",
       "    <tr>\n",
       "      <th>31</th>\n",
       "      <td>negative</td>\n",
       "      <td>negative</td>\n",
       "      <td>negative</td>\n",
       "      <td>Yet call out all Muslims for the acts of a few...</td>\n",
       "    </tr>\n",
       "    <tr>\n",
       "      <th>12</th>\n",
       "      <td>positive</td>\n",
       "      <td>positive</td>\n",
       "      <td>positive</td>\n",
       "      <td>This seems like a step in the right direction.</td>\n",
       "    </tr>\n",
       "    <tr>\n",
       "      <th>84</th>\n",
       "      <td>negative</td>\n",
       "      <td>negative</td>\n",
       "      <td>negative</td>\n",
       "      <td>Tuesday Jan. 13, members of \\nthis socalled 'm...</td>\n",
       "    </tr>\n",
       "  </tbody>\n",
       "</table>\n",
       "</div>"
      ],
      "text/plain": [
       "   sentiment sentimentBlob sentimentPipe  \\\n",
       "8   positive      positive      negative   \n",
       "13  negative      negative      negative   \n",
       "9   positive      positive      positive   \n",
       "14  negative      positive      negative   \n",
       "10  positive      positive      positive   \n",
       "19  negative      negative      negative   \n",
       "11  positive      positive      positive   \n",
       "31  negative      negative      negative   \n",
       "12  positive      positive      positive   \n",
       "84  negative      negative      negative   \n",
       "\n",
       "                                         comment_text  \n",
       "8   The ranchers seem motivated by mostly by greed...  \n",
       "13  It's ridiculous that these guys are being call...  \n",
       "9   It was a great show. Not a combo I'd of expect...  \n",
       "14  This story gets more ridiculous by the hour! A...  \n",
       "10                            Wow, that sounds great.  \n",
       "19  Angry trolls, misogynists and Racists\", oh my....  \n",
       "11  This is a great story. Man. I wonder if the pe...  \n",
       "31  Yet call out all Muslims for the acts of a few...  \n",
       "12     This seems like a step in the right direction.  \n",
       "84  Tuesday Jan. 13, members of \\nthis socalled 'm...  "
      ]
     },
     "execution_count": 23,
     "metadata": {},
     "output_type": "execute_result"
    }
   ],
   "source": [
    "df.head(10)"
   ]
  },
  {
   "attachments": {},
   "cell_type": "markdown",
   "id": "713a5d99",
   "metadata": {
    "papermill": {
     "duration": 0.022097,
     "end_time": "2022-12-04T04:59:49.969854",
     "exception": false,
     "start_time": "2022-12-04T04:59:49.947757",
     "status": "completed"
    },
    "tags": []
   },
   "source": [
    "Pealing off some data for testing."
   ]
  },
  {
   "cell_type": "code",
   "execution_count": 24,
   "id": "b646d153",
   "metadata": {
    "execution": {
     "iopub.execute_input": "2022-12-04T04:59:50.018912Z",
     "iopub.status.busy": "2022-12-04T04:59:50.018410Z",
     "iopub.status.idle": "2022-12-04T04:59:50.029209Z",
     "shell.execute_reply": "2022-12-04T04:59:50.028081Z"
    },
    "papermill": {
     "duration": 0.0381,
     "end_time": "2022-12-04T04:59:50.031670",
     "exception": false,
     "start_time": "2022-12-04T04:59:49.993570",
     "status": "completed"
    },
    "tags": []
   },
   "outputs": [
    {
     "data": {
      "text/plain": [
       "(1000, 4)"
      ]
     },
     "execution_count": 24,
     "metadata": {},
     "output_type": "execute_result"
    }
   ],
   "source": [
    "df_test = pd.DataFrame()\n",
    "df_test = df_test.append(df.iloc[-1000:])\n",
    "df_test.shape"
   ]
  },
  {
   "cell_type": "code",
   "execution_count": 25,
   "id": "df1cae67",
   "metadata": {
    "execution": {
     "iopub.execute_input": "2022-12-04T04:59:50.080558Z",
     "iopub.status.busy": "2022-12-04T04:59:50.079786Z",
     "iopub.status.idle": "2022-12-04T04:59:50.094139Z",
     "shell.execute_reply": "2022-12-04T04:59:50.092996Z"
    },
    "papermill": {
     "duration": 0.041662,
     "end_time": "2022-12-04T04:59:50.096928",
     "exception": false,
     "start_time": "2022-12-04T04:59:50.055266",
     "status": "completed"
    },
    "tags": []
   },
   "outputs": [
    {
     "data": {
      "text/html": [
       "<div>\n",
       "<style scoped>\n",
       "    .dataframe tbody tr th:only-of-type {\n",
       "        vertical-align: middle;\n",
       "    }\n",
       "\n",
       "    .dataframe tbody tr th {\n",
       "        vertical-align: top;\n",
       "    }\n",
       "\n",
       "    .dataframe thead th {\n",
       "        text-align: right;\n",
       "    }\n",
       "</style>\n",
       "<table border=\"1\" class=\"dataframe\">\n",
       "  <thead>\n",
       "    <tr style=\"text-align: right;\">\n",
       "      <th></th>\n",
       "      <th>sentiment</th>\n",
       "      <th>sentimentBlob</th>\n",
       "      <th>sentimentPipe</th>\n",
       "      <th>comment_text</th>\n",
       "    </tr>\n",
       "  </thead>\n",
       "  <tbody>\n",
       "    <tr>\n",
       "      <th>4790</th>\n",
       "      <td>positive</td>\n",
       "      <td>positive</td>\n",
       "      <td>negative</td>\n",
       "      <td>This is what democracy looks like, Individuals...</td>\n",
       "    </tr>\n",
       "    <tr>\n",
       "      <th>83583</th>\n",
       "      <td>negative</td>\n",
       "      <td>negative</td>\n",
       "      <td>negative</td>\n",
       "      <td>Lynn,\\n\\nThe AGIA boondoggle was not Walker's ...</td>\n",
       "    </tr>\n",
       "    <tr>\n",
       "      <th>4791</th>\n",
       "      <td>positive</td>\n",
       "      <td>positive</td>\n",
       "      <td>positive</td>\n",
       "      <td>The senate has not ignored their duties.  They...</td>\n",
       "    </tr>\n",
       "    <tr>\n",
       "      <th>83593</th>\n",
       "      <td>negative</td>\n",
       "      <td>positive</td>\n",
       "      <td>negative</td>\n",
       "      <td>He, she, whatever it is will be right at home ...</td>\n",
       "    </tr>\n",
       "    <tr>\n",
       "      <th>4792</th>\n",
       "      <td>positive</td>\n",
       "      <td>positive</td>\n",
       "      <td>positive</td>\n",
       "      <td>I agree with you.  This assumes she's not indi...</td>\n",
       "    </tr>\n",
       "    <tr>\n",
       "      <th>83621</th>\n",
       "      <td>negative</td>\n",
       "      <td>negative</td>\n",
       "      <td>negative</td>\n",
       "      <td>The kiss of death...\\nOne incompetent endorsin...</td>\n",
       "    </tr>\n",
       "    <tr>\n",
       "      <th>4793</th>\n",
       "      <td>positive</td>\n",
       "      <td>positive</td>\n",
       "      <td>negative</td>\n",
       "      <td>I think businesses have proven over and over a...</td>\n",
       "    </tr>\n",
       "    <tr>\n",
       "      <th>83630</th>\n",
       "      <td>negative</td>\n",
       "      <td>negative</td>\n",
       "      <td>negative</td>\n",
       "      <td>I don't need to \"blow the dust\" off my negotia...</td>\n",
       "    </tr>\n",
       "    <tr>\n",
       "      <th>4794</th>\n",
       "      <td>positive</td>\n",
       "      <td>negative</td>\n",
       "      <td>negative</td>\n",
       "      <td>Man!  If you look at his mug shot, somebody ga...</td>\n",
       "    </tr>\n",
       "    <tr>\n",
       "      <th>83638</th>\n",
       "      <td>negative</td>\n",
       "      <td>positive</td>\n",
       "      <td>negative</td>\n",
       "      <td>Go back to school Gorrow. Your reporting is em...</td>\n",
       "    </tr>\n",
       "  </tbody>\n",
       "</table>\n",
       "</div>"
      ],
      "text/plain": [
       "      sentiment sentimentBlob sentimentPipe  \\\n",
       "4790   positive      positive      negative   \n",
       "83583  negative      negative      negative   \n",
       "4791   positive      positive      positive   \n",
       "83593  negative      positive      negative   \n",
       "4792   positive      positive      positive   \n",
       "83621  negative      negative      negative   \n",
       "4793   positive      positive      negative   \n",
       "83630  negative      negative      negative   \n",
       "4794   positive      negative      negative   \n",
       "83638  negative      positive      negative   \n",
       "\n",
       "                                            comment_text  \n",
       "4790   This is what democracy looks like, Individuals...  \n",
       "83583  Lynn,\\n\\nThe AGIA boondoggle was not Walker's ...  \n",
       "4791   The senate has not ignored their duties.  They...  \n",
       "83593  He, she, whatever it is will be right at home ...  \n",
       "4792   I agree with you.  This assumes she's not indi...  \n",
       "83621  The kiss of death...\\nOne incompetent endorsin...  \n",
       "4793   I think businesses have proven over and over a...  \n",
       "83630  I don't need to \"blow the dust\" off my negotia...  \n",
       "4794   Man!  If you look at his mug shot, somebody ga...  \n",
       "83638  Go back to school Gorrow. Your reporting is em...  "
      ]
     },
     "execution_count": 25,
     "metadata": {},
     "output_type": "execute_result"
    }
   ],
   "source": [
    "df_test.head(10)"
   ]
  },
  {
   "cell_type": "code",
   "execution_count": 26,
   "id": "185f27ee",
   "metadata": {
    "execution": {
     "iopub.execute_input": "2022-12-04T04:59:50.146085Z",
     "iopub.status.busy": "2022-12-04T04:59:50.145297Z",
     "iopub.status.idle": "2022-12-04T04:59:50.152807Z",
     "shell.execute_reply": "2022-12-04T04:59:50.151489Z"
    },
    "papermill": {
     "duration": 0.035046,
     "end_time": "2022-12-04T04:59:50.155762",
     "exception": false,
     "start_time": "2022-12-04T04:59:50.120716",
     "status": "completed"
    },
    "tags": []
   },
   "outputs": [
    {
     "data": {
      "text/plain": [
       "(9000, 4)"
      ]
     },
     "execution_count": 26,
     "metadata": {},
     "output_type": "execute_result"
    }
   ],
   "source": [
    "df = df.iloc[:9000]\n",
    "df.shape"
   ]
  },
  {
   "cell_type": "code",
   "execution_count": 27,
   "id": "60f92ebf",
   "metadata": {
    "execution": {
     "iopub.execute_input": "2022-12-04T04:59:50.206182Z",
     "iopub.status.busy": "2022-12-04T04:59:50.205221Z",
     "iopub.status.idle": "2022-12-04T04:59:50.218860Z",
     "shell.execute_reply": "2022-12-04T04:59:50.217559Z"
    },
    "papermill": {
     "duration": 0.041861,
     "end_time": "2022-12-04T04:59:50.221471",
     "exception": false,
     "start_time": "2022-12-04T04:59:50.179610",
     "status": "completed"
    },
    "tags": []
   },
   "outputs": [
    {
     "data": {
      "text/html": [
       "<div>\n",
       "<style scoped>\n",
       "    .dataframe tbody tr th:only-of-type {\n",
       "        vertical-align: middle;\n",
       "    }\n",
       "\n",
       "    .dataframe tbody tr th {\n",
       "        vertical-align: top;\n",
       "    }\n",
       "\n",
       "    .dataframe thead th {\n",
       "        text-align: right;\n",
       "    }\n",
       "</style>\n",
       "<table border=\"1\" class=\"dataframe\">\n",
       "  <thead>\n",
       "    <tr style=\"text-align: right;\">\n",
       "      <th></th>\n",
       "      <th>sentiment</th>\n",
       "      <th>sentimentBlob</th>\n",
       "      <th>sentimentPipe</th>\n",
       "      <th>comment_text</th>\n",
       "    </tr>\n",
       "  </thead>\n",
       "  <tbody>\n",
       "    <tr>\n",
       "      <th>8</th>\n",
       "      <td>positive</td>\n",
       "      <td>positive</td>\n",
       "      <td>negative</td>\n",
       "      <td>The ranchers seem motivated by mostly by greed...</td>\n",
       "    </tr>\n",
       "    <tr>\n",
       "      <th>13</th>\n",
       "      <td>negative</td>\n",
       "      <td>negative</td>\n",
       "      <td>negative</td>\n",
       "      <td>It's ridiculous that these guys are being call...</td>\n",
       "    </tr>\n",
       "    <tr>\n",
       "      <th>9</th>\n",
       "      <td>positive</td>\n",
       "      <td>positive</td>\n",
       "      <td>positive</td>\n",
       "      <td>It was a great show. Not a combo I'd of expect...</td>\n",
       "    </tr>\n",
       "    <tr>\n",
       "      <th>14</th>\n",
       "      <td>negative</td>\n",
       "      <td>positive</td>\n",
       "      <td>negative</td>\n",
       "      <td>This story gets more ridiculous by the hour! A...</td>\n",
       "    </tr>\n",
       "    <tr>\n",
       "      <th>10</th>\n",
       "      <td>positive</td>\n",
       "      <td>positive</td>\n",
       "      <td>positive</td>\n",
       "      <td>Wow, that sounds great.</td>\n",
       "    </tr>\n",
       "    <tr>\n",
       "      <th>19</th>\n",
       "      <td>negative</td>\n",
       "      <td>negative</td>\n",
       "      <td>negative</td>\n",
       "      <td>Angry trolls, misogynists and Racists\", oh my....</td>\n",
       "    </tr>\n",
       "    <tr>\n",
       "      <th>11</th>\n",
       "      <td>positive</td>\n",
       "      <td>positive</td>\n",
       "      <td>positive</td>\n",
       "      <td>This is a great story. Man. I wonder if the pe...</td>\n",
       "    </tr>\n",
       "    <tr>\n",
       "      <th>31</th>\n",
       "      <td>negative</td>\n",
       "      <td>negative</td>\n",
       "      <td>negative</td>\n",
       "      <td>Yet call out all Muslims for the acts of a few...</td>\n",
       "    </tr>\n",
       "    <tr>\n",
       "      <th>12</th>\n",
       "      <td>positive</td>\n",
       "      <td>positive</td>\n",
       "      <td>positive</td>\n",
       "      <td>This seems like a step in the right direction.</td>\n",
       "    </tr>\n",
       "    <tr>\n",
       "      <th>84</th>\n",
       "      <td>negative</td>\n",
       "      <td>negative</td>\n",
       "      <td>negative</td>\n",
       "      <td>Tuesday Jan. 13, members of \\nthis socalled 'm...</td>\n",
       "    </tr>\n",
       "  </tbody>\n",
       "</table>\n",
       "</div>"
      ],
      "text/plain": [
       "   sentiment sentimentBlob sentimentPipe  \\\n",
       "8   positive      positive      negative   \n",
       "13  negative      negative      negative   \n",
       "9   positive      positive      positive   \n",
       "14  negative      positive      negative   \n",
       "10  positive      positive      positive   \n",
       "19  negative      negative      negative   \n",
       "11  positive      positive      positive   \n",
       "31  negative      negative      negative   \n",
       "12  positive      positive      positive   \n",
       "84  negative      negative      negative   \n",
       "\n",
       "                                         comment_text  \n",
       "8   The ranchers seem motivated by mostly by greed...  \n",
       "13  It's ridiculous that these guys are being call...  \n",
       "9   It was a great show. Not a combo I'd of expect...  \n",
       "14  This story gets more ridiculous by the hour! A...  \n",
       "10                            Wow, that sounds great.  \n",
       "19  Angry trolls, misogynists and Racists\", oh my....  \n",
       "11  This is a great story. Man. I wonder if the pe...  \n",
       "31  Yet call out all Muslims for the acts of a few...  \n",
       "12     This seems like a step in the right direction.  \n",
       "84  Tuesday Jan. 13, members of \\nthis socalled 'm...  "
      ]
     },
     "execution_count": 27,
     "metadata": {},
     "output_type": "execute_result"
    }
   ],
   "source": [
    "df.head(10)"
   ]
  },
  {
   "attachments": {},
   "cell_type": "markdown",
   "id": "e221b760",
   "metadata": {
    "papermill": {
     "duration": 0.023163,
     "end_time": "2022-12-04T04:59:50.269060",
     "exception": false,
     "start_time": "2022-12-04T04:59:50.245897",
     "status": "completed"
    },
    "tags": []
   },
   "source": [
    "Getting the comment text cleaned up for training."
   ]
  },
  {
   "cell_type": "code",
   "execution_count": 28,
   "id": "d6961aff",
   "metadata": {
    "execution": {
     "iopub.execute_input": "2022-12-04T04:59:50.317468Z",
     "iopub.status.busy": "2022-12-04T04:59:50.316841Z",
     "iopub.status.idle": "2022-12-04T04:59:53.295770Z",
     "shell.execute_reply": "2022-12-04T04:59:53.294539Z"
    },
    "papermill": {
     "duration": 3.005963,
     "end_time": "2022-12-04T04:59:53.298297",
     "exception": false,
     "start_time": "2022-12-04T04:59:50.292334",
     "status": "completed"
    },
    "tags": []
   },
   "outputs": [
    {
     "data": {
      "text/html": [
       "<div>\n",
       "<style scoped>\n",
       "    .dataframe tbody tr th:only-of-type {\n",
       "        vertical-align: middle;\n",
       "    }\n",
       "\n",
       "    .dataframe tbody tr th {\n",
       "        vertical-align: top;\n",
       "    }\n",
       "\n",
       "    .dataframe thead th {\n",
       "        text-align: right;\n",
       "    }\n",
       "</style>\n",
       "<table border=\"1\" class=\"dataframe\">\n",
       "  <thead>\n",
       "    <tr style=\"text-align: right;\">\n",
       "      <th></th>\n",
       "      <th>sentiment</th>\n",
       "      <th>sentimentBlob</th>\n",
       "      <th>sentimentPipe</th>\n",
       "      <th>comment_text</th>\n",
       "      <th>tokens_raw</th>\n",
       "    </tr>\n",
       "  </thead>\n",
       "  <tbody>\n",
       "    <tr>\n",
       "      <th>8</th>\n",
       "      <td>positive</td>\n",
       "      <td>positive</td>\n",
       "      <td>negative</td>\n",
       "      <td>The ranchers seem motivated by mostly by greed...</td>\n",
       "      <td>[the, ranchers, seem, motivated, by, mostly, b...</td>\n",
       "    </tr>\n",
       "    <tr>\n",
       "      <th>13</th>\n",
       "      <td>negative</td>\n",
       "      <td>negative</td>\n",
       "      <td>negative</td>\n",
       "      <td>It's ridiculous that these guys are being call...</td>\n",
       "      <td>[it's, ridiculous, that, these, guys, are, bei...</td>\n",
       "    </tr>\n",
       "    <tr>\n",
       "      <th>9</th>\n",
       "      <td>positive</td>\n",
       "      <td>positive</td>\n",
       "      <td>positive</td>\n",
       "      <td>It was a great show. Not a combo I'd of expect...</td>\n",
       "      <td>[it, was, a, great, show, ., not, a, combo, i'...</td>\n",
       "    </tr>\n",
       "    <tr>\n",
       "      <th>14</th>\n",
       "      <td>negative</td>\n",
       "      <td>positive</td>\n",
       "      <td>negative</td>\n",
       "      <td>This story gets more ridiculous by the hour! A...</td>\n",
       "      <td>[this, story, gets, more, ridiculous, by, the,...</td>\n",
       "    </tr>\n",
       "    <tr>\n",
       "      <th>10</th>\n",
       "      <td>positive</td>\n",
       "      <td>positive</td>\n",
       "      <td>positive</td>\n",
       "      <td>Wow, that sounds great.</td>\n",
       "      <td>[wow, ,, that, sounds, great, .]</td>\n",
       "    </tr>\n",
       "  </tbody>\n",
       "</table>\n",
       "</div>"
      ],
      "text/plain": [
       "   sentiment sentimentBlob sentimentPipe  \\\n",
       "8   positive      positive      negative   \n",
       "13  negative      negative      negative   \n",
       "9   positive      positive      positive   \n",
       "14  negative      positive      negative   \n",
       "10  positive      positive      positive   \n",
       "\n",
       "                                         comment_text  \\\n",
       "8   The ranchers seem motivated by mostly by greed...   \n",
       "13  It's ridiculous that these guys are being call...   \n",
       "9   It was a great show. Not a combo I'd of expect...   \n",
       "14  This story gets more ridiculous by the hour! A...   \n",
       "10                            Wow, that sounds great.   \n",
       "\n",
       "                                           tokens_raw  \n",
       "8   [the, ranchers, seem, motivated, by, mostly, b...  \n",
       "13  [it's, ridiculous, that, these, guys, are, bei...  \n",
       "9   [it, was, a, great, show, ., not, a, combo, i'...  \n",
       "14  [this, story, gets, more, ridiculous, by, the,...  \n",
       "10                   [wow, ,, that, sounds, great, .]  "
      ]
     },
     "execution_count": 28,
     "metadata": {},
     "output_type": "execute_result"
    }
   ],
   "source": [
    "from nltk.tokenize import TweetTokenizer\n",
    "tk = TweetTokenizer()\n",
    "df['tokens_raw'] = df['comment_text'].apply(lambda x: tk.tokenize(x.lower()))\n",
    "df.head()"
   ]
  },
  {
   "cell_type": "code",
   "execution_count": 29,
   "id": "f0bcd309",
   "metadata": {
    "execution": {
     "iopub.execute_input": "2022-12-04T04:59:53.348223Z",
     "iopub.status.busy": "2022-12-04T04:59:53.347409Z",
     "iopub.status.idle": "2022-12-04T04:59:54.461861Z",
     "shell.execute_reply": "2022-12-04T04:59:54.460334Z"
    },
    "papermill": {
     "duration": 1.142451,
     "end_time": "2022-12-04T04:59:54.464828",
     "exception": false,
     "start_time": "2022-12-04T04:59:53.322377",
     "status": "completed"
    },
    "tags": []
   },
   "outputs": [
    {
     "data": {
      "text/html": [
       "<div>\n",
       "<style scoped>\n",
       "    .dataframe tbody tr th:only-of-type {\n",
       "        vertical-align: middle;\n",
       "    }\n",
       "\n",
       "    .dataframe tbody tr th {\n",
       "        vertical-align: top;\n",
       "    }\n",
       "\n",
       "    .dataframe thead th {\n",
       "        text-align: right;\n",
       "    }\n",
       "</style>\n",
       "<table border=\"1\" class=\"dataframe\">\n",
       "  <thead>\n",
       "    <tr style=\"text-align: right;\">\n",
       "      <th></th>\n",
       "      <th>sentiment</th>\n",
       "      <th>sentimentBlob</th>\n",
       "      <th>sentimentPipe</th>\n",
       "      <th>comment_text</th>\n",
       "      <th>tokens_raw</th>\n",
       "    </tr>\n",
       "  </thead>\n",
       "  <tbody>\n",
       "    <tr>\n",
       "      <th>8</th>\n",
       "      <td>positive</td>\n",
       "      <td>positive</td>\n",
       "      <td>negative</td>\n",
       "      <td>The ranchers seem motivated by mostly by greed...</td>\n",
       "      <td>[ranchers, seem, motivated, mostly, greed, ;, ...</td>\n",
       "    </tr>\n",
       "    <tr>\n",
       "      <th>13</th>\n",
       "      <td>negative</td>\n",
       "      <td>negative</td>\n",
       "      <td>negative</td>\n",
       "      <td>It's ridiculous that these guys are being call...</td>\n",
       "      <td>[ridiculous, guys, called, \", protesters, \", a...</td>\n",
       "    </tr>\n",
       "    <tr>\n",
       "      <th>9</th>\n",
       "      <td>positive</td>\n",
       "      <td>positive</td>\n",
       "      <td>positive</td>\n",
       "      <td>It was a great show. Not a combo I'd of expect...</td>\n",
       "      <td>[great, show, combo, i'd, expected, good, toge...</td>\n",
       "    </tr>\n",
       "    <tr>\n",
       "      <th>14</th>\n",
       "      <td>negative</td>\n",
       "      <td>positive</td>\n",
       "      <td>negative</td>\n",
       "      <td>This story gets more ridiculous by the hour! A...</td>\n",
       "      <td>[story, gets, ridiculous, hour, ,, love, peopl...</td>\n",
       "    </tr>\n",
       "    <tr>\n",
       "      <th>10</th>\n",
       "      <td>positive</td>\n",
       "      <td>positive</td>\n",
       "      <td>positive</td>\n",
       "      <td>Wow, that sounds great.</td>\n",
       "      <td>[wow, ,, sounds, great]</td>\n",
       "    </tr>\n",
       "  </tbody>\n",
       "</table>\n",
       "</div>"
      ],
      "text/plain": [
       "   sentiment sentimentBlob sentimentPipe  \\\n",
       "8   positive      positive      negative   \n",
       "13  negative      negative      negative   \n",
       "9   positive      positive      positive   \n",
       "14  negative      positive      negative   \n",
       "10  positive      positive      positive   \n",
       "\n",
       "                                         comment_text  \\\n",
       "8   The ranchers seem motivated by mostly by greed...   \n",
       "13  It's ridiculous that these guys are being call...   \n",
       "9   It was a great show. Not a combo I'd of expect...   \n",
       "14  This story gets more ridiculous by the hour! A...   \n",
       "10                            Wow, that sounds great.   \n",
       "\n",
       "                                           tokens_raw  \n",
       "8   [ranchers, seem, motivated, mostly, greed, ;, ...  \n",
       "13  [ridiculous, guys, called, \", protesters, \", a...  \n",
       "9   [great, show, combo, i'd, expected, good, toge...  \n",
       "14  [story, gets, ridiculous, hour, ,, love, peopl...  \n",
       "10                            [wow, ,, sounds, great]  "
      ]
     },
     "execution_count": 29,
     "metadata": {},
     "output_type": "execute_result"
    }
   ],
   "source": [
    "import re\n",
    "from nltk.corpus import stopwords\n",
    "stops = set(stopwords.words('english'))\n",
    "chars2remove = set(['.','!','/', '?'])\n",
    "df['tokens_raw'] = df['tokens_raw'].apply(lambda x: [w for w in x if w not in stops])\n",
    "df['tokens_raw'] = df['tokens_raw'].apply(lambda x: [w for w in x if w not in chars2remove])\n",
    "df['tokens_raw'] = df['tokens_raw'].apply(lambda x: [w for w in x if not re.match('^#', w)]) # remove hashtags\n",
    "#df['tokens_raw'] = df['tokens_raw'].apply(lambda x: [w for w in x if not re.match('^http', w)]) # remove web links\n",
    "#df['tokens_raw'] = df['tokens_raw'].apply(lambda x: [w for w in x if not re.match('^@', w)]) # remove web links\n",
    "\n",
    "df.head()"
   ]
  },
  {
   "cell_type": "code",
   "execution_count": 30,
   "id": "cc3651c3",
   "metadata": {
    "execution": {
     "iopub.execute_input": "2022-12-04T04:59:54.517112Z",
     "iopub.status.busy": "2022-12-04T04:59:54.516286Z",
     "iopub.status.idle": "2022-12-04T04:59:54.523684Z",
     "shell.execute_reply": "2022-12-04T04:59:54.522602Z"
    },
    "papermill": {
     "duration": 0.036523,
     "end_time": "2022-12-04T04:59:54.526206",
     "exception": false,
     "start_time": "2022-12-04T04:59:54.489683",
     "status": "completed"
    },
    "tags": []
   },
   "outputs": [
    {
     "data": {
      "text/plain": [
       "(9000, 5)"
      ]
     },
     "execution_count": 30,
     "metadata": {},
     "output_type": "execute_result"
    }
   ],
   "source": [
    "df.shape"
   ]
  },
  {
   "cell_type": "code",
   "execution_count": 31,
   "id": "c63715a3",
   "metadata": {
    "execution": {
     "iopub.execute_input": "2022-12-04T04:59:54.579325Z",
     "iopub.status.busy": "2022-12-04T04:59:54.578894Z",
     "iopub.status.idle": "2022-12-04T04:59:58.086295Z",
     "shell.execute_reply": "2022-12-04T04:59:58.085040Z"
    },
    "papermill": {
     "duration": 3.536485,
     "end_time": "2022-12-04T04:59:58.088747",
     "exception": false,
     "start_time": "2022-12-04T04:59:54.552262",
     "status": "completed"
    },
    "tags": []
   },
   "outputs": [
    {
     "data": {
      "text/html": [
       "<div>\n",
       "<style scoped>\n",
       "    .dataframe tbody tr th:only-of-type {\n",
       "        vertical-align: middle;\n",
       "    }\n",
       "\n",
       "    .dataframe tbody tr th {\n",
       "        vertical-align: top;\n",
       "    }\n",
       "\n",
       "    .dataframe thead th {\n",
       "        text-align: right;\n",
       "    }\n",
       "</style>\n",
       "<table border=\"1\" class=\"dataframe\">\n",
       "  <thead>\n",
       "    <tr style=\"text-align: right;\">\n",
       "      <th></th>\n",
       "      <th>sentiment</th>\n",
       "      <th>sentimentBlob</th>\n",
       "      <th>sentimentPipe</th>\n",
       "      <th>comment_text</th>\n",
       "      <th>tokens_raw</th>\n",
       "      <th>tokens</th>\n",
       "    </tr>\n",
       "  </thead>\n",
       "  <tbody>\n",
       "    <tr>\n",
       "      <th>8</th>\n",
       "      <td>positive</td>\n",
       "      <td>positive</td>\n",
       "      <td>negative</td>\n",
       "      <td>The ranchers seem motivated by mostly by greed...</td>\n",
       "      <td>[ranchers, seem, motivated, mostly, greed, ;, ...</td>\n",
       "      <td>[ranchers, seem, motivate, mostly, greed, ;, o...</td>\n",
       "    </tr>\n",
       "    <tr>\n",
       "      <th>13</th>\n",
       "      <td>negative</td>\n",
       "      <td>negative</td>\n",
       "      <td>negative</td>\n",
       "      <td>It's ridiculous that these guys are being call...</td>\n",
       "      <td>[ridiculous, guys, called, \", protesters, \", a...</td>\n",
       "      <td>[ridiculous, guy, call, \", protesters, \", arm,...</td>\n",
       "    </tr>\n",
       "    <tr>\n",
       "      <th>9</th>\n",
       "      <td>positive</td>\n",
       "      <td>positive</td>\n",
       "      <td>positive</td>\n",
       "      <td>It was a great show. Not a combo I'd of expect...</td>\n",
       "      <td>[great, show, combo, i'd, expected, good, toge...</td>\n",
       "      <td>[great, show, combo, i'd, expect, good, together]</td>\n",
       "    </tr>\n",
       "    <tr>\n",
       "      <th>14</th>\n",
       "      <td>negative</td>\n",
       "      <td>positive</td>\n",
       "      <td>negative</td>\n",
       "      <td>This story gets more ridiculous by the hour! A...</td>\n",
       "      <td>[story, gets, ridiculous, hour, ,, love, peopl...</td>\n",
       "      <td>[story, get, ridiculous, hour, ,, love, people...</td>\n",
       "    </tr>\n",
       "    <tr>\n",
       "      <th>10</th>\n",
       "      <td>positive</td>\n",
       "      <td>positive</td>\n",
       "      <td>positive</td>\n",
       "      <td>Wow, that sounds great.</td>\n",
       "      <td>[wow, ,, sounds, great]</td>\n",
       "      <td>[wow, ,, sound, great]</td>\n",
       "    </tr>\n",
       "  </tbody>\n",
       "</table>\n",
       "</div>"
      ],
      "text/plain": [
       "   sentiment sentimentBlob sentimentPipe  \\\n",
       "8   positive      positive      negative   \n",
       "13  negative      negative      negative   \n",
       "9   positive      positive      positive   \n",
       "14  negative      positive      negative   \n",
       "10  positive      positive      positive   \n",
       "\n",
       "                                         comment_text  \\\n",
       "8   The ranchers seem motivated by mostly by greed...   \n",
       "13  It's ridiculous that these guys are being call...   \n",
       "9   It was a great show. Not a combo I'd of expect...   \n",
       "14  This story gets more ridiculous by the hour! A...   \n",
       "10                            Wow, that sounds great.   \n",
       "\n",
       "                                           tokens_raw  \\\n",
       "8   [ranchers, seem, motivated, mostly, greed, ;, ...   \n",
       "13  [ridiculous, guys, called, \", protesters, \", a...   \n",
       "9   [great, show, combo, i'd, expected, good, toge...   \n",
       "14  [story, gets, ridiculous, hour, ,, love, peopl...   \n",
       "10                            [wow, ,, sounds, great]   \n",
       "\n",
       "                                               tokens  \n",
       "8   [ranchers, seem, motivate, mostly, greed, ;, o...  \n",
       "13  [ridiculous, guy, call, \", protesters, \", arm,...  \n",
       "9   [great, show, combo, i'd, expect, good, together]  \n",
       "14  [story, get, ridiculous, hour, ,, love, people...  \n",
       "10                             [wow, ,, sound, great]  "
      ]
     },
     "execution_count": 31,
     "metadata": {},
     "output_type": "execute_result"
    }
   ],
   "source": [
    "from nltk.stem import WordNetLemmatizer\n",
    "lemmatizer = WordNetLemmatizer()\n",
    "df['tokens'] = df['tokens_raw'].apply(lambda x: [lemmatizer.lemmatize(w, pos=\"v\") for w in x])\n",
    "#df['tokens'] = df['tokens_raw'].apply(lambda x: [lemmatizer.lemmatize(w) for w in x])\n",
    "df.head()"
   ]
  },
  {
   "cell_type": "code",
   "execution_count": 32,
   "id": "3ffcbe65",
   "metadata": {
    "execution": {
     "iopub.execute_input": "2022-12-04T04:59:58.140313Z",
     "iopub.status.busy": "2022-12-04T04:59:58.138845Z",
     "iopub.status.idle": "2022-12-04T04:59:58.176767Z",
     "shell.execute_reply": "2022-12-04T04:59:58.175288Z"
    },
    "papermill": {
     "duration": 0.066531,
     "end_time": "2022-12-04T04:59:58.179611",
     "exception": false,
     "start_time": "2022-12-04T04:59:58.113080",
     "status": "completed"
    },
    "tags": []
   },
   "outputs": [
    {
     "data": {
      "text/html": [
       "<div>\n",
       "<style scoped>\n",
       "    .dataframe tbody tr th:only-of-type {\n",
       "        vertical-align: middle;\n",
       "    }\n",
       "\n",
       "    .dataframe tbody tr th {\n",
       "        vertical-align: top;\n",
       "    }\n",
       "\n",
       "    .dataframe thead th {\n",
       "        text-align: right;\n",
       "    }\n",
       "</style>\n",
       "<table border=\"1\" class=\"dataframe\">\n",
       "  <thead>\n",
       "    <tr style=\"text-align: right;\">\n",
       "      <th></th>\n",
       "      <th>sentiment</th>\n",
       "      <th>sentimentBlob</th>\n",
       "      <th>sentimentPipe</th>\n",
       "      <th>comment_text</th>\n",
       "      <th>tokens_raw</th>\n",
       "      <th>tokens</th>\n",
       "      <th>textclean</th>\n",
       "    </tr>\n",
       "  </thead>\n",
       "  <tbody>\n",
       "    <tr>\n",
       "      <th>8</th>\n",
       "      <td>positive</td>\n",
       "      <td>positive</td>\n",
       "      <td>negative</td>\n",
       "      <td>The ranchers seem motivated by mostly by greed...</td>\n",
       "      <td>[ranchers, seem, motivated, mostly, greed, ;, ...</td>\n",
       "      <td>[ranchers, seem, motivate, mostly, greed, ;, o...</td>\n",
       "      <td>ranchers seem motivate mostly greed ; one righ...</td>\n",
       "    </tr>\n",
       "    <tr>\n",
       "      <th>13</th>\n",
       "      <td>negative</td>\n",
       "      <td>negative</td>\n",
       "      <td>negative</td>\n",
       "      <td>It's ridiculous that these guys are being call...</td>\n",
       "      <td>[ridiculous, guys, called, \", protesters, \", a...</td>\n",
       "      <td>[ridiculous, guy, call, \", protesters, \", arm,...</td>\n",
       "      <td>ridiculous guy call \" protesters \" arm threat ...</td>\n",
       "    </tr>\n",
       "    <tr>\n",
       "      <th>9</th>\n",
       "      <td>positive</td>\n",
       "      <td>positive</td>\n",
       "      <td>positive</td>\n",
       "      <td>It was a great show. Not a combo I'd of expect...</td>\n",
       "      <td>[great, show, combo, i'd, expected, good, toge...</td>\n",
       "      <td>[great, show, combo, i'd, expect, good, together]</td>\n",
       "      <td>great show combo i'd expect good together</td>\n",
       "    </tr>\n",
       "    <tr>\n",
       "      <th>14</th>\n",
       "      <td>negative</td>\n",
       "      <td>positive</td>\n",
       "      <td>negative</td>\n",
       "      <td>This story gets more ridiculous by the hour! A...</td>\n",
       "      <td>[story, gets, ridiculous, hour, ,, love, peopl...</td>\n",
       "      <td>[story, get, ridiculous, hour, ,, love, people...</td>\n",
       "      <td>story get ridiculous hour , love people send g...</td>\n",
       "    </tr>\n",
       "    <tr>\n",
       "      <th>10</th>\n",
       "      <td>positive</td>\n",
       "      <td>positive</td>\n",
       "      <td>positive</td>\n",
       "      <td>Wow, that sounds great.</td>\n",
       "      <td>[wow, ,, sounds, great]</td>\n",
       "      <td>[wow, ,, sound, great]</td>\n",
       "      <td>wow , sound great</td>\n",
       "    </tr>\n",
       "  </tbody>\n",
       "</table>\n",
       "</div>"
      ],
      "text/plain": [
       "   sentiment sentimentBlob sentimentPipe  \\\n",
       "8   positive      positive      negative   \n",
       "13  negative      negative      negative   \n",
       "9   positive      positive      positive   \n",
       "14  negative      positive      negative   \n",
       "10  positive      positive      positive   \n",
       "\n",
       "                                         comment_text  \\\n",
       "8   The ranchers seem motivated by mostly by greed...   \n",
       "13  It's ridiculous that these guys are being call...   \n",
       "9   It was a great show. Not a combo I'd of expect...   \n",
       "14  This story gets more ridiculous by the hour! A...   \n",
       "10                            Wow, that sounds great.   \n",
       "\n",
       "                                           tokens_raw  \\\n",
       "8   [ranchers, seem, motivated, mostly, greed, ;, ...   \n",
       "13  [ridiculous, guys, called, \", protesters, \", a...   \n",
       "9   [great, show, combo, i'd, expected, good, toge...   \n",
       "14  [story, gets, ridiculous, hour, ,, love, peopl...   \n",
       "10                            [wow, ,, sounds, great]   \n",
       "\n",
       "                                               tokens  \\\n",
       "8   [ranchers, seem, motivate, mostly, greed, ;, o...   \n",
       "13  [ridiculous, guy, call, \", protesters, \", arm,...   \n",
       "9   [great, show, combo, i'd, expect, good, together]   \n",
       "14  [story, get, ridiculous, hour, ,, love, people...   \n",
       "10                             [wow, ,, sound, great]   \n",
       "\n",
       "                                            textclean  \n",
       "8   ranchers seem motivate mostly greed ; one righ...  \n",
       "13  ridiculous guy call \" protesters \" arm threat ...  \n",
       "9           great show combo i'd expect good together  \n",
       "14  story get ridiculous hour , love people send g...  \n",
       "10                                  wow , sound great  "
      ]
     },
     "execution_count": 32,
     "metadata": {},
     "output_type": "execute_result"
    }
   ],
   "source": [
    "df['textclean'] = df['tokens'].apply(lambda x: ' '.join(x))\n",
    "df.head()"
   ]
  },
  {
   "cell_type": "code",
   "execution_count": 33,
   "id": "bb813395",
   "metadata": {
    "execution": {
     "iopub.execute_input": "2022-12-04T04:59:58.230417Z",
     "iopub.status.busy": "2022-12-04T04:59:58.229567Z",
     "iopub.status.idle": "2022-12-04T05:00:00.192183Z",
     "shell.execute_reply": "2022-12-04T05:00:00.190987Z"
    },
    "papermill": {
     "duration": 1.991043,
     "end_time": "2022-12-04T05:00:00.194844",
     "exception": false,
     "start_time": "2022-12-04T04:59:58.203801",
     "status": "completed"
    },
    "tags": []
   },
   "outputs": [
    {
     "name": "stdout",
     "output_type": "stream",
     "text": [
      "X_np.shape = (9000, 20223)\n"
     ]
    },
    {
     "data": {
      "text/plain": [
       "numpy.ndarray"
      ]
     },
     "execution_count": 33,
     "metadata": {},
     "output_type": "execute_result"
    }
   ],
   "source": [
    "from sklearn.feature_extraction.text import TfidfVectorizer\n",
    "\n",
    "tfidf_vectorizer = TfidfVectorizer()\n",
    "X_np = tfidf_vectorizer.fit_transform(df['textclean']).toarray()\n",
    "\n",
    "print(f\"X_np.shape = {X_np.shape}\")\n",
    "type(X_np)"
   ]
  },
  {
   "cell_type": "code",
   "execution_count": 34,
   "id": "cf6ed3c5",
   "metadata": {
    "execution": {
     "iopub.execute_input": "2022-12-04T05:00:00.248549Z",
     "iopub.status.busy": "2022-12-04T05:00:00.247434Z",
     "iopub.status.idle": "2022-12-04T05:00:00.256189Z",
     "shell.execute_reply": "2022-12-04T05:00:00.254874Z"
    },
    "papermill": {
     "duration": 0.038338,
     "end_time": "2022-12-04T05:00:00.258580",
     "exception": false,
     "start_time": "2022-12-04T05:00:00.220242",
     "status": "completed"
    },
    "tags": []
   },
   "outputs": [
    {
     "data": {
      "text/plain": [
       "array([[0., 0., 0., 0., 0.],\n",
       "       [0., 0., 0., 0., 0.],\n",
       "       [0., 0., 0., 0., 0.]])"
      ]
     },
     "execution_count": 34,
     "metadata": {},
     "output_type": "execute_result"
    }
   ],
   "source": [
    "X_np[:3,:5]"
   ]
  },
  {
   "cell_type": "code",
   "execution_count": 35,
   "id": "3bd8ce1e",
   "metadata": {
    "execution": {
     "iopub.execute_input": "2022-12-04T05:00:00.311244Z",
     "iopub.status.busy": "2022-12-04T05:00:00.310533Z",
     "iopub.status.idle": "2022-12-04T05:00:02.773478Z",
     "shell.execute_reply": "2022-12-04T05:00:02.772187Z"
    },
    "papermill": {
     "duration": 2.492224,
     "end_time": "2022-12-04T05:00:02.776133",
     "exception": false,
     "start_time": "2022-12-04T05:00:00.283909",
     "status": "completed"
    },
    "tags": []
   },
   "outputs": [
    {
     "data": {
      "text/plain": [
       "torch.Size([9000, 20223])"
      ]
     },
     "execution_count": 35,
     "metadata": {},
     "output_type": "execute_result"
    }
   ],
   "source": [
    "X = torch.tensor(X_np).float()\n",
    "X.size()"
   ]
  },
  {
   "attachments": {},
   "cell_type": "markdown",
   "id": "e50c83b3",
   "metadata": {
    "papermill": {
     "duration": 0.024574,
     "end_time": "2022-12-04T05:00:02.825770",
     "exception": false,
     "start_time": "2022-12-04T05:00:02.801196",
     "status": "completed"
    },
    "tags": []
   },
   "source": [
    "Setting the sentiment value for training."
   ]
  },
  {
   "cell_type": "code",
   "execution_count": 36,
   "id": "81c05507",
   "metadata": {
    "execution": {
     "iopub.execute_input": "2022-12-04T05:00:02.877443Z",
     "iopub.status.busy": "2022-12-04T05:00:02.877022Z",
     "iopub.status.idle": "2022-12-04T05:00:02.888390Z",
     "shell.execute_reply": "2022-12-04T05:00:02.887045Z"
    },
    "papermill": {
     "duration": 0.040454,
     "end_time": "2022-12-04T05:00:02.891194",
     "exception": false,
     "start_time": "2022-12-04T05:00:02.850740",
     "status": "completed"
    },
    "tags": []
   },
   "outputs": [
    {
     "name": "stdout",
     "output_type": "stream",
     "text": [
      "label dictionary: {'negative': 0, 'positive': 1}\n"
     ]
    }
   ],
   "source": [
    "labels = df['sentimentPipe'].unique()\n",
    "enum_labels = enumerate(labels)\n",
    "label_to_idx = dict((lab, i) for i,lab in enum_labels)\n",
    "print(f\"label dictionary: {label_to_idx}\")\n",
    "y = torch.tensor([label_to_idx[lab] for lab in df['sentimentPipe']])"
   ]
  },
  {
   "cell_type": "code",
   "execution_count": 37,
   "id": "b9177a56",
   "metadata": {
    "execution": {
     "iopub.execute_input": "2022-12-04T05:00:02.945357Z",
     "iopub.status.busy": "2022-12-04T05:00:02.944857Z",
     "iopub.status.idle": "2022-12-04T05:00:02.956756Z",
     "shell.execute_reply": "2022-12-04T05:00:02.955477Z"
    },
    "papermill": {
     "duration": 0.043559,
     "end_time": "2022-12-04T05:00:02.959728",
     "exception": false,
     "start_time": "2022-12-04T05:00:02.916169",
     "status": "completed"
    },
    "tags": []
   },
   "outputs": [
    {
     "name": "stdout",
     "output_type": "stream",
     "text": [
      "label dictionary: {'positive': 0, 'negative': 1}\n"
     ]
    }
   ],
   "source": [
    "labels = df['sentimentBlob'].unique()\n",
    "enum_labels = enumerate(labels)\n",
    "label_to_idx = dict((lab, i) for i,lab in enum_labels)\n",
    "print(f\"label dictionary: {label_to_idx}\")\n",
    "y = torch.tensor([label_to_idx[lab] for lab in df['sentimentBlob']])"
   ]
  },
  {
   "cell_type": "code",
   "execution_count": 38,
   "id": "adf9e412",
   "metadata": {
    "execution": {
     "iopub.execute_input": "2022-12-04T05:00:03.015224Z",
     "iopub.status.busy": "2022-12-04T05:00:03.014704Z",
     "iopub.status.idle": "2022-12-04T05:00:03.026420Z",
     "shell.execute_reply": "2022-12-04T05:00:03.024817Z"
    },
    "papermill": {
     "duration": 0.042607,
     "end_time": "2022-12-04T05:00:03.029104",
     "exception": false,
     "start_time": "2022-12-04T05:00:02.986497",
     "status": "completed"
    },
    "tags": []
   },
   "outputs": [
    {
     "name": "stdout",
     "output_type": "stream",
     "text": [
      "label dictionary: {'positive': 0, 'negative': 1}\n"
     ]
    }
   ],
   "source": [
    "labels = df['sentiment'].unique()\n",
    "enum_labels = enumerate(labels)\n",
    "label_to_idx = dict((lab, i) for i,lab in enum_labels)\n",
    "print(f\"label dictionary: {label_to_idx}\")\n",
    "y = torch.tensor([label_to_idx[lab] for lab in df['sentiment']])"
   ]
  },
  {
   "cell_type": "code",
   "execution_count": 39,
   "id": "871c9ad0",
   "metadata": {
    "execution": {
     "iopub.execute_input": "2022-12-04T05:00:03.094330Z",
     "iopub.status.busy": "2022-12-04T05:00:03.093460Z",
     "iopub.status.idle": "2022-12-04T05:00:03.819695Z",
     "shell.execute_reply": "2022-12-04T05:00:03.818006Z"
    },
    "papermill": {
     "duration": 0.765278,
     "end_time": "2022-12-04T05:00:03.823877",
     "exception": false,
     "start_time": "2022-12-04T05:00:03.058599",
     "status": "completed"
    },
    "tags": []
   },
   "outputs": [],
   "source": [
    "class ToxicTextDataset(Dataset):\n",
    "    def __init__(self, observations, labels):\n",
    "        self.obs = observations\n",
    "        self.labs = labels\n",
    "        self.create_split(len(observations))\n",
    "\n",
    "    def create_split(self, n, seed=2, train_perc=0.7):\n",
    "        random.seed(seed)\n",
    "        indices = list(range(n))\n",
    "        random.shuffle(indices)\n",
    "        self._train_ids = list(indices[:int(n * train_perc)])\n",
    "        self._test_ids = list(indices[int(n * train_perc):])\n",
    "        self._split_X = self.obs[self._train_ids]\n",
    "        self._split_y = self.labs[self._train_ids]\n",
    "\n",
    "    def set_split(self, split='train'):\n",
    "        if split == 'train':\n",
    "            self._split_X = self.obs[self._train_ids]\n",
    "            self._split_y = self.labs[self._train_ids]\n",
    "        else:\n",
    "            self._split_X = self.obs[self._test_ids]\n",
    "            self._split_y = self.labs[self._test_ids]\n",
    "\n",
    "    def __len__(self):\n",
    "        return len(self._split_y)\n",
    "\n",
    "    def __getitem__(self, idx):\n",
    "        return {'x':self._split_X[idx], 'y':self._split_y[idx]}\n",
    "    \n",
    "    def get_num_batches(self, batch_size):\n",
    "        return len(self) // batch_size\n",
    "\n",
    "dataset = ToxicTextDataset(X, y)\n",
    "dataset.create_split(len(X), seed=42, train_perc=0.80)"
   ]
  },
  {
   "cell_type": "code",
   "execution_count": 40,
   "id": "7762b879",
   "metadata": {
    "execution": {
     "iopub.execute_input": "2022-12-04T05:00:03.888383Z",
     "iopub.status.busy": "2022-12-04T05:00:03.887667Z",
     "iopub.status.idle": "2022-12-04T05:00:04.223832Z",
     "shell.execute_reply": "2022-12-04T05:00:04.222426Z"
    },
    "papermill": {
     "duration": 0.368354,
     "end_time": "2022-12-04T05:00:04.227955",
     "exception": false,
     "start_time": "2022-12-04T05:00:03.859601",
     "status": "completed"
    },
    "tags": []
   },
   "outputs": [
    {
     "name": "stdout",
     "output_type": "stream",
     "text": [
      "len(dataset) = 7200\n"
     ]
    },
    {
     "data": {
      "text/plain": [
       "tensor([0., 0., 0.,  ..., 0., 0., 0.])"
      ]
     },
     "execution_count": 40,
     "metadata": {},
     "output_type": "execute_result"
    }
   ],
   "source": [
    "dataset.set_split('train')\n",
    "print(f\"len(dataset) = {len(dataset)}\")\n",
    "#len(dataset[:]['x'])\n",
    "dataset[0]['x']"
   ]
  },
  {
   "cell_type": "code",
   "execution_count": 41,
   "id": "1bba9850",
   "metadata": {
    "execution": {
     "iopub.execute_input": "2022-12-04T05:00:04.286282Z",
     "iopub.status.busy": "2022-12-04T05:00:04.285814Z",
     "iopub.status.idle": "2022-12-04T05:00:04.548925Z",
     "shell.execute_reply": "2022-12-04T05:00:04.547308Z"
    },
    "papermill": {
     "duration": 0.297431,
     "end_time": "2022-12-04T05:00:04.551990",
     "exception": false,
     "start_time": "2022-12-04T05:00:04.254559",
     "status": "completed"
    },
    "tags": []
   },
   "outputs": [],
   "source": [
    "assert not np.any(np.isnan(dataset[:]['x'].numpy()))\n",
    "assert np.all(np.isfinite(dataset[:]['x'].numpy()))"
   ]
  },
  {
   "cell_type": "code",
   "execution_count": 42,
   "id": "712b44df",
   "metadata": {
    "execution": {
     "iopub.execute_input": "2022-12-04T05:00:04.610975Z",
     "iopub.status.busy": "2022-12-04T05:00:04.609261Z",
     "iopub.status.idle": "2022-12-04T05:00:04.621550Z",
     "shell.execute_reply": "2022-12-04T05:00:04.620203Z"
    },
    "papermill": {
     "duration": 0.045708,
     "end_time": "2022-12-04T05:00:04.624997",
     "exception": false,
     "start_time": "2022-12-04T05:00:04.579289",
     "status": "completed"
    },
    "tags": []
   },
   "outputs": [],
   "source": [
    "class ToxicTextClassifier(nn.Module):\n",
    "    \"\"\" A 2-layer Multilayer Perceptron for classifying text\"\"\"\n",
    "    def __init__(self, input_dim, hidden_dim, output_dim):\n",
    "        \"\"\"\n",
    "        Args:\n",
    "            input_dim (int): the size of the input embeddings\n",
    "            hidden_dim (int): the output size of the first Linear layer\n",
    "            output_dim (int): the output size of the second Linear layer\n",
    "        \"\"\"\n",
    "        super(ToxicTextClassifier, self).__init__()\n",
    "\n",
    "        self.fc1 = nn.Linear(input_dim, hidden_dim)\n",
    "        self.fc2 = nn.Linear(hidden_dim, 32)\n",
    "        self.fc3 = nn.Linear(32, output_dim)\n",
    "        self.dropout = nn.Dropout(0.65)\n",
    "\n",
    "    def forward(self, x_in, apply_softmax=False):\n",
    "        \"\"\"The forward pass of the classifier\n",
    "        \n",
    "        Args:\n",
    "            x_in (torch.Tensor): an input data tensor. \n",
    "                x_in.shape should be (batch, input_dim)\n",
    "            apply_softmax (bool): a flag for the softmax activation\n",
    "                should be false if used with the Cross Entropy losses\n",
    "        Returns:\n",
    "            the resulting tensor. tensor.shape should be (batch, output_dim)\n",
    "        \"\"\"\n",
    "        intermediate_vector = F.relu(self.fc1(x_in))\n",
    "\n",
    "        intermediate_vector = F.relu(self.fc2(intermediate_vector))\n",
    "        intermediate_vector = self.dropout(intermediate_vector)\n",
    "\n",
    "        prediction_vector = self.fc3(intermediate_vector)\n",
    "\n",
    "        if apply_softmax:\n",
    "            prediction_vector = F.softmax(prediction_vector, dim=1)\n",
    "\n",
    "        return prediction_vector"
   ]
  },
  {
   "cell_type": "code",
   "execution_count": 43,
   "id": "7fb589a6",
   "metadata": {
    "execution": {
     "iopub.execute_input": "2022-12-04T05:00:04.690312Z",
     "iopub.status.busy": "2022-12-04T05:00:04.689807Z",
     "iopub.status.idle": "2022-12-04T05:00:04.697398Z",
     "shell.execute_reply": "2022-12-04T05:00:04.695853Z"
    },
    "papermill": {
     "duration": 0.039045,
     "end_time": "2022-12-04T05:00:04.700723",
     "exception": false,
     "start_time": "2022-12-04T05:00:04.661678",
     "status": "completed"
    },
    "tags": []
   },
   "outputs": [],
   "source": [
    "batch_size = 100\n",
    "learning_rate = 0.005 # 0.005\n",
    "num_epochs = 2\n",
    "\n",
    "#device = torch.device('mps' if torch.backends.mps.is_available() else 'cpu')\n",
    "device = 'cpu'\n",
    "\n",
    "dataloader = DataLoader(dataset=dataset, batch_size=batch_size, shuffle=True)"
   ]
  },
  {
   "cell_type": "code",
   "execution_count": 44,
   "id": "6034f187",
   "metadata": {
    "execution": {
     "iopub.execute_input": "2022-12-04T05:00:04.757408Z",
     "iopub.status.busy": "2022-12-04T05:00:04.756336Z",
     "iopub.status.idle": "2022-12-04T05:00:05.084432Z",
     "shell.execute_reply": "2022-12-04T05:00:05.082885Z"
    },
    "papermill": {
     "duration": 0.360199,
     "end_time": "2022-12-04T05:00:05.087852",
     "exception": false,
     "start_time": "2022-12-04T05:00:04.727653",
     "status": "completed"
    },
    "tags": []
   },
   "outputs": [
    {
     "name": "stdout",
     "output_type": "stream",
     "text": [
      "7200\n",
      "1800\n"
     ]
    }
   ],
   "source": [
    "dataset.set_split('train')\n",
    "print(len(dataloader) * batch_size)\n",
    "dataset.set_split('val')\n",
    "print(len(dataloader) * batch_size)"
   ]
  },
  {
   "cell_type": "code",
   "execution_count": 45,
   "id": "bb81de54",
   "metadata": {
    "execution": {
     "iopub.execute_input": "2022-12-04T05:00:05.140645Z",
     "iopub.status.busy": "2022-12-04T05:00:05.140194Z",
     "iopub.status.idle": "2022-12-04T05:00:05.167832Z",
     "shell.execute_reply": "2022-12-04T05:00:05.166253Z"
    },
    "papermill": {
     "duration": 0.059353,
     "end_time": "2022-12-04T05:00:05.172729",
     "exception": false,
     "start_time": "2022-12-04T05:00:05.113376",
     "status": "completed"
    },
    "tags": []
   },
   "outputs": [],
   "source": [
    "model = ToxicTextClassifier(len(dataset[0]['x']), 128, 3)\n",
    "\n",
    "# define loss function and optimizer\n",
    "#weights = 1 / torch.tensor([15.0, 65.0, 20.0])\n",
    "loss_fun = nn.CrossEntropyLoss()#weights)\n",
    "\n",
    "optimizer = torch.optim.Adam(model.parameters(), lr=learning_rate)"
   ]
  },
  {
   "cell_type": "code",
   "execution_count": 46,
   "id": "ccd03a95",
   "metadata": {
    "execution": {
     "iopub.execute_input": "2022-12-04T05:00:05.231602Z",
     "iopub.status.busy": "2022-12-04T05:00:05.231056Z",
     "iopub.status.idle": "2022-12-04T05:00:05.243116Z",
     "shell.execute_reply": "2022-12-04T05:00:05.241161Z"
    },
    "papermill": {
     "duration": 0.044416,
     "end_time": "2022-12-04T05:00:05.246422",
     "exception": false,
     "start_time": "2022-12-04T05:00:05.202006",
     "status": "completed"
    },
    "tags": []
   },
   "outputs": [],
   "source": [
    "seed = 2\n",
    "np.random.seed(seed)\n",
    "torch.manual_seed(seed)\n",
    "random.seed(seed)"
   ]
  },
  {
   "cell_type": "code",
   "execution_count": 47,
   "id": "f1834b35",
   "metadata": {
    "execution": {
     "iopub.execute_input": "2022-12-04T05:00:05.305300Z",
     "iopub.status.busy": "2022-12-04T05:00:05.304399Z",
     "iopub.status.idle": "2022-12-04T05:00:12.237043Z",
     "shell.execute_reply": "2022-12-04T05:00:12.235710Z"
    },
    "papermill": {
     "duration": 6.965169,
     "end_time": "2022-12-04T05:00:12.240124",
     "exception": false,
     "start_time": "2022-12-04T05:00:05.274955",
     "status": "completed"
    },
    "tags": []
   },
   "outputs": [
    {
     "data": {
      "application/vnd.jupyter.widget-view+json": {
       "model_id": "1f506bdfe291496eb58dfec79f15b015",
       "version_major": 2,
       "version_minor": 0
      },
      "text/plain": [
       "training routine:   0%|          | 0/2 [00:00<?, ?it/s]"
      ]
     },
     "metadata": {},
     "output_type": "display_data"
    },
    {
     "data": {
      "application/vnd.jupyter.widget-view+json": {
       "model_id": "037a31da3d3540a6aa552c10b224e0c0",
       "version_major": 2,
       "version_minor": 0
      },
      "text/plain": [
       "split=train:   0%|          | 0/72 [00:00<?, ?it/s]"
      ]
     },
     "metadata": {},
     "output_type": "display_data"
    },
    {
     "data": {
      "application/vnd.jupyter.widget-view+json": {
       "model_id": "c5592433cfc74fed925031909cd266d2",
       "version_major": 2,
       "version_minor": 0
      },
      "text/plain": [
       "split=val:   0%|          | 0/18 [00:00<?, ?it/s]"
      ]
     },
     "metadata": {},
     "output_type": "display_data"
    }
   ],
   "source": [
    "epoch_bar = notebook.tqdm(desc='training routine', total=num_epochs, position=0)\n",
    "\n",
    "dataset.set_split('train')\n",
    "train_bar = notebook.tqdm(desc='split=train', total=dataset.get_num_batches(batch_size), position=1, leave=True)\n",
    "\n",
    "dataset.set_split('val')\n",
    "val_bar = notebook.tqdm(desc='split=val', total=dataset.get_num_batches(batch_size), position=1, leave=True)\n",
    "\n",
    "losses = {'train':[], 'val':[]}\n",
    "\n",
    "for epoch in range(num_epochs):\n",
    "\n",
    "    dataset.set_split('train')\n",
    "    model.train()\n",
    "    running_loss_train = 0.0\n",
    "\n",
    "    for batch_i, batch_data in enumerate(dataloader):  \n",
    "        tweets = batch_data['x'].to(device)\n",
    "        labels = batch_data['y'].to(device)\n",
    "        \n",
    "        # forward\n",
    "        outputs = model(tweets)\n",
    "        loss = loss_fun(outputs, labels)\n",
    "        losses['train'].append(loss.item())\n",
    "        running_loss_train += loss.item()\n",
    "        \t\n",
    "        # backward and optimize\n",
    "        optimizer.zero_grad()\n",
    "        loss.backward()\n",
    "        optimizer.step()\n",
    "        \t\t\n",
    "        #if (batch_i+1) % 10 == 0:\n",
    "        #    print(f\"    train batch {batch_i+1:3.0f} (of {len(dataloader):3.0f}) loss: {loss.item():.4f}\")\n",
    "            # update bar\n",
    "        train_bar.set_postfix(loss=running_loss_train, epoch=epoch)\n",
    "        train_bar.update()\n",
    "\n",
    "    train_bar.set_postfix(loss=running_loss_train/dataset.get_num_batches(batch_size), epoch=epoch)\n",
    "    train_bar.update()\n",
    "\n",
    "\n",
    "    running_loss_train = running_loss_train / len(dataset)\n",
    "\n",
    "    dataset.set_split('val')\n",
    "    model.eval() # turn off the automatic differentiation \n",
    "    running_loss_val = 0.0\n",
    "\n",
    "    for batch_i, batch_data in enumerate(dataloader):  \n",
    "        tweets = batch_data['x'].to(device)\n",
    "        labels = batch_data['y'].to(device)\n",
    "\n",
    "        \n",
    "        # forward (no backward step for validation data)\n",
    "        outputs = model(tweets)\n",
    "        loss = loss_fun(outputs, labels)\n",
    "        losses['val'].append(loss.item())\n",
    "        running_loss_val += loss.item()\n",
    "        #if (batch_i+1) % 20 == 0:\n",
    "        #    print(f\"    valid batch {i+1:3.0f} (of {len(dataloader):3.0f}) loss: {loss.item():.4f}\")\n",
    "        val_bar.set_postfix(loss=running_loss_val, epoch=epoch)\n",
    "        val_bar.update()\n",
    "\n",
    "    val_bar.set_postfix(loss=running_loss_val/dataset.get_num_batches(batch_size), epoch=epoch)\n",
    "    val_bar.update()\n",
    "\n",
    "    train_bar.n = 0\n",
    "    val_bar.n = 0\n",
    "    epoch_bar.update()\n",
    "\n",
    "    running_loss_val = running_loss_val / len(dataset)"
   ]
  },
  {
   "cell_type": "code",
   "execution_count": 48,
   "id": "e90c218d",
   "metadata": {
    "execution": {
     "iopub.execute_input": "2022-12-04T05:00:12.296088Z",
     "iopub.status.busy": "2022-12-04T05:00:12.295572Z",
     "iopub.status.idle": "2022-12-04T05:00:13.023321Z",
     "shell.execute_reply": "2022-12-04T05:00:13.022059Z"
    },
    "papermill": {
     "duration": 0.760213,
     "end_time": "2022-12-04T05:00:13.026284",
     "exception": false,
     "start_time": "2022-12-04T05:00:12.266071",
     "status": "completed"
    },
    "tags": []
   },
   "outputs": [
    {
     "data": {
      "text/plain": [
       "<matplotlib.legend.Legend at 0x7f667a8a4a50>"
      ]
     },
     "execution_count": 48,
     "metadata": {},
     "output_type": "execute_result"
    },
    {
     "data": {
      "image/png": "[encoded data removed]",
      "text/plain": [
       "<Figure size 1080x288 with 1 Axes>"
      ]
     },
     "metadata": {
      "needs_background": "light"
     },
     "output_type": "display_data"
    }
   ],
   "source": [
    "#sentimentPipe\n",
    "matplotlib.rc('figure', figsize=(15,4))\n",
    "val_ticks = [(i+1)*len(losses['train'])/len(losses['val']) for i in range(len(losses['val']))]\n",
    "plt.plot(range(len(losses['train'])), losses['train'], c='blue', lw=0.75)\n",
    "plt.plot(val_ticks, losses['val'], c='orange', lw=0.75)\n",
    "for i in range(num_epochs):\n",
    "    plt.axvline(x=i*len(losses['train'])/num_epochs, c='black', lw=0.25, alpha=0.5)\n",
    "plt.ylabel('Loss')\n",
    "plt.xlabel('Epoch and Batch')\n",
    "plt.legend(('Train','Validation'))"
   ]
  },
  {
   "cell_type": "code",
   "execution_count": 49,
   "id": "2837c417",
   "metadata": {
    "execution": {
     "iopub.execute_input": "2022-12-04T05:00:13.080986Z",
     "iopub.status.busy": "2022-12-04T05:00:13.080573Z",
     "iopub.status.idle": "2022-12-04T05:00:13.391496Z",
     "shell.execute_reply": "2022-12-04T05:00:13.390042Z"
    },
    "papermill": {
     "duration": 0.341737,
     "end_time": "2022-12-04T05:00:13.394211",
     "exception": false,
     "start_time": "2022-12-04T05:00:13.052474",
     "status": "completed"
    },
    "tags": []
   },
   "outputs": [
    {
     "data": {
      "text/plain": [
       "<matplotlib.legend.Legend at 0x7f667a8dda10>"
      ]
     },
     "execution_count": 49,
     "metadata": {},
     "output_type": "execute_result"
    },
    {
     "data": {
      "image/png": "[encoded data removed]",
      "text/plain": [
       "<Figure size 1080x288 with 1 Axes>"
      ]
     },
     "metadata": {
      "needs_background": "light"
     },
     "output_type": "display_data"
    }
   ],
   "source": [
    "#sentimentBlob\n",
    "matplotlib.rc('figure', figsize=(15,4))\n",
    "val_ticks = [(i+1)*len(losses['train'])/len(losses['val']) for i in range(len(losses['val']))]\n",
    "plt.plot(range(len(losses['train'])), losses['train'], c='blue', lw=0.75)\n",
    "plt.plot(val_ticks, losses['val'], c='orange', lw=0.75)\n",
    "for i in range(num_epochs):\n",
    "    plt.axvline(x=i*len(losses['train'])/num_epochs, c='black', lw=0.25, alpha=0.5)\n",
    "plt.ylabel('Loss')\n",
    "plt.xlabel('Epoch and Batch')\n",
    "plt.legend(('Train','Validation'))"
   ]
  },
  {
   "cell_type": "code",
   "execution_count": 50,
   "id": "30a1da35",
   "metadata": {
    "execution": {
     "iopub.execute_input": "2022-12-04T05:00:13.449614Z",
     "iopub.status.busy": "2022-12-04T05:00:13.449199Z",
     "iopub.status.idle": "2022-12-04T05:00:13.748999Z",
     "shell.execute_reply": "2022-12-04T05:00:13.747688Z"
    },
    "papermill": {
     "duration": 0.330613,
     "end_time": "2022-12-04T05:00:13.751681",
     "exception": false,
     "start_time": "2022-12-04T05:00:13.421068",
     "status": "completed"
    },
    "tags": []
   },
   "outputs": [
    {
     "data": {
      "text/plain": [
       "<matplotlib.legend.Legend at 0x7f667a8cb550>"
      ]
     },
     "execution_count": 50,
     "metadata": {},
     "output_type": "execute_result"
    },
    {
     "data": {
      "image/png": "[encoded data removed]",
      "text/plain": [
       "<Figure size 1080x288 with 1 Axes>"
      ]
     },
     "metadata": {
      "needs_background": "light"
     },
     "output_type": "display_data"
    }
   ],
   "source": [
    "#sentiment\n",
    "matplotlib.rc('figure', figsize=(15,4))\n",
    "val_ticks = [(i+1)*len(losses['train'])/len(losses['val']) for i in range(len(losses['val']))]\n",
    "plt.plot(range(len(losses['train'])), losses['train'], c='blue', lw=0.75)\n",
    "plt.plot(val_ticks, losses['val'], c='orange', lw=0.75)\n",
    "for i in range(num_epochs):\n",
    "    plt.axvline(x=i*len(losses['train'])/num_epochs, c='black', lw=0.25, alpha=0.5)\n",
    "plt.ylabel('Loss')\n",
    "plt.xlabel('Epoch and Batch')\n",
    "plt.legend(('Train','Validation'))"
   ]
  },
  {
   "cell_type": "code",
   "execution_count": 51,
   "id": "2bd69c25",
   "metadata": {
    "execution": {
     "iopub.execute_input": "2022-12-04T05:00:13.815114Z",
     "iopub.status.busy": "2022-12-04T05:00:13.813410Z",
     "iopub.status.idle": "2022-12-04T05:00:14.008523Z",
     "shell.execute_reply": "2022-12-04T05:00:14.007239Z"
    },
    "papermill": {
     "duration": 0.229719,
     "end_time": "2022-12-04T05:00:14.011279",
     "exception": false,
     "start_time": "2022-12-04T05:00:13.781560",
     "status": "completed"
    },
    "tags": []
   },
   "outputs": [
    {
     "name": "stdout",
     "output_type": "stream",
     "text": [
      "Accuracy (on 1800 entries): 84.11%\n"
     ]
    }
   ],
   "source": [
    "#sentimentPipe\n",
    "# Test the model\n",
    "# In test phase, we don't need to compute gradients (for memory efficiency)\n",
    "y_true = []\n",
    "y_pred = []\n",
    "with torch.no_grad():\n",
    "    correct = 0\n",
    "    total = 0\n",
    "    for batch_data in dataloader:\n",
    "        tweets = batch_data['x'].to(device)\n",
    "        labels = batch_data['y'].to(device)\n",
    "        outputs = model(tweets)\n",
    "        _, predicted = torch.max(outputs.data, 1)\n",
    "        y_true += labels.tolist()\n",
    "        y_pred += predicted.tolist()\n",
    "        total += labels.size(0)\n",
    "        correct += (predicted == labels).sum().item()\n",
    "\n",
    "    print(f\"Accuracy (on {len(dataloader)*batch_size} entries): {100 * correct / total:.2f}%\")\n",
    "\t "
   ]
  },
  {
   "cell_type": "code",
   "execution_count": 52,
   "id": "7d0deb47",
   "metadata": {
    "execution": {
     "iopub.execute_input": "2022-12-04T05:00:14.071259Z",
     "iopub.status.busy": "2022-12-04T05:00:14.070535Z",
     "iopub.status.idle": "2022-12-04T05:00:14.274138Z",
     "shell.execute_reply": "2022-12-04T05:00:14.273075Z"
    },
    "papermill": {
     "duration": 0.236395,
     "end_time": "2022-12-04T05:00:14.276652",
     "exception": false,
     "start_time": "2022-12-04T05:00:14.040257",
     "status": "completed"
    },
    "tags": []
   },
   "outputs": [
    {
     "name": "stdout",
     "output_type": "stream",
     "text": [
      "Accuracy (on 1800 entries): 84.11%\n"
     ]
    }
   ],
   "source": [
    "#sentimentBlob\n",
    "# Test the model\n",
    "# In test phase, we don't need to compute gradients (for memory efficiency)\n",
    "y_true = []\n",
    "y_pred = []\n",
    "with torch.no_grad():\n",
    "    correct = 0\n",
    "    total = 0\n",
    "    for batch_data in dataloader:\n",
    "        tweets = batch_data['x'].to(device)\n",
    "        labels = batch_data['y'].to(device)\n",
    "        outputs = model(tweets)\n",
    "        _, predicted = torch.max(outputs.data, 1)\n",
    "        y_true += labels.tolist()\n",
    "        y_pred += predicted.tolist()\n",
    "        total += labels.size(0)\n",
    "        correct += (predicted == labels).sum().item()\n",
    "\n",
    "    print(f\"Accuracy (on {len(dataloader)*batch_size} entries): {100 * correct / total:.2f}%\")"
   ]
  },
  {
   "cell_type": "code",
   "execution_count": 53,
   "id": "8d846d08",
   "metadata": {
    "execution": {
     "iopub.execute_input": "2022-12-04T05:00:14.341823Z",
     "iopub.status.busy": "2022-12-04T05:00:14.339680Z",
     "iopub.status.idle": "2022-12-04T05:00:14.538019Z",
     "shell.execute_reply": "2022-12-04T05:00:14.536477Z"
    },
    "papermill": {
     "duration": 0.231305,
     "end_time": "2022-12-04T05:00:14.540502",
     "exception": false,
     "start_time": "2022-12-04T05:00:14.309197",
     "status": "completed"
    },
    "tags": []
   },
   "outputs": [
    {
     "name": "stdout",
     "output_type": "stream",
     "text": [
      "Accuracy (on 1800 entries): 84.11%\n"
     ]
    }
   ],
   "source": [
    "#sentiment\n",
    "y_true = []\n",
    "y_pred = []\n",
    "with torch.no_grad():\n",
    "    correct = 0\n",
    "    total = 0\n",
    "    for batch_data in dataloader:\n",
    "        tweets = batch_data['x'].to(device)\n",
    "        labels = batch_data['y'].to(device)\n",
    "        outputs = model(tweets)\n",
    "        _, predicted = torch.max(outputs.data, 1)\n",
    "        y_true += labels.tolist()\n",
    "        y_pred += predicted.tolist()\n",
    "        total += labels.size(0)\n",
    "        correct += (predicted == labels).sum().item()\n",
    "\n",
    "    print(f\"Accuracy (on {len(dataloader)*batch_size} entries): {100 * correct / total:.2f}%\")\n"
   ]
  },
  {
   "cell_type": "code",
   "execution_count": 54,
   "id": "d8d2c717",
   "metadata": {
    "execution": {
     "iopub.execute_input": "2022-12-04T05:00:14.601700Z",
     "iopub.status.busy": "2022-12-04T05:00:14.600244Z",
     "iopub.status.idle": "2022-12-04T05:00:14.880181Z",
     "shell.execute_reply": "2022-12-04T05:00:14.878594Z"
    },
    "papermill": {
     "duration": 0.31344,
     "end_time": "2022-12-04T05:00:14.883127",
     "exception": false,
     "start_time": "2022-12-04T05:00:14.569687",
     "status": "completed"
    },
    "tags": []
   },
   "outputs": [
    {
     "data": {
      "text/plain": [
       "<sklearn.metrics._plot.confusion_matrix.ConfusionMatrixDisplay at 0x7f667a8d4f90>"
      ]
     },
     "execution_count": 54,
     "metadata": {},
     "output_type": "execute_result"
    },
    {
     "data": {
      "image/png": "[encoded data removed]",
      "text/plain": [
       "<Figure size 1080x288 with 2 Axes>"
      ]
     },
     "metadata": {
      "needs_background": "light"
     },
     "output_type": "display_data"
    }
   ],
   "source": [
    "#sentimentPipe\n",
    "from sklearn.metrics import confusion_matrix, ConfusionMatrixDisplay\n",
    "cm = confusion_matrix(y_true, y_pred)\n",
    "disp = ConfusionMatrixDisplay(cm, display_labels=['positive','negative'])\n",
    "disp.plot()"
   ]
  },
  {
   "cell_type": "code",
   "execution_count": 55,
   "id": "7469854a",
   "metadata": {
    "execution": {
     "iopub.execute_input": "2022-12-04T05:00:14.946200Z",
     "iopub.status.busy": "2022-12-04T05:00:14.945757Z",
     "iopub.status.idle": "2022-12-04T05:00:15.211457Z",
     "shell.execute_reply": "2022-12-04T05:00:15.210435Z"
    },
    "papermill": {
     "duration": 0.300398,
     "end_time": "2022-12-04T05:00:15.214217",
     "exception": false,
     "start_time": "2022-12-04T05:00:14.913819",
     "status": "completed"
    },
    "tags": []
   },
   "outputs": [
    {
     "data": {
      "text/plain": [
       "<sklearn.metrics._plot.confusion_matrix.ConfusionMatrixDisplay at 0x7f667a906150>"
      ]
     },
     "execution_count": 55,
     "metadata": {},
     "output_type": "execute_result"
    },
    {
     "data": {
      "image/png": "[encoded data removed]",
      "text/plain": [
       "<Figure size 1080x288 with 2 Axes>"
      ]
     },
     "metadata": {
      "needs_background": "light"
     },
     "output_type": "display_data"
    }
   ],
   "source": [
    "#sentimentBlob\n",
    "from sklearn.metrics import confusion_matrix, ConfusionMatrixDisplay\n",
    "cm = confusion_matrix(y_true, y_pred)\n",
    "disp = ConfusionMatrixDisplay(cm, display_labels=['positive','negative'])\n",
    "disp.plot()"
   ]
  },
  {
   "cell_type": "code",
   "execution_count": 56,
   "id": "f2758041",
   "metadata": {
    "execution": {
     "iopub.execute_input": "2022-12-04T05:00:15.274839Z",
     "iopub.status.busy": "2022-12-04T05:00:15.274363Z",
     "iopub.status.idle": "2022-12-04T05:00:15.548650Z",
     "shell.execute_reply": "2022-12-04T05:00:15.547205Z"
    },
    "papermill": {
     "duration": 0.309557,
     "end_time": "2022-12-04T05:00:15.552847",
     "exception": false,
     "start_time": "2022-12-04T05:00:15.243290",
     "status": "completed"
    },
    "tags": []
   },
   "outputs": [
    {
     "data": {
      "text/plain": [
       "<sklearn.metrics._plot.confusion_matrix.ConfusionMatrixDisplay at 0x7f667a905a50>"
      ]
     },
     "execution_count": 56,
     "metadata": {},
     "output_type": "execute_result"
    },
    {
     "data": {
      "image/png": "[encoded data removed]",
      "text/plain": [
       "<Figure size 1080x288 with 2 Axes>"
      ]
     },
     "metadata": {
      "needs_background": "light"
     },
     "output_type": "display_data"
    }
   ],
   "source": [
    "#sentiment\n",
    "from sklearn.metrics import confusion_matrix, ConfusionMatrixDisplay\n",
    "cm = confusion_matrix(y_true, y_pred)\n",
    "disp = ConfusionMatrixDisplay(cm, display_labels=['positive','negative'])\n",
    "disp.plot()"
   ]
  },
  {
   "attachments": {},
   "cell_type": "markdown",
   "id": "56261882",
   "metadata": {
    "papermill": {
     "duration": 0.028759,
     "end_time": "2022-12-04T05:00:15.612732",
     "exception": false,
     "start_time": "2022-12-04T05:00:15.583973",
     "status": "completed"
    },
    "tags": []
   },
   "source": [
    "\n",
    "\n"
   ]
  },
  {
   "cell_type": "code",
   "execution_count": 57,
   "id": "cb9f188c",
   "metadata": {
    "execution": {
     "iopub.execute_input": "2022-12-04T05:00:15.678589Z",
     "iopub.status.busy": "2022-12-04T05:00:15.677395Z",
     "iopub.status.idle": "2022-12-04T05:00:16.109039Z",
     "shell.execute_reply": "2022-12-04T05:00:16.107877Z"
    },
    "papermill": {
     "duration": 0.465451,
     "end_time": "2022-12-04T05:00:16.111677",
     "exception": false,
     "start_time": "2022-12-04T05:00:15.646226",
     "status": "completed"
    },
    "tags": []
   },
   "outputs": [
    {
     "data": {
      "text/html": [
       "<div>\n",
       "<style scoped>\n",
       "    .dataframe tbody tr th:only-of-type {\n",
       "        vertical-align: middle;\n",
       "    }\n",
       "\n",
       "    .dataframe tbody tr th {\n",
       "        vertical-align: top;\n",
       "    }\n",
       "\n",
       "    .dataframe thead th {\n",
       "        text-align: right;\n",
       "    }\n",
       "</style>\n",
       "<table border=\"1\" class=\"dataframe\">\n",
       "  <thead>\n",
       "    <tr style=\"text-align: right;\">\n",
       "      <th></th>\n",
       "      <th>sentiment</th>\n",
       "      <th>sentimentBlob</th>\n",
       "      <th>sentimentPipe</th>\n",
       "      <th>comment_text</th>\n",
       "      <th>tokens_raw</th>\n",
       "    </tr>\n",
       "  </thead>\n",
       "  <tbody>\n",
       "    <tr>\n",
       "      <th>4790</th>\n",
       "      <td>positive</td>\n",
       "      <td>positive</td>\n",
       "      <td>negative</td>\n",
       "      <td>This is what democracy looks like, Individuals...</td>\n",
       "      <td>[democracy, looks, like, ,, individuals, justi...</td>\n",
       "    </tr>\n",
       "    <tr>\n",
       "      <th>83583</th>\n",
       "      <td>negative</td>\n",
       "      <td>negative</td>\n",
       "      <td>negative</td>\n",
       "      <td>Lynn,\\n\\nThe AGIA boondoggle was not Walker's ...</td>\n",
       "      <td>[lynn, ,, agia, boondoggle, walker's, idea, re...</td>\n",
       "    </tr>\n",
       "    <tr>\n",
       "      <th>4791</th>\n",
       "      <td>positive</td>\n",
       "      <td>positive</td>\n",
       "      <td>positive</td>\n",
       "      <td>The senate has not ignored their duties.  They...</td>\n",
       "      <td>[senate, ignored, duties, advised, president, ...</td>\n",
       "    </tr>\n",
       "    <tr>\n",
       "      <th>83593</th>\n",
       "      <td>negative</td>\n",
       "      <td>positive</td>\n",
       "      <td>negative</td>\n",
       "      <td>He, she, whatever it is will be right at home ...</td>\n",
       "      <td>[,, ,, whatever, right, home, evergreen, state...</td>\n",
       "    </tr>\n",
       "    <tr>\n",
       "      <th>4792</th>\n",
       "      <td>positive</td>\n",
       "      <td>positive</td>\n",
       "      <td>positive</td>\n",
       "      <td>I agree with you.  This assumes she's not indi...</td>\n",
       "      <td>[agree, assumes, indicted, course]</td>\n",
       "    </tr>\n",
       "  </tbody>\n",
       "</table>\n",
       "</div>"
      ],
      "text/plain": [
       "      sentiment sentimentBlob sentimentPipe  \\\n",
       "4790   positive      positive      negative   \n",
       "83583  negative      negative      negative   \n",
       "4791   positive      positive      positive   \n",
       "83593  negative      positive      negative   \n",
       "4792   positive      positive      positive   \n",
       "\n",
       "                                            comment_text  \\\n",
       "4790   This is what democracy looks like, Individuals...   \n",
       "83583  Lynn,\\n\\nThe AGIA boondoggle was not Walker's ...   \n",
       "4791   The senate has not ignored their duties.  They...   \n",
       "83593  He, she, whatever it is will be right at home ...   \n",
       "4792   I agree with you.  This assumes she's not indi...   \n",
       "\n",
       "                                              tokens_raw  \n",
       "4790   [democracy, looks, like, ,, individuals, justi...  \n",
       "83583  [lynn, ,, agia, boondoggle, walker's, idea, re...  \n",
       "4791   [senate, ignored, duties, advised, president, ...  \n",
       "83593  [,, ,, whatever, right, home, evergreen, state...  \n",
       "4792                  [agree, assumes, indicted, course]  "
      ]
     },
     "execution_count": 57,
     "metadata": {},
     "output_type": "execute_result"
    }
   ],
   "source": [
    "tk = TweetTokenizer()\n",
    "df_test['tokens_raw'] = df_test['comment_text'].apply(lambda x: tk.tokenize(x.lower()))\n",
    "df_test['tokens_raw'] = df_test['tokens_raw'].apply(lambda x: [w for w in x if w not in stops])\n",
    "df_test['tokens_raw'] = df_test['tokens_raw'].apply(lambda x: [w for w in x if w not in chars2remove])\n",
    "df_test['tokens_raw'] = df_test['tokens_raw'].apply(lambda x: [w for w in x if not re.match('^#', w)]) # remove hashtags\n",
    "df_test.head()"
   ]
  },
  {
   "cell_type": "code",
   "execution_count": 58,
   "id": "fc43deec",
   "metadata": {
    "execution": {
     "iopub.execute_input": "2022-12-04T05:00:16.174987Z",
     "iopub.status.busy": "2022-12-04T05:00:16.174072Z",
     "iopub.status.idle": "2022-12-04T05:00:16.534894Z",
     "shell.execute_reply": "2022-12-04T05:00:16.533573Z"
    },
    "papermill": {
     "duration": 0.395146,
     "end_time": "2022-12-04T05:00:16.537636",
     "exception": false,
     "start_time": "2022-12-04T05:00:16.142490",
     "status": "completed"
    },
    "tags": []
   },
   "outputs": [
    {
     "name": "stdout",
     "output_type": "stream",
     "text": [
      "X_test_int.shape = (1000, 20223)\n"
     ]
    },
    {
     "data": {
      "text/plain": [
       "numpy.ndarray"
      ]
     },
     "execution_count": 58,
     "metadata": {},
     "output_type": "execute_result"
    }
   ],
   "source": [
    "df_test['tokens'] = df_test['tokens_raw'].apply(lambda x: [lemmatizer.lemmatize(w, pos=\"v\") for w in x])\n",
    "df_test['textclean'] = df_test['tokens'].apply(lambda x: ' '.join(x))\n",
    "\n",
    "X_test_int = tfidf_vectorizer.transform(df_test['textclean']).toarray() # be sure that we are using .transform() here, and not .fit_transform()\n",
    "\n",
    "print(f\"X_test_int.shape = {X_test_int.shape}\")\n",
    "type(X_test_int)"
   ]
  },
  {
   "cell_type": "code",
   "execution_count": 59,
   "id": "9f97d5ed",
   "metadata": {
    "execution": {
     "iopub.execute_input": "2022-12-04T05:00:16.600179Z",
     "iopub.status.busy": "2022-12-04T05:00:16.599723Z",
     "iopub.status.idle": "2022-12-04T05:00:16.749920Z",
     "shell.execute_reply": "2022-12-04T05:00:16.748604Z"
    },
    "papermill": {
     "duration": 0.185466,
     "end_time": "2022-12-04T05:00:16.752421",
     "exception": false,
     "start_time": "2022-12-04T05:00:16.566955",
     "status": "completed"
    },
    "tags": []
   },
   "outputs": [
    {
     "data": {
      "text/plain": [
       "torch.Size([1000, 20223])"
      ]
     },
     "execution_count": 59,
     "metadata": {},
     "output_type": "execute_result"
    }
   ],
   "source": [
    "X_test = torch.tensor(X_test_int).float()\n",
    "X_test.size()"
   ]
  },
  {
   "cell_type": "code",
   "execution_count": 60,
   "id": "7f2f3822",
   "metadata": {
    "execution": {
     "iopub.execute_input": "2022-12-04T05:00:16.817363Z",
     "iopub.status.busy": "2022-12-04T05:00:16.816696Z",
     "iopub.status.idle": "2022-12-04T05:00:16.824069Z",
     "shell.execute_reply": "2022-12-04T05:00:16.822862Z"
    },
    "papermill": {
     "duration": 0.042888,
     "end_time": "2022-12-04T05:00:16.827065",
     "exception": false,
     "start_time": "2022-12-04T05:00:16.784177",
     "status": "completed"
    },
    "tags": []
   },
   "outputs": [],
   "source": [
    "y_test = torch.tensor([label_to_idx[lab] for lab in df_test['sentimentPipe']])"
   ]
  },
  {
   "cell_type": "code",
   "execution_count": 61,
   "id": "867626b1",
   "metadata": {
    "execution": {
     "iopub.execute_input": "2022-12-04T05:00:16.889799Z",
     "iopub.status.busy": "2022-12-04T05:00:16.889211Z",
     "iopub.status.idle": "2022-12-04T05:00:16.895803Z",
     "shell.execute_reply": "2022-12-04T05:00:16.894806Z"
    },
    "papermill": {
     "duration": 0.04068,
     "end_time": "2022-12-04T05:00:16.898278",
     "exception": false,
     "start_time": "2022-12-04T05:00:16.857598",
     "status": "completed"
    },
    "tags": []
   },
   "outputs": [],
   "source": [
    "y_test = torch.tensor([label_to_idx[lab] for lab in df_test['sentimentBlob']])"
   ]
  },
  {
   "cell_type": "code",
   "execution_count": 62,
   "id": "447ac23f",
   "metadata": {
    "execution": {
     "iopub.execute_input": "2022-12-04T05:00:16.960556Z",
     "iopub.status.busy": "2022-12-04T05:00:16.959931Z",
     "iopub.status.idle": "2022-12-04T05:00:16.966539Z",
     "shell.execute_reply": "2022-12-04T05:00:16.965106Z"
    },
    "papermill": {
     "duration": 0.041281,
     "end_time": "2022-12-04T05:00:16.969361",
     "exception": false,
     "start_time": "2022-12-04T05:00:16.928080",
     "status": "completed"
    },
    "tags": []
   },
   "outputs": [],
   "source": [
    "y_test = torch.tensor([label_to_idx[lab] for lab in df_test['sentiment']])"
   ]
  },
  {
   "cell_type": "code",
   "execution_count": 63,
   "id": "e1beecc3",
   "metadata": {
    "execution": {
     "iopub.execute_input": "2022-12-04T05:00:17.033270Z",
     "iopub.status.busy": "2022-12-04T05:00:17.032834Z",
     "iopub.status.idle": "2022-12-04T05:00:17.103661Z",
     "shell.execute_reply": "2022-12-04T05:00:17.102366Z"
    },
    "papermill": {
     "duration": 0.105096,
     "end_time": "2022-12-04T05:00:17.106592",
     "exception": false,
     "start_time": "2022-12-04T05:00:17.001496",
     "status": "completed"
    },
    "tags": []
   },
   "outputs": [],
   "source": [
    "test_dataset = ToxicTextDataset(X_test, y_test)\n",
    "test_dataset.create_split(len(X_test), seed=42, train_perc=1.0)"
   ]
  },
  {
   "cell_type": "code",
   "execution_count": 64,
   "id": "b9f01228",
   "metadata": {
    "execution": {
     "iopub.execute_input": "2022-12-04T05:00:17.168296Z",
     "iopub.status.busy": "2022-12-04T05:00:17.167170Z",
     "iopub.status.idle": "2022-12-04T05:00:17.176393Z",
     "shell.execute_reply": "2022-12-04T05:00:17.175253Z"
    },
    "papermill": {
     "duration": 0.043254,
     "end_time": "2022-12-04T05:00:17.179162",
     "exception": false,
     "start_time": "2022-12-04T05:00:17.135908",
     "status": "completed"
    },
    "tags": []
   },
   "outputs": [
    {
     "data": {
      "text/plain": [
       "{'x': tensor([0., 0., 0.,  ..., 0., 0., 0.]), 'y': tensor(0)}"
      ]
     },
     "execution_count": 64,
     "metadata": {},
     "output_type": "execute_result"
    }
   ],
   "source": [
    "test_dataset[999]"
   ]
  },
  {
   "cell_type": "code",
   "execution_count": 65,
   "id": "d0a4aea1",
   "metadata": {
    "execution": {
     "iopub.execute_input": "2022-12-04T05:00:17.242350Z",
     "iopub.status.busy": "2022-12-04T05:00:17.240756Z",
     "iopub.status.idle": "2022-12-04T05:00:17.247915Z",
     "shell.execute_reply": "2022-12-04T05:00:17.246077Z"
    },
    "papermill": {
     "duration": 0.041594,
     "end_time": "2022-12-04T05:00:17.250806",
     "exception": false,
     "start_time": "2022-12-04T05:00:17.209212",
     "status": "completed"
    },
    "tags": []
   },
   "outputs": [],
   "source": [
    "bs = 500\n",
    "test_loader = DataLoader(dataset=test_dataset, batch_size=bs, shuffle=False)"
   ]
  },
  {
   "cell_type": "code",
   "execution_count": 66,
   "id": "8c14a0b3",
   "metadata": {
    "execution": {
     "iopub.execute_input": "2022-12-04T05:00:17.314075Z",
     "iopub.status.busy": "2022-12-04T05:00:17.312926Z",
     "iopub.status.idle": "2022-12-04T05:00:17.464324Z",
     "shell.execute_reply": "2022-12-04T05:00:17.463205Z"
    },
    "papermill": {
     "duration": 0.185644,
     "end_time": "2022-12-04T05:00:17.467238",
     "exception": false,
     "start_time": "2022-12-04T05:00:17.281594",
     "status": "completed"
    },
    "tags": []
   },
   "outputs": [
    {
     "name": "stdout",
     "output_type": "stream",
     "text": [
      "Accuracy (on 1000 test): 78.20%\n"
     ]
    }
   ],
   "source": [
    "#sentimentPipe\n",
    "y_true = []\n",
    "y_pred = []\n",
    "with torch.no_grad():\n",
    "    correct = 0\n",
    "    total = 0\n",
    "    for batch_data in test_loader:\n",
    "        tweets = batch_data['x'].to(device)\n",
    "        labels = batch_data['y'].to(device)\n",
    "        outputs = model(tweets)\n",
    "        _, predicted = torch.max(outputs.data, 1)\n",
    "        y_true += labels.tolist()\n",
    "        y_pred += predicted.tolist()\n",
    "        total += labels.size(0)\n",
    "        correct += (predicted == labels).sum().item()\n",
    "\n",
    "    print(f\"Accuracy (on {len(test_loader)*bs} test): {100 * correct / total:.2f}%\")"
   ]
  },
  {
   "cell_type": "code",
   "execution_count": 67,
   "id": "64b03fd1",
   "metadata": {
    "execution": {
     "iopub.execute_input": "2022-12-04T05:00:17.528573Z",
     "iopub.status.busy": "2022-12-04T05:00:17.528155Z",
     "iopub.status.idle": "2022-12-04T05:00:17.678777Z",
     "shell.execute_reply": "2022-12-04T05:00:17.677363Z"
    },
    "papermill": {
     "duration": 0.184201,
     "end_time": "2022-12-04T05:00:17.681410",
     "exception": false,
     "start_time": "2022-12-04T05:00:17.497209",
     "status": "completed"
    },
    "tags": []
   },
   "outputs": [
    {
     "name": "stdout",
     "output_type": "stream",
     "text": [
      "Accuracy (on 1000 test): 78.20%\n"
     ]
    }
   ],
   "source": [
    "#sentimentBlob\n",
    "y_true = []\n",
    "y_pred = []\n",
    "with torch.no_grad():\n",
    "    correct = 0\n",
    "    total = 0\n",
    "    for batch_data in test_loader:\n",
    "        tweets = batch_data['x'].to(device)\n",
    "        labels = batch_data['y'].to(device)\n",
    "        outputs = model(tweets)\n",
    "        _, predicted = torch.max(outputs.data, 1)\n",
    "        y_true += labels.tolist()\n",
    "        y_pred += predicted.tolist()\n",
    "        total += labels.size(0)\n",
    "        correct += (predicted == labels).sum().item()\n",
    "\n",
    "    print(f\"Accuracy (on {len(test_loader)*bs} test): {100 * correct / total:.2f}%\")"
   ]
  },
  {
   "cell_type": "code",
   "execution_count": 68,
   "id": "88fbb271",
   "metadata": {
    "execution": {
     "iopub.execute_input": "2022-12-04T05:00:17.748195Z",
     "iopub.status.busy": "2022-12-04T05:00:17.747754Z",
     "iopub.status.idle": "2022-12-04T05:00:17.899093Z",
     "shell.execute_reply": "2022-12-04T05:00:17.897159Z"
    },
    "papermill": {
     "duration": 0.187121,
     "end_time": "2022-12-04T05:00:17.901812",
     "exception": false,
     "start_time": "2022-12-04T05:00:17.714691",
     "status": "completed"
    },
    "tags": []
   },
   "outputs": [
    {
     "name": "stdout",
     "output_type": "stream",
     "text": [
      "Accuracy (on 1000 test): 78.20%\n"
     ]
    }
   ],
   "source": [
    "#seniment\n",
    "y_true = []\n",
    "y_pred = []\n",
    "with torch.no_grad():\n",
    "    correct = 0\n",
    "    total = 0\n",
    "    for batch_data in test_loader:\n",
    "        tweets = batch_data['x'].to(device)\n",
    "        labels = batch_data['y'].to(device)\n",
    "        outputs = model(tweets)\n",
    "        _, predicted = torch.max(outputs.data, 1)\n",
    "        y_true += labels.tolist()\n",
    "        y_pred += predicted.tolist()\n",
    "        total += labels.size(0)\n",
    "        correct += (predicted == labels).sum().item()\n",
    "\n",
    "    print(f\"Accuracy (on {len(test_loader)*bs} test): {100 * correct / total:.2f}%\")"
   ]
  },
  {
   "cell_type": "code",
   "execution_count": 69,
   "id": "13ea81fa",
   "metadata": {
    "execution": {
     "iopub.execute_input": "2022-12-04T05:00:17.970642Z",
     "iopub.status.busy": "2022-12-04T05:00:17.969216Z",
     "iopub.status.idle": "2022-12-04T05:00:18.254458Z",
     "shell.execute_reply": "2022-12-04T05:00:18.252790Z"
    },
    "papermill": {
     "duration": 0.32479,
     "end_time": "2022-12-04T05:00:18.257528",
     "exception": false,
     "start_time": "2022-12-04T05:00:17.932738",
     "status": "completed"
    },
    "tags": []
   },
   "outputs": [
    {
     "data": {
      "text/plain": [
       "<sklearn.metrics._plot.confusion_matrix.ConfusionMatrixDisplay at 0x7f667a9b8b10>"
      ]
     },
     "execution_count": 69,
     "metadata": {},
     "output_type": "execute_result"
    },
    {
     "data": {
      "image/png": "[encoded data removed]",
      "text/plain": [
       "<Figure size 1080x288 with 2 Axes>"
      ]
     },
     "metadata": {
      "needs_background": "light"
     },
     "output_type": "display_data"
    }
   ],
   "source": [
    "#sentimentPipe\n",
    "from sklearn.metrics import confusion_matrix, ConfusionMatrixDisplay\n",
    "cm = confusion_matrix(y_true, y_pred)\n",
    "disp = ConfusionMatrixDisplay(cm, display_labels=['positive','negative'])\n",
    "disp.plot()"
   ]
  },
  {
   "cell_type": "code",
   "execution_count": 70,
   "id": "453cb5ee",
   "metadata": {
    "execution": {
     "iopub.execute_input": "2022-12-04T05:00:18.323503Z",
     "iopub.status.busy": "2022-12-04T05:00:18.323044Z",
     "iopub.status.idle": "2022-12-04T05:00:18.605585Z",
     "shell.execute_reply": "2022-12-04T05:00:18.603804Z"
    },
    "papermill": {
     "duration": 0.319919,
     "end_time": "2022-12-04T05:00:18.608709",
     "exception": false,
     "start_time": "2022-12-04T05:00:18.288790",
     "status": "completed"
    },
    "tags": []
   },
   "outputs": [
    {
     "data": {
      "text/plain": [
       "<sklearn.metrics._plot.confusion_matrix.ConfusionMatrixDisplay at 0x7f667a9b8510>"
      ]
     },
     "execution_count": 70,
     "metadata": {},
     "output_type": "execute_result"
    },
    {
     "data": {
      "image/png": "[encoded data removed]",
      "text/plain": [
       "<Figure size 1080x288 with 2 Axes>"
      ]
     },
     "metadata": {
      "needs_background": "light"
     },
     "output_type": "display_data"
    }
   ],
   "source": [
    "#sentimentBlob\n",
    "from sklearn.metrics import confusion_matrix, ConfusionMatrixDisplay\n",
    "cm = confusion_matrix(y_true, y_pred)\n",
    "disp = ConfusionMatrixDisplay(cm, display_labels=['positive','negative'])\n",
    "disp.plot()"
   ]
  },
  {
   "cell_type": "code",
   "execution_count": 71,
   "id": "0e47de88",
   "metadata": {
    "execution": {
     "iopub.execute_input": "2022-12-04T05:00:18.674748Z",
     "iopub.status.busy": "2022-12-04T05:00:18.674271Z",
     "iopub.status.idle": "2022-12-04T05:00:18.950151Z",
     "shell.execute_reply": "2022-12-04T05:00:18.948745Z"
    },
    "papermill": {
     "duration": 0.311337,
     "end_time": "2022-12-04T05:00:18.953120",
     "exception": false,
     "start_time": "2022-12-04T05:00:18.641783",
     "status": "completed"
    },
    "tags": []
   },
   "outputs": [
    {
     "data": {
      "text/plain": [
       "<sklearn.metrics._plot.confusion_matrix.ConfusionMatrixDisplay at 0x7f66703baa90>"
      ]
     },
     "execution_count": 71,
     "metadata": {},
     "output_type": "execute_result"
    },
    {
     "data": {
      "image/png": "[encoded data removed]",
      "text/plain": [
       "<Figure size 1080x288 with 2 Axes>"
      ]
     },
     "metadata": {
      "needs_background": "light"
     },
     "output_type": "display_data"
    }
   ],
   "source": [
    "#sentiment\n",
    "from sklearn.metrics import confusion_matrix, ConfusionMatrixDisplay\n",
    "cm = confusion_matrix(y_true, y_pred)\n",
    "disp = ConfusionMatrixDisplay(cm, display_labels=['positive','negative'])\n",
    "disp.plot()"
   ]
  },
  {
   "attachments": {},
   "cell_type": "markdown",
   "id": "e39442b8",
   "metadata": {
    "papermill": {
     "duration": 0.031428,
     "end_time": "2022-12-04T05:00:19.015861",
     "exception": false,
     "start_time": "2022-12-04T05:00:18.984433",
     "status": "completed"
    },
    "tags": []
   },
   "source": [
    "Conclusion:\n",
    "\n",
    "Results summarized              \n",
    "\n",
    "sentimentPipe:         \n",
    "Accuracy (on 1800 entries): 78.22%                              \n",
    "Accuracy (on 1000 test): 81.50%\n",
    "\n",
    "sentimentBlob:         \n",
    "Accuracy (on 1800 entries): 76.17%                              \n",
    "Accuracy (on 1000 test): 89.20%\n",
    "\n",
    "sentiment:             \n",
    "Accuracy (on 1800 entries): 83.78%                              \n",
    "Accuracy (on 1000 test): 95.50%\n",
    "\n",
    "The model was tuned to the sentiment model. The other models appeared to have suffered from an uneven training classification and potential hyper tunning oportiunity though the loss graph looked good for each. The pretrained model, sentimentPipe, took the greatest time to iterate and produce the output and sentimentBlob was the quickest. The dataset size was representative of my computer capabilites.\n",
    "\n",
    "After a third run the accuracy was down considerabley. I left it under he cells. I was having trouble with it saving the result cells.\n"
   ]
  }
 ],
 "metadata": {
  "kernelspec": {
   "display_name": "Python 3",
   "language": "python",
   "name": "python3"
  },
  "language_info": {
   "codemirror_mode": {
    "name": "ipython",
    "version": 3
   },
   "file_extension": ".py",
   "mimetype": "text/x-python",
   "name": "python",
   "nbconvert_exporter": "python",
   "pygments_lexer": "ipython3",
   "version": "3.7.12"
  },
  "papermill": {
   "default_parameters": {},
   "duration": 2917.014564,
   "end_time": "2022-12-04T05:00:22.469820",
   "environment_variables": {},
   "exception": null,
   "input_path": "__notebook__.ipynb",
   "output_path": "__notebook__.ipynb",
   "parameters": {},
   "start_time": "2022-12-04T04:11:45.455256",
   "version": "2.3.4"
  },
  "widgets": {
   "application/vnd.jupyter.widget-state+json": {
    "state": {
     "01b519b88fbc4dccabe2bfa846d872ff": {
      "model_module": "@jupyter-widgets/base",
      "model_module_version": "1.2.0",
      "model_name": "LayoutModel",
      "state": {
       "_model_module": "@jupyter-widgets/base",
       "_model_module_version": "1.2.0",
       "_model_name": "LayoutModel",
       "_view_count": null,
       "_view_module": "@jupyter-widgets/base",
       "_view_module_version": "1.2.0",
       "_view_name": "LayoutView",
       "align_content": null,
       "align_items": null,
       "align_self": null,
       "border": null,
       "bottom": null,
       "display": null,
       "flex": null,
       "flex_flow": null,
       "grid_area": null,
       "grid_auto_columns": null,
       "grid_auto_flow": null,
       "grid_auto_rows": null,
       "grid_column": null,
       "grid_gap": null,
       "grid_row": null,
       "grid_template_areas": null,
       "grid_template_columns": null,
       "grid_template_rows": null,
       "height": null,
       "justify_content": null,
       "justify_items": null,
       "left": null,
       "margin": null,
       "max_height": null,
       "max_width": null,
       "min_height": null,
       "min_width": null,
       "object_fit": null,
       "object_position": null,
       "order": null,
       "overflow": null,
       "overflow_x": null,
       "overflow_y": null,
       "padding": null,
       "right": null,
       "top": null,
       "visibility": null,
       "width": null
      }
     },
     "0374560e338849aabf7167cd3e7e0d5e": {
      "model_module": "@jupyter-widgets/base",
      "model_module_version": "1.2.0",
      "model_name": "LayoutModel",
      "state": {
       "_model_module": "@jupyter-widgets/base",
       "_model_module_version": "1.2.0",
       "_model_name": "LayoutModel",
       "_view_count": null,
       "_view_module": "@jupyter-widgets/base",
       "_view_module_version": "1.2.0",
       "_view_name": "LayoutView",
       "align_content": null,
       "align_items": null,
       "align_self": null,
       "border": null,
       "bottom": null,
       "display": null,
       "flex": null,
       "flex_flow": null,
       "grid_area": null,
       "grid_auto_columns": null,
       "grid_auto_flow": null,
       "grid_auto_rows": null,
       "grid_column": null,
       "grid_gap": null,
       "grid_row": null,
       "grid_template_areas": null,
       "grid_template_columns": null,
       "grid_template_rows": null,
       "height": null,
       "justify_content": null,
       "justify_items": null,
       "left": null,
       "margin": null,
       "max_height": null,
       "max_width": null,
       "min_height": null,
       "min_width": null,
       "object_fit": null,
       "object_position": null,
       "order": null,
       "overflow": null,
       "overflow_x": null,
       "overflow_y": null,
       "padding": null,
       "right": null,
       "top": null,
       "visibility": null,
       "width": null
      }
     },
     "037a31da3d3540a6aa552c10b224e0c0": {
      "model_module": "@jupyter-widgets/controls",
      "model_module_version": "1.5.0",
      "model_name": "HBoxModel",
      "state": {
       "_dom_classes": [],
       "_model_module": "@jupyter-widgets/controls",
       "_model_module_version": "1.5.0",
       "_model_name": "HBoxModel",
       "_view_count": null,
       "_view_module": "@jupyter-widgets/controls",
       "_view_module_version": "1.5.0",
       "_view_name": "HBoxView",
       "box_style": "",
       "children": [
        "IPY_MODEL_80ba2be322d64aa6af99d9cf6972d4ec",
        "IPY_MODEL_c8b01516c793442aadb76c7cbba99873",
        "IPY_MODEL_86604ae880b04c938f5f3b8e8cee0ae0"
       ],
       "layout": "IPY_MODEL_3ad606c5f02342b38b9f36454c6b39ad"
      }
     },
     "09879b484c0d470b8ff3792dd3b42bd1": {
      "model_module": "@jupyter-widgets/controls",
      "model_module_version": "1.5.0",
      "model_name": "DescriptionStyleModel",
      "state": {
       "_model_module": "@jupyter-widgets/controls",
       "_model_module_version": "1.5.0",
       "_model_name": "DescriptionStyleModel",
       "_view_count": null,
       "_view_module": "@jupyter-widgets/base",
       "_view_module_version": "1.2.0",
       "_view_name": "StyleView",
       "description_width": ""
      }
     },
     "098bd9c9a8bb4e94a0ee50924e4b0257": {
      "model_module": "@jupyter-widgets/base",
      "model_module_version": "1.2.0",
      "model_name": "LayoutModel",
      "state": {
       "_model_module": "@jupyter-widgets/base",
       "_model_module_version": "1.2.0",
       "_model_name": "LayoutModel",
       "_view_count": null,
       "_view_module": "@jupyter-widgets/base",
       "_view_module_version": "1.2.0",
       "_view_name": "LayoutView",
       "align_content": null,
       "align_items": null,
       "align_self": null,
       "border": null,
       "bottom": null,
       "display": null,
       "flex": null,
       "flex_flow": null,
       "grid_area": null,
       "grid_auto_columns": null,
       "grid_auto_flow": null,
       "grid_auto_rows": null,
       "grid_column": null,
       "grid_gap": null,
       "grid_row": null,
       "grid_template_areas": null,
       "grid_template_columns": null,
       "grid_template_rows": null,
       "height": null,
       "justify_content": null,
       "justify_items": null,
       "left": null,
       "margin": null,
       "max_height": null,
       "max_width": null,
       "min_height": null,
       "min_width": null,
       "object_fit": null,
       "object_position": null,
       "order": null,
       "overflow": null,
       "overflow_x": null,
       "overflow_y": null,
       "padding": null,
       "right": null,
       "top": null,
       "visibility": null,
       "width": null
      }
     },
     "16154da032e54d55b994c911fd664831": {
      "model_module": "@jupyter-widgets/controls",
      "model_module_version": "1.5.0",
      "model_name": "FloatProgressModel",
      "state": {
       "_dom_classes": [],
       "_model_module": "@jupyter-widgets/controls",
       "_model_module_version": "1.5.0",
       "_model_name": "FloatProgressModel",
       "_view_count": null,
       "_view_module": "@jupyter-widgets/controls",
       "_view_module_version": "1.5.0",
       "_view_name": "ProgressView",
       "bar_style": "success",
       "description": "",
       "description_tooltip": null,
       "layout": "IPY_MODEL_f3e547f01bbd462bb24c4ae39002a906",
       "max": 267844284,
       "min": 0,
       "orientation": "horizontal",
       "style": "IPY_MODEL_8d7257608cc24e2cb82f8bb8c482b4f1",
       "value": 267844284
      }
     },
     "181b5eee77274adea4a39939474a9cf4": {
      "model_module": "@jupyter-widgets/controls",
      "model_module_version": "1.5.0",
      "model_name": "DescriptionStyleModel",
      "state": {
       "_model_module": "@jupyter-widgets/controls",
       "_model_module_version": "1.5.0",
       "_model_name": "DescriptionStyleModel",
       "_view_count": null,
       "_view_module": "@jupyter-widgets/base",
       "_view_module_version": "1.2.0",
       "_view_name": "StyleView",
       "description_width": ""
      }
     },
     "18db27c605f64fbfa209b50a521a08c4": {
      "model_module": "@jupyter-widgets/controls",
      "model_module_version": "1.5.0",
      "model_name": "ProgressStyleModel",
      "state": {
       "_model_module": "@jupyter-widgets/controls",
       "_model_module_version": "1.5.0",
       "_model_name": "ProgressStyleModel",
       "_view_count": null,
       "_view_module": "@jupyter-widgets/base",
       "_view_module_version": "1.2.0",
       "_view_name": "StyleView",
       "bar_color": null,
       "description_width": ""
      }
     },
     "19d75e797ff743f5ac640f2b42573a57": {
      "model_module": "@jupyter-widgets/controls",
      "model_module_version": "1.5.0",
      "model_name": "HBoxModel",
      "state": {
       "_dom_classes": [],
       "_model_module": "@jupyter-widgets/controls",
       "_model_module_version": "1.5.0",
       "_model_name": "HBoxModel",
       "_view_count": null,
       "_view_module": "@jupyter-widgets/controls",
       "_view_module_version": "1.5.0",
       "_view_name": "HBoxView",
       "box_style": "",
       "children": [
        "IPY_MODEL_91e19519abdd4f8295aac25f48f0ef7c",
        "IPY_MODEL_b84fd622fefe40bb9b7758bb3a9e1d4a",
        "IPY_MODEL_e09779bb585c4cee9ce2a70f93234540"
       ],
       "layout": "IPY_MODEL_677ebc1119394104984fd3fa96b0632a"
      }
     },
     "1f506bdfe291496eb58dfec79f15b015": {
      "model_module": "@jupyter-widgets/controls",
      "model_module_version": "1.5.0",
      "model_name": "HBoxModel",
      "state": {
       "_dom_classes": [],
       "_model_module": "@jupyter-widgets/controls",
       "_model_module_version": "1.5.0",
       "_model_name": "HBoxModel",
       "_view_count": null,
       "_view_module": "@jupyter-widgets/controls",
       "_view_module_version": "1.5.0",
       "_view_name": "HBoxView",
       "box_style": "",
       "children": [
        "IPY_MODEL_57b11af088dd46589e3dcb30f1d3871d",
        "IPY_MODEL_554e132bb1c34eae8676229dd4c213e9",
        "IPY_MODEL_4fdc825eaa994b61b204d52eb315270c"
       ],
       "layout": "IPY_MODEL_73770b45fdd94179b783b37e0bf2f95c"
      }
     },
     "2066936f0fb048558717eed0c1713d4b": {
      "model_module": "@jupyter-widgets/base",
      "model_module_version": "1.2.0",
      "model_name": "LayoutModel",
      "state": {
       "_model_module": "@jupyter-widgets/base",
       "_model_module_version": "1.2.0",
       "_model_name": "LayoutModel",
       "_view_count": null,
       "_view_module": "@jupyter-widgets/base",
       "_view_module_version": "1.2.0",
       "_view_name": "LayoutView",
       "align_content": null,
       "align_items": null,
       "align_self": null,
       "border": null,
       "bottom": null,
       "display": null,
       "flex": null,
       "flex_flow": null,
       "grid_area": null,
       "grid_auto_columns": null,
       "grid_auto_flow": null,
       "grid_auto_rows": null,
       "grid_column": null,
       "grid_gap": null,
       "grid_row": null,
       "grid_template_areas": null,
       "grid_template_columns": null,
       "grid_template_rows": null,
       "height": null,
       "justify_content": null,
       "justify_items": null,
       "left": null,
       "margin": null,
       "max_height": null,
       "max_width": null,
       "min_height": null,
       "min_width": null,
       "object_fit": null,
       "object_position": null,
       "order": null,
       "overflow": null,
       "overflow_x": null,
       "overflow_y": null,
       "padding": null,
       "right": null,
       "top": null,
       "visibility": null,
       "width": null
      }
     },
     "22fe432b057a447a9212cc802cd09b1b": {
      "model_module": "@jupyter-widgets/base",
      "model_module_version": "1.2.0",
      "model_name": "LayoutModel",
      "state": {
       "_model_module": "@jupyter-widgets/base",
       "_model_module_version": "1.2.0",
       "_model_name": "LayoutModel",
       "_view_count": null,
       "_view_module": "@jupyter-widgets/base",
       "_view_module_version": "1.2.0",
       "_view_name": "LayoutView",
       "align_content": null,
       "align_items": null,
       "align_self": null,
       "border": null,
       "bottom": null,
       "display": null,
       "flex": null,
       "flex_flow": null,
       "grid_area": null,
       "grid_auto_columns": null,
       "grid_auto_flow": null,
       "grid_auto_rows": null,
       "grid_column": null,
       "grid_gap": null,
       "grid_row": null,
       "grid_template_areas": null,
       "grid_template_columns": null,
       "grid_template_rows": null,
       "height": null,
       "justify_content": null,
       "justify_items": null,
       "left": null,
       "margin": null,
       "max_height": null,
       "max_width": null,
       "min_height": null,
       "min_width": null,
       "object_fit": null,
       "object_position": null,
       "order": null,
       "overflow": null,
       "overflow_x": null,
       "overflow_y": null,
       "padding": null,
       "right": null,
       "top": null,
       "visibility": null,
       "width": null
      }
     },
     "2f2781fb286c4710bc87166d33182c52": {
      "model_module": "@jupyter-widgets/base",
      "model_module_version": "1.2.0",
      "model_name": "LayoutModel",
      "state": {
       "_model_module": "@jupyter-widgets/base",
       "_model_module_version": "1.2.0",
       "_model_name": "LayoutModel",
       "_view_count": null,
       "_view_module": "@jupyter-widgets/base",
       "_view_module_version": "1.2.0",
       "_view_name": "LayoutView",
       "align_content": null,
       "align_items": null,
       "align_self": null,
       "border": null,
       "bottom": null,
       "display": null,
       "flex": null,
       "flex_flow": null,
       "grid_area": null,
       "grid_auto_columns": null,
       "grid_auto_flow": null,
       "grid_auto_rows": null,
       "grid_column": null,
       "grid_gap": null,
       "grid_row": null,
       "grid_template_areas": null,
       "grid_template_columns": null,
       "grid_template_rows": null,
       "height": null,
       "justify_content": null,
       "justify_items": null,
       "left": null,
       "margin": null,
       "max_height": null,
       "max_width": null,
       "min_height": null,
       "min_width": null,
       "object_fit": null,
       "object_position": null,
       "order": null,
       "overflow": null,
       "overflow_x": null,
       "overflow_y": null,
       "padding": null,
       "right": null,
       "top": null,
       "visibility": null,
       "width": null
      }
     },
     "369d1103dced4f449ccf1ecfaefa5413": {
      "model_module": "@jupyter-widgets/controls",
      "model_module_version": "1.5.0",
      "model_name": "HTMLModel",
      "state": {
       "_dom_classes": [],
       "_model_module": "@jupyter-widgets/controls",
       "_model_module_version": "1.5.0",
       "_model_name": "HTMLModel",
       "_view_count": null,
       "_view_module": "@jupyter-widgets/controls",
       "_view_module_version": "1.5.0",
       "_view_name": "HTMLView",
       "description": "",
       "description_tooltip": null,
       "layout": "IPY_MODEL_22fe432b057a447a9212cc802cd09b1b",
       "placeholder": "​",
       "style": "IPY_MODEL_6359b935480c4f328f22e36b6d529635",
       "value": "Downloading: 100%"
      }
     },
     "3a0186ce534f4c8ca9c484bfc6d1f459": {
      "model_module": "@jupyter-widgets/controls",
      "model_module_version": "1.5.0",
      "model_name": "DescriptionStyleModel",
      "state": {
       "_model_module": "@jupyter-widgets/controls",
       "_model_module_version": "1.5.0",
       "_model_name": "DescriptionStyleModel",
       "_view_count": null,
       "_view_module": "@jupyter-widgets/base",
       "_view_module_version": "1.2.0",
       "_view_name": "StyleView",
       "description_width": ""
      }
     },
     "3ad606c5f02342b38b9f36454c6b39ad": {
      "model_module": "@jupyter-widgets/base",
      "model_module_version": "1.2.0",
      "model_name": "LayoutModel",
      "state": {
       "_model_module": "@jupyter-widgets/base",
       "_model_module_version": "1.2.0",
       "_model_name": "LayoutModel",
       "_view_count": null,
       "_view_module": "@jupyter-widgets/base",
       "_view_module_version": "1.2.0",
       "_view_name": "LayoutView",
       "align_content": null,
       "align_items": null,
       "align_self": null,
       "border": null,
       "bottom": null,
       "display": null,
       "flex": null,
       "flex_flow": null,
       "grid_area": null,
       "grid_auto_columns": null,
       "grid_auto_flow": null,
       "grid_auto_rows": null,
       "grid_column": null,
       "grid_gap": null,
       "grid_row": null,
       "grid_template_areas": null,
       "grid_template_columns": null,
       "grid_template_rows": null,
       "height": null,
       "justify_content": null,
       "justify_items": null,
       "left": null,
       "margin": null,
       "max_height": null,
       "max_width": null,
       "min_height": null,
       "min_width": null,
       "object_fit": null,
       "object_position": null,
       "order": null,
       "overflow": null,
       "overflow_x": null,
       "overflow_y": null,
       "padding": null,
       "right": null,
       "top": null,
       "visibility": null,
       "width": null
      }
     },
     "3c804f6028df4270b402bcff54e22a30": {
      "model_module": "@jupyter-widgets/controls",
      "model_module_version": "1.5.0",
      "model_name": "DescriptionStyleModel",
      "state": {
       "_model_module": "@jupyter-widgets/controls",
       "_model_module_version": "1.5.0",
       "_model_name": "DescriptionStyleModel",
       "_view_count": null,
       "_view_module": "@jupyter-widgets/base",
       "_view_module_version": "1.2.0",
       "_view_name": "StyleView",
       "description_width": ""
      }
     },
     "40923d5f06ca45279c99f5d4bea83474": {
      "model_module": "@jupyter-widgets/controls",
      "model_module_version": "1.5.0",
      "model_name": "HTMLModel",
      "state": {
       "_dom_classes": [],
       "_model_module": "@jupyter-widgets/controls",
       "_model_module_version": "1.5.0",
       "_model_name": "HTMLModel",
       "_view_count": null,
       "_view_module": "@jupyter-widgets/controls",
       "_view_module_version": "1.5.0",
       "_view_name": "HTMLView",
       "description": "",
       "description_tooltip": null,
       "layout": "IPY_MODEL_f1147c62460841c2805ad2cad3ebaf92",
       "placeholder": "​",
       "style": "IPY_MODEL_520edcfcd0d642a1a3e88ca23977e4d3",
       "value": " 48.0/48.0 [00:00&lt;00:00, 1.62kB/s]"
      }
     },
     "43d0a54abb934f6a98a4fe776fb7a242": {
      "model_module": "@jupyter-widgets/base",
      "model_module_version": "1.2.0",
      "model_name": "LayoutModel",
      "state": {
       "_model_module": "@jupyter-widgets/base",
       "_model_module_version": "1.2.0",
       "_model_name": "LayoutModel",
       "_view_count": null,
       "_view_module": "@jupyter-widgets/base",
       "_view_module_version": "1.2.0",
       "_view_name": "LayoutView",
       "align_content": null,
       "align_items": null,
       "align_self": null,
       "border": null,
       "bottom": null,
       "display": null,
       "flex": null,
       "flex_flow": null,
       "grid_area": null,
       "grid_auto_columns": null,
       "grid_auto_flow": null,
       "grid_auto_rows": null,
       "grid_column": null,
       "grid_gap": null,
       "grid_row": null,
       "grid_template_areas": null,
       "grid_template_columns": null,
       "grid_template_rows": null,
       "height": null,
       "justify_content": null,
       "justify_items": null,
       "left": null,
       "margin": null,
       "max_height": null,
       "max_width": null,
       "min_height": null,
       "min_width": null,
       "object_fit": null,
       "object_position": null,
       "order": null,
       "overflow": null,
       "overflow_x": null,
       "overflow_y": null,
       "padding": null,
       "right": null,
       "top": null,
       "visibility": null,
       "width": null
      }
     },
     "4da8d1c4a1ad40c4a226a0f054d84566": {
      "model_module": "@jupyter-widgets/base",
      "model_module_version": "1.2.0",
      "model_name": "LayoutModel",
      "state": {
       "_model_module": "@jupyter-widgets/base",
       "_model_module_version": "1.2.0",
       "_model_name": "LayoutModel",
       "_view_count": null,
       "_view_module": "@jupyter-widgets/base",
       "_view_module_version": "1.2.0",
       "_view_name": "LayoutView",
       "align_content": null,
       "align_items": null,
       "align_self": null,
       "border": null,
       "bottom": null,
       "display": null,
       "flex": null,
       "flex_flow": null,
       "grid_area": null,
       "grid_auto_columns": null,
       "grid_auto_flow": null,
       "grid_auto_rows": null,
       "grid_column": null,
       "grid_gap": null,
       "grid_row": null,
       "grid_template_areas": null,
       "grid_template_columns": null,
       "grid_template_rows": null,
       "height": null,
       "justify_content": null,
       "justify_items": null,
       "left": null,
       "margin": null,
       "max_height": null,
       "max_width": null,
       "min_height": null,
       "min_width": null,
       "object_fit": null,
       "object_position": null,
       "order": null,
       "overflow": null,
       "overflow_x": null,
       "overflow_y": null,
       "padding": null,
       "right": null,
       "top": null,
       "visibility": null,
       "width": null
      }
     },
     "4ef3d5d4c7074146a291ec36d9502253": {
      "model_module": "@jupyter-widgets/base",
      "model_module_version": "1.2.0",
      "model_name": "LayoutModel",
      "state": {
       "_model_module": "@jupyter-widgets/base",
       "_model_module_version": "1.2.0",
       "_model_name": "LayoutModel",
       "_view_count": null,
       "_view_module": "@jupyter-widgets/base",
       "_view_module_version": "1.2.0",
       "_view_name": "LayoutView",
       "align_content": null,
       "align_items": null,
       "align_self": null,
       "border": null,
       "bottom": null,
       "display": null,
       "flex": null,
       "flex_flow": null,
       "grid_area": null,
       "grid_auto_columns": null,
       "grid_auto_flow": null,
       "grid_auto_rows": null,
       "grid_column": null,
       "grid_gap": null,
       "grid_row": null,
       "grid_template_areas": null,
       "grid_template_columns": null,
       "grid_template_rows": null,
       "height": null,
       "justify_content": null,
       "justify_items": null,
       "left": null,
       "margin": null,
       "max_height": null,
       "max_width": null,
       "min_height": null,
       "min_width": null,
       "object_fit": null,
       "object_position": null,
       "order": null,
       "overflow": null,
       "overflow_x": null,
       "overflow_y": null,
       "padding": null,
       "right": null,
       "top": null,
       "visibility": null,
       "width": null
      }
     },
     "4fdc825eaa994b61b204d52eb315270c": {
      "model_module": "@jupyter-widgets/controls",
      "model_module_version": "1.5.0",
      "model_name": "HTMLModel",
      "state": {
       "_dom_classes": [],
       "_model_module": "@jupyter-widgets/controls",
       "_model_module_version": "1.5.0",
       "_model_name": "HTMLModel",
       "_view_count": null,
       "_view_module": "@jupyter-widgets/controls",
       "_view_module_version": "1.5.0",
       "_view_name": "HTMLView",
       "description": "",
       "description_tooltip": null,
       "layout": "IPY_MODEL_d0949e9e606649669490812d37ede040",
       "placeholder": "​",
       "style": "IPY_MODEL_e4b6514653f7406fb3c65e3db345283f",
       "value": " 2/2 [00:06&lt;00:00,  3.39s/it]"
      }
     },
     "520edcfcd0d642a1a3e88ca23977e4d3": {
      "model_module": "@jupyter-widgets/controls",
      "model_module_version": "1.5.0",
      "model_name": "DescriptionStyleModel",
      "state": {
       "_model_module": "@jupyter-widgets/controls",
       "_model_module_version": "1.5.0",
       "_model_name": "DescriptionStyleModel",
       "_view_count": null,
       "_view_module": "@jupyter-widgets/base",
       "_view_module_version": "1.2.0",
       "_view_name": "StyleView",
       "description_width": ""
      }
     },
     "554e132bb1c34eae8676229dd4c213e9": {
      "model_module": "@jupyter-widgets/controls",
      "model_module_version": "1.5.0",
      "model_name": "FloatProgressModel",
      "state": {
       "_dom_classes": [],
       "_model_module": "@jupyter-widgets/controls",
       "_model_module_version": "1.5.0",
       "_model_name": "FloatProgressModel",
       "_view_count": null,
       "_view_module": "@jupyter-widgets/controls",
       "_view_module_version": "1.5.0",
       "_view_name": "ProgressView",
       "bar_style": "",
       "description": "",
       "description_tooltip": null,
       "layout": "IPY_MODEL_e667fbef9c9f4d2f9cd85e0232816b61",
       "max": 2,
       "min": 0,
       "orientation": "horizontal",
       "style": "IPY_MODEL_18db27c605f64fbfa209b50a521a08c4",
       "value": 2
      }
     },
     "5631193ef8f943dc8f50db3b9cddb7ab": {
      "model_module": "@jupyter-widgets/base",
      "model_module_version": "1.2.0",
      "model_name": "LayoutModel",
      "state": {
       "_model_module": "@jupyter-widgets/base",
       "_model_module_version": "1.2.0",
       "_model_name": "LayoutModel",
       "_view_count": null,
       "_view_module": "@jupyter-widgets/base",
       "_view_module_version": "1.2.0",
       "_view_name": "LayoutView",
       "align_content": null,
       "align_items": null,
       "align_self": null,
       "border": null,
       "bottom": null,
       "display": null,
       "flex": null,
       "flex_flow": null,
       "grid_area": null,
       "grid_auto_columns": null,
       "grid_auto_flow": null,
       "grid_auto_rows": null,
       "grid_column": null,
       "grid_gap": null,
       "grid_row": null,
       "grid_template_areas": null,
       "grid_template_columns": null,
       "grid_template_rows": null,
       "height": null,
       "justify_content": null,
       "justify_items": null,
       "left": null,
       "margin": null,
       "max_height": null,
       "max_width": null,
       "min_height": null,
       "min_width": null,
       "object_fit": null,
       "object_position": null,
       "order": null,
       "overflow": null,
       "overflow_x": null,
       "overflow_y": null,
       "padding": null,
       "right": null,
       "top": null,
       "visibility": null,
       "width": null
      }
     },
     "57b11af088dd46589e3dcb30f1d3871d": {
      "model_module": "@jupyter-widgets/controls",
      "model_module_version": "1.5.0",
      "model_name": "HTMLModel",
      "state": {
       "_dom_classes": [],
       "_model_module": "@jupyter-widgets/controls",
       "_model_module_version": "1.5.0",
       "_model_name": "HTMLModel",
       "_view_count": null,
       "_view_module": "@jupyter-widgets/controls",
       "_view_module_version": "1.5.0",
       "_view_name": "HTMLView",
       "description": "",
       "description_tooltip": null,
       "layout": "IPY_MODEL_f974dfcf81c5463a8222409fd5e82bc7",
       "placeholder": "​",
       "style": "IPY_MODEL_3c804f6028df4270b402bcff54e22a30",
       "value": "training routine: 100%"
      }
     },
     "5c859dd6595744ffb2a0cdb0d9e336f8": {
      "model_module": "@jupyter-widgets/controls",
      "model_module_version": "1.5.0",
      "model_name": "HTMLModel",
      "state": {
       "_dom_classes": [],
       "_model_module": "@jupyter-widgets/controls",
       "_model_module_version": "1.5.0",
       "_model_name": "HTMLModel",
       "_view_count": null,
       "_view_module": "@jupyter-widgets/controls",
       "_view_module_version": "1.5.0",
       "_view_name": "HTMLView",
       "description": "",
       "description_tooltip": null,
       "layout": "IPY_MODEL_b252e40c42a648a1ae1e7515bfc35394",
       "placeholder": "​",
       "style": "IPY_MODEL_181b5eee77274adea4a39939474a9cf4",
       "value": "split=val: 100%"
      }
     },
     "5d3cf6fafc3c4643ae671f68b8e13d0d": {
      "model_module": "@jupyter-widgets/base",
      "model_module_version": "1.2.0",
      "model_name": "LayoutModel",
      "state": {
       "_model_module": "@jupyter-widgets/base",
       "_model_module_version": "1.2.0",
       "_model_name": "LayoutModel",
       "_view_count": null,
       "_view_module": "@jupyter-widgets/base",
       "_view_module_version": "1.2.0",
       "_view_name": "LayoutView",
       "align_content": null,
       "align_items": null,
       "align_self": null,
       "border": null,
       "bottom": null,
       "display": null,
       "flex": null,
       "flex_flow": null,
       "grid_area": null,
       "grid_auto_columns": null,
       "grid_auto_flow": null,
       "grid_auto_rows": null,
       "grid_column": null,
       "grid_gap": null,
       "grid_row": null,
       "grid_template_areas": null,
       "grid_template_columns": null,
       "grid_template_rows": null,
       "height": null,
       "justify_content": null,
       "justify_items": null,
       "left": null,
       "margin": null,
       "max_height": null,
       "max_width": null,
       "min_height": null,
       "min_width": null,
       "object_fit": null,
       "object_position": null,
       "order": null,
       "overflow": null,
       "overflow_x": null,
       "overflow_y": null,
       "padding": null,
       "right": null,
       "top": null,
       "visibility": null,
       "width": null
      }
     },
     "6359b935480c4f328f22e36b6d529635": {
      "model_module": "@jupyter-widgets/controls",
      "model_module_version": "1.5.0",
      "model_name": "DescriptionStyleModel",
      "state": {
       "_model_module": "@jupyter-widgets/controls",
       "_model_module_version": "1.5.0",
       "_model_name": "DescriptionStyleModel",
       "_view_count": null,
       "_view_module": "@jupyter-widgets/base",
       "_view_module_version": "1.2.0",
       "_view_name": "StyleView",
       "description_width": ""
      }
     },
     "66a7c98bc648478aaad3ffcb32614df7": {
      "model_module": "@jupyter-widgets/controls",
      "model_module_version": "1.5.0",
      "model_name": "ProgressStyleModel",
      "state": {
       "_model_module": "@jupyter-widgets/controls",
       "_model_module_version": "1.5.0",
       "_model_name": "ProgressStyleModel",
       "_view_count": null,
       "_view_module": "@jupyter-widgets/base",
       "_view_module_version": "1.2.0",
       "_view_name": "StyleView",
       "bar_color": null,
       "description_width": ""
      }
     },
     "677ebc1119394104984fd3fa96b0632a": {
      "model_module": "@jupyter-widgets/base",
      "model_module_version": "1.2.0",
      "model_name": "LayoutModel",
      "state": {
       "_model_module": "@jupyter-widgets/base",
       "_model_module_version": "1.2.0",
       "_model_name": "LayoutModel",
       "_view_count": null,
       "_view_module": "@jupyter-widgets/base",
       "_view_module_version": "1.2.0",
       "_view_name": "LayoutView",
       "align_content": null,
       "align_items": null,
       "align_self": null,
       "border": null,
       "bottom": null,
       "display": null,
       "flex": null,
       "flex_flow": null,
       "grid_area": null,
       "grid_auto_columns": null,
       "grid_auto_flow": null,
       "grid_auto_rows": null,
       "grid_column": null,
       "grid_gap": null,
       "grid_row": null,
       "grid_template_areas": null,
       "grid_template_columns": null,
       "grid_template_rows": null,
       "height": null,
       "justify_content": null,
       "justify_items": null,
       "left": null,
       "margin": null,
       "max_height": null,
       "max_width": null,
       "min_height": null,
       "min_width": null,
       "object_fit": null,
       "object_position": null,
       "order": null,
       "overflow": null,
       "overflow_x": null,
       "overflow_y": null,
       "padding": null,
       "right": null,
       "top": null,
       "visibility": null,
       "width": null
      }
     },
     "6ba80b8167b24df7a06baa7464a1d021": {
      "model_module": "@jupyter-widgets/controls",
      "model_module_version": "1.5.0",
      "model_name": "ProgressStyleModel",
      "state": {
       "_model_module": "@jupyter-widgets/controls",
       "_model_module_version": "1.5.0",
       "_model_name": "ProgressStyleModel",
       "_view_count": null,
       "_view_module": "@jupyter-widgets/base",
       "_view_module_version": "1.2.0",
       "_view_name": "StyleView",
       "bar_color": null,
       "description_width": ""
      }
     },
     "6e18736f147f4040973476386ddfdd93": {
      "model_module": "@jupyter-widgets/controls",
      "model_module_version": "1.5.0",
      "model_name": "HTMLModel",
      "state": {
       "_dom_classes": [],
       "_model_module": "@jupyter-widgets/controls",
       "_model_module_version": "1.5.0",
       "_model_name": "HTMLModel",
       "_view_count": null,
       "_view_module": "@jupyter-widgets/controls",
       "_view_module_version": "1.5.0",
       "_view_name": "HTMLView",
       "description": "",
       "description_tooltip": null,
       "layout": "IPY_MODEL_01b519b88fbc4dccabe2bfa846d872ff",
       "placeholder": "​",
       "style": "IPY_MODEL_8d5d3f35c81f483f9723c057ed539e8d",
       "value": " 226k/226k [00:00&lt;00:00, 1.71MB/s]"
      }
     },
     "7344994c83bb4522b235f1908c5d5bd1": {
      "model_module": "@jupyter-widgets/controls",
      "model_module_version": "1.5.0",
      "model_name": "FloatProgressModel",
      "state": {
       "_dom_classes": [],
       "_model_module": "@jupyter-widgets/controls",
       "_model_module_version": "1.5.0",
       "_model_name": "FloatProgressModel",
       "_view_count": null,
       "_view_module": "@jupyter-widgets/controls",
       "_view_module_version": "1.5.0",
       "_view_name": "ProgressView",
       "bar_style": "success",
       "description": "",
       "description_tooltip": null,
       "layout": "IPY_MODEL_2066936f0fb048558717eed0c1713d4b",
       "max": 48,
       "min": 0,
       "orientation": "horizontal",
       "style": "IPY_MODEL_66a7c98bc648478aaad3ffcb32614df7",
       "value": 48
      }
     },
     "73770b45fdd94179b783b37e0bf2f95c": {
      "model_module": "@jupyter-widgets/base",
      "model_module_version": "1.2.0",
      "model_name": "LayoutModel",
      "state": {
       "_model_module": "@jupyter-widgets/base",
       "_model_module_version": "1.2.0",
       "_model_name": "LayoutModel",
       "_view_count": null,
       "_view_module": "@jupyter-widgets/base",
       "_view_module_version": "1.2.0",
       "_view_name": "LayoutView",
       "align_content": null,
       "align_items": null,
       "align_self": null,
       "border": null,
       "bottom": null,
       "display": null,
       "flex": null,
       "flex_flow": null,
       "grid_area": null,
       "grid_auto_columns": null,
       "grid_auto_flow": null,
       "grid_auto_rows": null,
       "grid_column": null,
       "grid_gap": null,
       "grid_row": null,
       "grid_template_areas": null,
       "grid_template_columns": null,
       "grid_template_rows": null,
       "height": null,
       "justify_content": null,
       "justify_items": null,
       "left": null,
       "margin": null,
       "max_height": null,
       "max_width": null,
       "min_height": null,
       "min_width": null,
       "object_fit": null,
       "object_position": null,
       "order": null,
       "overflow": null,
       "overflow_x": null,
       "overflow_y": null,
       "padding": null,
       "right": null,
       "top": null,
       "visibility": null,
       "width": null
      }
     },
     "760cd904b1ad430a9ee7991946ce5e59": {
      "model_module": "@jupyter-widgets/base",
      "model_module_version": "1.2.0",
      "model_name": "LayoutModel",
      "state": {
       "_model_module": "@jupyter-widgets/base",
       "_model_module_version": "1.2.0",
       "_model_name": "LayoutModel",
       "_view_count": null,
       "_view_module": "@jupyter-widgets/base",
       "_view_module_version": "1.2.0",
       "_view_name": "LayoutView",
       "align_content": null,
       "align_items": null,
       "align_self": null,
       "border": null,
       "bottom": null,
       "display": null,
       "flex": null,
       "flex_flow": null,
       "grid_area": null,
       "grid_auto_columns": null,
       "grid_auto_flow": null,
       "grid_auto_rows": null,
       "grid_column": null,
       "grid_gap": null,
       "grid_row": null,
       "grid_template_areas": null,
       "grid_template_columns": null,
       "grid_template_rows": null,
       "height": null,
       "justify_content": null,
       "justify_items": null,
       "left": null,
       "margin": null,
       "max_height": null,
       "max_width": null,
       "min_height": null,
       "min_width": null,
       "object_fit": null,
       "object_position": null,
       "order": null,
       "overflow": null,
       "overflow_x": null,
       "overflow_y": null,
       "padding": null,
       "right": null,
       "top": null,
       "visibility": null,
       "width": null
      }
     },
     "77b6809edd8b44dd8126836658fc4883": {
      "model_module": "@jupyter-widgets/controls",
      "model_module_version": "1.5.0",
      "model_name": "HTMLModel",
      "state": {
       "_dom_classes": [],
       "_model_module": "@jupyter-widgets/controls",
       "_model_module_version": "1.5.0",
       "_model_name": "HTMLModel",
       "_view_count": null,
       "_view_module": "@jupyter-widgets/controls",
       "_view_module_version": "1.5.0",
       "_view_name": "HTMLView",
       "description": "",
       "description_tooltip": null,
       "layout": "IPY_MODEL_4da8d1c4a1ad40c4a226a0f054d84566",
       "placeholder": "​",
       "style": "IPY_MODEL_a33e800f092b42bdb22ecf30e6d0062d",
       "value": " 255M/255M [00:09&lt;00:00, 31.4MB/s]"
      }
     },
     "79d0f67358ac42d5811ccceef9aeb43e": {
      "model_module": "@jupyter-widgets/controls",
      "model_module_version": "1.5.0",
      "model_name": "ProgressStyleModel",
      "state": {
       "_model_module": "@jupyter-widgets/controls",
       "_model_module_version": "1.5.0",
       "_model_name": "ProgressStyleModel",
       "_view_count": null,
       "_view_module": "@jupyter-widgets/base",
       "_view_module_version": "1.2.0",
       "_view_name": "StyleView",
       "bar_color": null,
       "description_width": ""
      }
     },
     "7db0bb9bf8be46a8a6c4b69dfc7ba624": {
      "model_module": "@jupyter-widgets/controls",
      "model_module_version": "1.5.0",
      "model_name": "HTMLModel",
      "state": {
       "_dom_classes": [],
       "_model_module": "@jupyter-widgets/controls",
       "_model_module_version": "1.5.0",
       "_model_name": "HTMLModel",
       "_view_count": null,
       "_view_module": "@jupyter-widgets/controls",
       "_view_module_version": "1.5.0",
       "_view_name": "HTMLView",
       "description": "",
       "description_tooltip": null,
       "layout": "IPY_MODEL_0374560e338849aabf7167cd3e7e0d5e",
       "placeholder": "​",
       "style": "IPY_MODEL_e5dc0b4c019d48cbab97934f9a17a0da",
       "value": "Downloading: 100%"
      }
     },
     "7e4ebe168e5644e78b19115562da6b5e": {
      "model_module": "@jupyter-widgets/controls",
      "model_module_version": "1.5.0",
      "model_name": "HTMLModel",
      "state": {
       "_dom_classes": [],
       "_model_module": "@jupyter-widgets/controls",
       "_model_module_version": "1.5.0",
       "_model_name": "HTMLModel",
       "_view_count": null,
       "_view_module": "@jupyter-widgets/controls",
       "_view_module_version": "1.5.0",
       "_view_name": "HTMLView",
       "description": "",
       "description_tooltip": null,
       "layout": "IPY_MODEL_f0a35c28c4e3419cb285ed4d163b3b66",
       "placeholder": "​",
       "style": "IPY_MODEL_998e4a5d580d4a72965a5416129b6776",
       "value": " 18/18 [00:06&lt;00:00,  8.17it/s, epoch=1, loss=0.383]"
      }
     },
     "7ead981b13c14e53afefbee2ab8b4193": {
      "model_module": "@jupyter-widgets/controls",
      "model_module_version": "1.5.0",
      "model_name": "FloatProgressModel",
      "state": {
       "_dom_classes": [],
       "_model_module": "@jupyter-widgets/controls",
       "_model_module_version": "1.5.0",
       "_model_name": "FloatProgressModel",
       "_view_count": null,
       "_view_module": "@jupyter-widgets/controls",
       "_view_module_version": "1.5.0",
       "_view_name": "ProgressView",
       "bar_style": "",
       "description": "",
       "description_tooltip": null,
       "layout": "IPY_MODEL_43d0a54abb934f6a98a4fe776fb7a242",
       "max": 18,
       "min": 0,
       "orientation": "horizontal",
       "style": "IPY_MODEL_b08b6f78cc0e4a358ab403136d2a1131",
       "value": 18
      }
     },
     "80ba2be322d64aa6af99d9cf6972d4ec": {
      "model_module": "@jupyter-widgets/controls",
      "model_module_version": "1.5.0",
      "model_name": "HTMLModel",
      "state": {
       "_dom_classes": [],
       "_model_module": "@jupyter-widgets/controls",
       "_model_module_version": "1.5.0",
       "_model_name": "HTMLModel",
       "_view_count": null,
       "_view_module": "@jupyter-widgets/controls",
       "_view_module_version": "1.5.0",
       "_view_name": "HTMLView",
       "description": "",
       "description_tooltip": null,
       "layout": "IPY_MODEL_facc633d6ca3467281f6213564740f59",
       "placeholder": "​",
       "style": "IPY_MODEL_3a0186ce534f4c8ca9c484bfc6d1f459",
       "value": "split=train: "
      }
     },
     "86604ae880b04c938f5f3b8e8cee0ae0": {
      "model_module": "@jupyter-widgets/controls",
      "model_module_version": "1.5.0",
      "model_name": "HTMLModel",
      "state": {
       "_dom_classes": [],
       "_model_module": "@jupyter-widgets/controls",
       "_model_module_version": "1.5.0",
       "_model_name": "HTMLModel",
       "_view_count": null,
       "_view_module": "@jupyter-widgets/controls",
       "_view_module_version": "1.5.0",
       "_view_name": "HTMLView",
       "description": "",
       "description_tooltip": null,
       "layout": "IPY_MODEL_4ef3d5d4c7074146a291ec36d9502253",
       "placeholder": "​",
       "style": "IPY_MODEL_09879b484c0d470b8ff3792dd3b42bd1",
       "value": " 73/? [00:06&lt;00:00,  2.93it/s, epoch=1, loss=0.315]"
      }
     },
     "8d5d3f35c81f483f9723c057ed539e8d": {
      "model_module": "@jupyter-widgets/controls",
      "model_module_version": "1.5.0",
      "model_name": "DescriptionStyleModel",
      "state": {
       "_model_module": "@jupyter-widgets/controls",
       "_model_module_version": "1.5.0",
       "_model_name": "DescriptionStyleModel",
       "_view_count": null,
       "_view_module": "@jupyter-widgets/base",
       "_view_module_version": "1.2.0",
       "_view_name": "StyleView",
       "description_width": ""
      }
     },
     "8d7257608cc24e2cb82f8bb8c482b4f1": {
      "model_module": "@jupyter-widgets/controls",
      "model_module_version": "1.5.0",
      "model_name": "ProgressStyleModel",
      "state": {
       "_model_module": "@jupyter-widgets/controls",
       "_model_module_version": "1.5.0",
       "_model_name": "ProgressStyleModel",
       "_view_count": null,
       "_view_module": "@jupyter-widgets/base",
       "_view_module_version": "1.2.0",
       "_view_name": "StyleView",
       "bar_color": null,
       "description_width": ""
      }
     },
     "8dc63ef2dbf64ca494dd15bf79531866": {
      "model_module": "@jupyter-widgets/base",
      "model_module_version": "1.2.0",
      "model_name": "LayoutModel",
      "state": {
       "_model_module": "@jupyter-widgets/base",
       "_model_module_version": "1.2.0",
       "_model_name": "LayoutModel",
       "_view_count": null,
       "_view_module": "@jupyter-widgets/base",
       "_view_module_version": "1.2.0",
       "_view_name": "LayoutView",
       "align_content": null,
       "align_items": null,
       "align_self": null,
       "border": null,
       "bottom": null,
       "display": null,
       "flex": null,
       "flex_flow": null,
       "grid_area": null,
       "grid_auto_columns": null,
       "grid_auto_flow": null,
       "grid_auto_rows": null,
       "grid_column": null,
       "grid_gap": null,
       "grid_row": null,
       "grid_template_areas": null,
       "grid_template_columns": null,
       "grid_template_rows": null,
       "height": null,
       "justify_content": null,
       "justify_items": null,
       "left": null,
       "margin": null,
       "max_height": null,
       "max_width": null,
       "min_height": null,
       "min_width": null,
       "object_fit": null,
       "object_position": null,
       "order": null,
       "overflow": null,
       "overflow_x": null,
       "overflow_y": null,
       "padding": null,
       "right": null,
       "top": null,
       "visibility": null,
       "width": null
      }
     },
     "9119a251ef2d46eaa76762bacb439d9a": {
      "model_module": "@jupyter-widgets/controls",
      "model_module_version": "1.5.0",
      "model_name": "DescriptionStyleModel",
      "state": {
       "_model_module": "@jupyter-widgets/controls",
       "_model_module_version": "1.5.0",
       "_model_name": "DescriptionStyleModel",
       "_view_count": null,
       "_view_module": "@jupyter-widgets/base",
       "_view_module_version": "1.2.0",
       "_view_name": "StyleView",
       "description_width": ""
      }
     },
     "91e19519abdd4f8295aac25f48f0ef7c": {
      "model_module": "@jupyter-widgets/controls",
      "model_module_version": "1.5.0",
      "model_name": "HTMLModel",
      "state": {
       "_dom_classes": [],
       "_model_module": "@jupyter-widgets/controls",
       "_model_module_version": "1.5.0",
       "_model_name": "HTMLModel",
       "_view_count": null,
       "_view_module": "@jupyter-widgets/controls",
       "_view_module_version": "1.5.0",
       "_view_name": "HTMLView",
       "description": "",
       "description_tooltip": null,
       "layout": "IPY_MODEL_5631193ef8f943dc8f50db3b9cddb7ab",
       "placeholder": "​",
       "style": "IPY_MODEL_d068396edca543d783dd128d26fbb9e1",
       "value": "Downloading: 100%"
      }
     },
     "949c6a031dfb459ea252f338faf55f79": {
      "model_module": "@jupyter-widgets/base",
      "model_module_version": "1.2.0",
      "model_name": "LayoutModel",
      "state": {
       "_model_module": "@jupyter-widgets/base",
       "_model_module_version": "1.2.0",
       "_model_name": "LayoutModel",
       "_view_count": null,
       "_view_module": "@jupyter-widgets/base",
       "_view_module_version": "1.2.0",
       "_view_name": "LayoutView",
       "align_content": null,
       "align_items": null,
       "align_self": null,
       "border": null,
       "bottom": null,
       "display": null,
       "flex": null,
       "flex_flow": null,
       "grid_area": null,
       "grid_auto_columns": null,
       "grid_auto_flow": null,
       "grid_auto_rows": null,
       "grid_column": null,
       "grid_gap": null,
       "grid_row": null,
       "grid_template_areas": null,
       "grid_template_columns": null,
       "grid_template_rows": null,
       "height": null,
       "justify_content": null,
       "justify_items": null,
       "left": null,
       "margin": null,
       "max_height": null,
       "max_width": null,
       "min_height": null,
       "min_width": null,
       "object_fit": null,
       "object_position": null,
       "order": null,
       "overflow": null,
       "overflow_x": null,
       "overflow_y": null,
       "padding": null,
       "right": null,
       "top": null,
       "visibility": null,
       "width": null
      }
     },
     "998e4a5d580d4a72965a5416129b6776": {
      "model_module": "@jupyter-widgets/controls",
      "model_module_version": "1.5.0",
      "model_name": "DescriptionStyleModel",
      "state": {
       "_model_module": "@jupyter-widgets/controls",
       "_model_module_version": "1.5.0",
       "_model_name": "DescriptionStyleModel",
       "_view_count": null,
       "_view_module": "@jupyter-widgets/base",
       "_view_module_version": "1.2.0",
       "_view_name": "StyleView",
       "description_width": ""
      }
     },
     "999ad3d665154bfb950fb4f4b5ccd766": {
      "model_module": "@jupyter-widgets/controls",
      "model_module_version": "1.5.0",
      "model_name": "FloatProgressModel",
      "state": {
       "_dom_classes": [],
       "_model_module": "@jupyter-widgets/controls",
       "_model_module_version": "1.5.0",
       "_model_name": "FloatProgressModel",
       "_view_count": null,
       "_view_module": "@jupyter-widgets/controls",
       "_view_module_version": "1.5.0",
       "_view_name": "ProgressView",
       "bar_style": "success",
       "description": "",
       "description_tooltip": null,
       "layout": "IPY_MODEL_5d3cf6fafc3c4643ae671f68b8e13d0d",
       "max": 231508,
       "min": 0,
       "orientation": "horizontal",
       "style": "IPY_MODEL_aa5de8d1fc51435ea12d0c6927e614dc",
       "value": 231508
      }
     },
     "a33e800f092b42bdb22ecf30e6d0062d": {
      "model_module": "@jupyter-widgets/controls",
      "model_module_version": "1.5.0",
      "model_name": "DescriptionStyleModel",
      "state": {
       "_model_module": "@jupyter-widgets/controls",
       "_model_module_version": "1.5.0",
       "_model_name": "DescriptionStyleModel",
       "_view_count": null,
       "_view_module": "@jupyter-widgets/base",
       "_view_module_version": "1.2.0",
       "_view_name": "StyleView",
       "description_width": ""
      }
     },
     "a60a497ff3b144a8b1e4f97a2d5786ca": {
      "model_module": "@jupyter-widgets/controls",
      "model_module_version": "1.5.0",
      "model_name": "HBoxModel",
      "state": {
       "_dom_classes": [],
       "_model_module": "@jupyter-widgets/controls",
       "_model_module_version": "1.5.0",
       "_model_name": "HBoxModel",
       "_view_count": null,
       "_view_module": "@jupyter-widgets/controls",
       "_view_module_version": "1.5.0",
       "_view_name": "HBoxView",
       "box_style": "",
       "children": [
        "IPY_MODEL_d1595f06c4b94f86899754c7054a549a",
        "IPY_MODEL_7344994c83bb4522b235f1908c5d5bd1",
        "IPY_MODEL_40923d5f06ca45279c99f5d4bea83474"
       ],
       "layout": "IPY_MODEL_bdf16c7fbeeb4e55b56c5020b0e03b9f"
      }
     },
     "aa5de8d1fc51435ea12d0c6927e614dc": {
      "model_module": "@jupyter-widgets/controls",
      "model_module_version": "1.5.0",
      "model_name": "ProgressStyleModel",
      "state": {
       "_model_module": "@jupyter-widgets/controls",
       "_model_module_version": "1.5.0",
       "_model_name": "ProgressStyleModel",
       "_view_count": null,
       "_view_module": "@jupyter-widgets/base",
       "_view_module_version": "1.2.0",
       "_view_name": "StyleView",
       "bar_color": null,
       "description_width": ""
      }
     },
     "b08b6f78cc0e4a358ab403136d2a1131": {
      "model_module": "@jupyter-widgets/controls",
      "model_module_version": "1.5.0",
      "model_name": "ProgressStyleModel",
      "state": {
       "_model_module": "@jupyter-widgets/controls",
       "_model_module_version": "1.5.0",
       "_model_name": "ProgressStyleModel",
       "_view_count": null,
       "_view_module": "@jupyter-widgets/base",
       "_view_module_version": "1.2.0",
       "_view_name": "StyleView",
       "bar_color": null,
       "description_width": ""
      }
     },
     "b252e40c42a648a1ae1e7515bfc35394": {
      "model_module": "@jupyter-widgets/base",
      "model_module_version": "1.2.0",
      "model_name": "LayoutModel",
      "state": {
       "_model_module": "@jupyter-widgets/base",
       "_model_module_version": "1.2.0",
       "_model_name": "LayoutModel",
       "_view_count": null,
       "_view_module": "@jupyter-widgets/base",
       "_view_module_version": "1.2.0",
       "_view_name": "LayoutView",
       "align_content": null,
       "align_items": null,
       "align_self": null,
       "border": null,
       "bottom": null,
       "display": null,
       "flex": null,
       "flex_flow": null,
       "grid_area": null,
       "grid_auto_columns": null,
       "grid_auto_flow": null,
       "grid_auto_rows": null,
       "grid_column": null,
       "grid_gap": null,
       "grid_row": null,
       "grid_template_areas": null,
       "grid_template_columns": null,
       "grid_template_rows": null,
       "height": null,
       "justify_content": null,
       "justify_items": null,
       "left": null,
       "margin": null,
       "max_height": null,
       "max_width": null,
       "min_height": null,
       "min_width": null,
       "object_fit": null,
       "object_position": null,
       "order": null,
       "overflow": null,
       "overflow_x": null,
       "overflow_y": null,
       "padding": null,
       "right": null,
       "top": null,
       "visibility": null,
       "width": null
      }
     },
     "b84fd622fefe40bb9b7758bb3a9e1d4a": {
      "model_module": "@jupyter-widgets/controls",
      "model_module_version": "1.5.0",
      "model_name": "FloatProgressModel",
      "state": {
       "_dom_classes": [],
       "_model_module": "@jupyter-widgets/controls",
       "_model_module_version": "1.5.0",
       "_model_name": "FloatProgressModel",
       "_view_count": null,
       "_view_module": "@jupyter-widgets/controls",
       "_view_module_version": "1.5.0",
       "_view_name": "ProgressView",
       "bar_style": "success",
       "description": "",
       "description_tooltip": null,
       "layout": "IPY_MODEL_f1916da5487b47e58edfc7bd218fb711",
       "max": 629,
       "min": 0,
       "orientation": "horizontal",
       "style": "IPY_MODEL_79d0f67358ac42d5811ccceef9aeb43e",
       "value": 629
      }
     },
     "bdf16c7fbeeb4e55b56c5020b0e03b9f": {
      "model_module": "@jupyter-widgets/base",
      "model_module_version": "1.2.0",
      "model_name": "LayoutModel",
      "state": {
       "_model_module": "@jupyter-widgets/base",
       "_model_module_version": "1.2.0",
       "_model_name": "LayoutModel",
       "_view_count": null,
       "_view_module": "@jupyter-widgets/base",
       "_view_module_version": "1.2.0",
       "_view_name": "LayoutView",
       "align_content": null,
       "align_items": null,
       "align_self": null,
       "border": null,
       "bottom": null,
       "display": null,
       "flex": null,
       "flex_flow": null,
       "grid_area": null,
       "grid_auto_columns": null,
       "grid_auto_flow": null,
       "grid_auto_rows": null,
       "grid_column": null,
       "grid_gap": null,
       "grid_row": null,
       "grid_template_areas": null,
       "grid_template_columns": null,
       "grid_template_rows": null,
       "height": null,
       "justify_content": null,
       "justify_items": null,
       "left": null,
       "margin": null,
       "max_height": null,
       "max_width": null,
       "min_height": null,
       "min_width": null,
       "object_fit": null,
       "object_position": null,
       "order": null,
       "overflow": null,
       "overflow_x": null,
       "overflow_y": null,
       "padding": null,
       "right": null,
       "top": null,
       "visibility": null,
       "width": null
      }
     },
     "c232a5535f224944b050503168271e08": {
      "model_module": "@jupyter-widgets/controls",
      "model_module_version": "1.5.0",
      "model_name": "HBoxModel",
      "state": {
       "_dom_classes": [],
       "_model_module": "@jupyter-widgets/controls",
       "_model_module_version": "1.5.0",
       "_model_name": "HBoxModel",
       "_view_count": null,
       "_view_module": "@jupyter-widgets/controls",
       "_view_module_version": "1.5.0",
       "_view_name": "HBoxView",
       "box_style": "",
       "children": [
        "IPY_MODEL_369d1103dced4f449ccf1ecfaefa5413",
        "IPY_MODEL_999ad3d665154bfb950fb4f4b5ccd766",
        "IPY_MODEL_6e18736f147f4040973476386ddfdd93"
       ],
       "layout": "IPY_MODEL_760cd904b1ad430a9ee7991946ce5e59"
      }
     },
     "c5592433cfc74fed925031909cd266d2": {
      "model_module": "@jupyter-widgets/controls",
      "model_module_version": "1.5.0",
      "model_name": "HBoxModel",
      "state": {
       "_dom_classes": [],
       "_model_module": "@jupyter-widgets/controls",
       "_model_module_version": "1.5.0",
       "_model_name": "HBoxModel",
       "_view_count": null,
       "_view_module": "@jupyter-widgets/controls",
       "_view_module_version": "1.5.0",
       "_view_name": "HBoxView",
       "box_style": "",
       "children": [
        "IPY_MODEL_5c859dd6595744ffb2a0cdb0d9e336f8",
        "IPY_MODEL_7ead981b13c14e53afefbee2ab8b4193",
        "IPY_MODEL_7e4ebe168e5644e78b19115562da6b5e"
       ],
       "layout": "IPY_MODEL_8dc63ef2dbf64ca494dd15bf79531866"
      }
     },
     "c6422ccb4cfe421a820dd41152196a64": {
      "model_module": "@jupyter-widgets/controls",
      "model_module_version": "1.5.0",
      "model_name": "DescriptionStyleModel",
      "state": {
       "_model_module": "@jupyter-widgets/controls",
       "_model_module_version": "1.5.0",
       "_model_name": "DescriptionStyleModel",
       "_view_count": null,
       "_view_module": "@jupyter-widgets/base",
       "_view_module_version": "1.2.0",
       "_view_name": "StyleView",
       "description_width": ""
      }
     },
     "c8b01516c793442aadb76c7cbba99873": {
      "model_module": "@jupyter-widgets/controls",
      "model_module_version": "1.5.0",
      "model_name": "FloatProgressModel",
      "state": {
       "_dom_classes": [],
       "_model_module": "@jupyter-widgets/controls",
       "_model_module_version": "1.5.0",
       "_model_name": "FloatProgressModel",
       "_view_count": null,
       "_view_module": "@jupyter-widgets/controls",
       "_view_module_version": "1.5.0",
       "_view_name": "ProgressView",
       "bar_style": "",
       "description": "",
       "description_tooltip": null,
       "layout": "IPY_MODEL_098bd9c9a8bb4e94a0ee50924e4b0257",
       "max": 72,
       "min": 0,
       "orientation": "horizontal",
       "style": "IPY_MODEL_6ba80b8167b24df7a06baa7464a1d021",
       "value": 72
      }
     },
     "d068396edca543d783dd128d26fbb9e1": {
      "model_module": "@jupyter-widgets/controls",
      "model_module_version": "1.5.0",
      "model_name": "DescriptionStyleModel",
      "state": {
       "_model_module": "@jupyter-widgets/controls",
       "_model_module_version": "1.5.0",
       "_model_name": "DescriptionStyleModel",
       "_view_count": null,
       "_view_module": "@jupyter-widgets/base",
       "_view_module_version": "1.2.0",
       "_view_name": "StyleView",
       "description_width": ""
      }
     },
     "d0949e9e606649669490812d37ede040": {
      "model_module": "@jupyter-widgets/base",
      "model_module_version": "1.2.0",
      "model_name": "LayoutModel",
      "state": {
       "_model_module": "@jupyter-widgets/base",
       "_model_module_version": "1.2.0",
       "_model_name": "LayoutModel",
       "_view_count": null,
       "_view_module": "@jupyter-widgets/base",
       "_view_module_version": "1.2.0",
       "_view_name": "LayoutView",
       "align_content": null,
       "align_items": null,
       "align_self": null,
       "border": null,
       "bottom": null,
       "display": null,
       "flex": null,
       "flex_flow": null,
       "grid_area": null,
       "grid_auto_columns": null,
       "grid_auto_flow": null,
       "grid_auto_rows": null,
       "grid_column": null,
       "grid_gap": null,
       "grid_row": null,
       "grid_template_areas": null,
       "grid_template_columns": null,
       "grid_template_rows": null,
       "height": null,
       "justify_content": null,
       "justify_items": null,
       "left": null,
       "margin": null,
       "max_height": null,
       "max_width": null,
       "min_height": null,
       "min_width": null,
       "object_fit": null,
       "object_position": null,
       "order": null,
       "overflow": null,
       "overflow_x": null,
       "overflow_y": null,
       "padding": null,
       "right": null,
       "top": null,
       "visibility": null,
       "width": null
      }
     },
     "d1595f06c4b94f86899754c7054a549a": {
      "model_module": "@jupyter-widgets/controls",
      "model_module_version": "1.5.0",
      "model_name": "HTMLModel",
      "state": {
       "_dom_classes": [],
       "_model_module": "@jupyter-widgets/controls",
       "_model_module_version": "1.5.0",
       "_model_name": "HTMLModel",
       "_view_count": null,
       "_view_module": "@jupyter-widgets/controls",
       "_view_module_version": "1.5.0",
       "_view_name": "HTMLView",
       "description": "",
       "description_tooltip": null,
       "layout": "IPY_MODEL_949c6a031dfb459ea252f338faf55f79",
       "placeholder": "​",
       "style": "IPY_MODEL_9119a251ef2d46eaa76762bacb439d9a",
       "value": "Downloading: 100%"
      }
     },
     "e09779bb585c4cee9ce2a70f93234540": {
      "model_module": "@jupyter-widgets/controls",
      "model_module_version": "1.5.0",
      "model_name": "HTMLModel",
      "state": {
       "_dom_classes": [],
       "_model_module": "@jupyter-widgets/controls",
       "_model_module_version": "1.5.0",
       "_model_name": "HTMLModel",
       "_view_count": null,
       "_view_module": "@jupyter-widgets/controls",
       "_view_module_version": "1.5.0",
       "_view_name": "HTMLView",
       "description": "",
       "description_tooltip": null,
       "layout": "IPY_MODEL_ed2f754afb50423f82103e242d2127df",
       "placeholder": "​",
       "style": "IPY_MODEL_c6422ccb4cfe421a820dd41152196a64",
       "value": " 629/629 [00:00&lt;00:00, 16.8kB/s]"
      }
     },
     "e4b6514653f7406fb3c65e3db345283f": {
      "model_module": "@jupyter-widgets/controls",
      "model_module_version": "1.5.0",
      "model_name": "DescriptionStyleModel",
      "state": {
       "_model_module": "@jupyter-widgets/controls",
       "_model_module_version": "1.5.0",
       "_model_name": "DescriptionStyleModel",
       "_view_count": null,
       "_view_module": "@jupyter-widgets/base",
       "_view_module_version": "1.2.0",
       "_view_name": "StyleView",
       "description_width": ""
      }
     },
     "e5dc0b4c019d48cbab97934f9a17a0da": {
      "model_module": "@jupyter-widgets/controls",
      "model_module_version": "1.5.0",
      "model_name": "DescriptionStyleModel",
      "state": {
       "_model_module": "@jupyter-widgets/controls",
       "_model_module_version": "1.5.0",
       "_model_name": "DescriptionStyleModel",
       "_view_count": null,
       "_view_module": "@jupyter-widgets/base",
       "_view_module_version": "1.2.0",
       "_view_name": "StyleView",
       "description_width": ""
      }
     },
     "e667fbef9c9f4d2f9cd85e0232816b61": {
      "model_module": "@jupyter-widgets/base",
      "model_module_version": "1.2.0",
      "model_name": "LayoutModel",
      "state": {
       "_model_module": "@jupyter-widgets/base",
       "_model_module_version": "1.2.0",
       "_model_name": "LayoutModel",
       "_view_count": null,
       "_view_module": "@jupyter-widgets/base",
       "_view_module_version": "1.2.0",
       "_view_name": "LayoutView",
       "align_content": null,
       "align_items": null,
       "align_self": null,
       "border": null,
       "bottom": null,
       "display": null,
       "flex": null,
       "flex_flow": null,
       "grid_area": null,
       "grid_auto_columns": null,
       "grid_auto_flow": null,
       "grid_auto_rows": null,
       "grid_column": null,
       "grid_gap": null,
       "grid_row": null,
       "grid_template_areas": null,
       "grid_template_columns": null,
       "grid_template_rows": null,
       "height": null,
       "justify_content": null,
       "justify_items": null,
       "left": null,
       "margin": null,
       "max_height": null,
       "max_width": null,
       "min_height": null,
       "min_width": null,
       "object_fit": null,
       "object_position": null,
       "order": null,
       "overflow": null,
       "overflow_x": null,
       "overflow_y": null,
       "padding": null,
       "right": null,
       "top": null,
       "visibility": null,
       "width": null
      }
     },
     "e79eeb22d1194b48bbf5fe791e6a7ab2": {
      "model_module": "@jupyter-widgets/controls",
      "model_module_version": "1.5.0",
      "model_name": "HBoxModel",
      "state": {
       "_dom_classes": [],
       "_model_module": "@jupyter-widgets/controls",
       "_model_module_version": "1.5.0",
       "_model_name": "HBoxModel",
       "_view_count": null,
       "_view_module": "@jupyter-widgets/controls",
       "_view_module_version": "1.5.0",
       "_view_name": "HBoxView",
       "box_style": "",
       "children": [
        "IPY_MODEL_7db0bb9bf8be46a8a6c4b69dfc7ba624",
        "IPY_MODEL_16154da032e54d55b994c911fd664831",
        "IPY_MODEL_77b6809edd8b44dd8126836658fc4883"
       ],
       "layout": "IPY_MODEL_2f2781fb286c4710bc87166d33182c52"
      }
     },
     "ed2f754afb50423f82103e242d2127df": {
      "model_module": "@jupyter-widgets/base",
      "model_module_version": "1.2.0",
      "model_name": "LayoutModel",
      "state": {
       "_model_module": "@jupyter-widgets/base",
       "_model_module_version": "1.2.0",
       "_model_name": "LayoutModel",
       "_view_count": null,
       "_view_module": "@jupyter-widgets/base",
       "_view_module_version": "1.2.0",
       "_view_name": "LayoutView",
       "align_content": null,
       "align_items": null,
       "align_self": null,
       "border": null,
       "bottom": null,
       "display": null,
       "flex": null,
       "flex_flow": null,
       "grid_area": null,
       "grid_auto_columns": null,
       "grid_auto_flow": null,
       "grid_auto_rows": null,
       "grid_column": null,
       "grid_gap": null,
       "grid_row": null,
       "grid_template_areas": null,
       "grid_template_columns": null,
       "grid_template_rows": null,
       "height": null,
       "justify_content": null,
       "justify_items": null,
       "left": null,
       "margin": null,
       "max_height": null,
       "max_width": null,
       "min_height": null,
       "min_width": null,
       "object_fit": null,
       "object_position": null,
       "order": null,
       "overflow": null,
       "overflow_x": null,
       "overflow_y": null,
       "padding": null,
       "right": null,
       "top": null,
       "visibility": null,
       "width": null
      }
     },
     "f0a35c28c4e3419cb285ed4d163b3b66": {
      "model_module": "@jupyter-widgets/base",
      "model_module_version": "1.2.0",
      "model_name": "LayoutModel",
      "state": {
       "_model_module": "@jupyter-widgets/base",
       "_model_module_version": "1.2.0",
       "_model_name": "LayoutModel",
       "_view_count": null,
       "_view_module": "@jupyter-widgets/base",
       "_view_module_version": "1.2.0",
       "_view_name": "LayoutView",
       "align_content": null,
       "align_items": null,
       "align_self": null,
       "border": null,
       "bottom": null,
       "display": null,
       "flex": null,
       "flex_flow": null,
       "grid_area": null,
       "grid_auto_columns": null,
       "grid_auto_flow": null,
       "grid_auto_rows": null,
       "grid_column": null,
       "grid_gap": null,
       "grid_row": null,
       "grid_template_areas": null,
       "grid_template_columns": null,
       "grid_template_rows": null,
       "height": null,
       "justify_content": null,
       "justify_items": null,
       "left": null,
       "margin": null,
       "max_height": null,
       "max_width": null,
       "min_height": null,
       "min_width": null,
       "object_fit": null,
       "object_position": null,
       "order": null,
       "overflow": null,
       "overflow_x": null,
       "overflow_y": null,
       "padding": null,
       "right": null,
       "top": null,
       "visibility": null,
       "width": null
      }
     },
     "f1147c62460841c2805ad2cad3ebaf92": {
      "model_module": "@jupyter-widgets/base",
      "model_module_version": "1.2.0",
      "model_name": "LayoutModel",
      "state": {
       "_model_module": "@jupyter-widgets/base",
       "_model_module_version": "1.2.0",
       "_model_name": "LayoutModel",
       "_view_count": null,
       "_view_module": "@jupyter-widgets/base",
       "_view_module_version": "1.2.0",
       "_view_name": "LayoutView",
       "align_content": null,
       "align_items": null,
       "align_self": null,
       "border": null,
       "bottom": null,
       "display": null,
       "flex": null,
       "flex_flow": null,
       "grid_area": null,
       "grid_auto_columns": null,
       "grid_auto_flow": null,
       "grid_auto_rows": null,
       "grid_column": null,
       "grid_gap": null,
       "grid_row": null,
       "grid_template_areas": null,
       "grid_template_columns": null,
       "grid_template_rows": null,
       "height": null,
       "justify_content": null,
       "justify_items": null,
       "left": null,
       "margin": null,
       "max_height": null,
       "max_width": null,
       "min_height": null,
       "min_width": null,
       "object_fit": null,
       "object_position": null,
       "order": null,
       "overflow": null,
       "overflow_x": null,
       "overflow_y": null,
       "padding": null,
       "right": null,
       "top": null,
       "visibility": null,
       "width": null
      }
     },
     "f1916da5487b47e58edfc7bd218fb711": {
      "model_module": "@jupyter-widgets/base",
      "model_module_version": "1.2.0",
      "model_name": "LayoutModel",
      "state": {
       "_model_module": "@jupyter-widgets/base",
       "_model_module_version": "1.2.0",
       "_model_name": "LayoutModel",
       "_view_count": null,
       "_view_module": "@jupyter-widgets/base",
       "_view_module_version": "1.2.0",
       "_view_name": "LayoutView",
       "align_content": null,
       "align_items": null,
       "align_self": null,
       "border": null,
       "bottom": null,
       "display": null,
       "flex": null,
       "flex_flow": null,
       "grid_area": null,
       "grid_auto_columns": null,
       "grid_auto_flow": null,
       "grid_auto_rows": null,
       "grid_column": null,
       "grid_gap": null,
       "grid_row": null,
       "grid_template_areas": null,
       "grid_template_columns": null,
       "grid_template_rows": null,
       "height": null,
       "justify_content": null,
       "justify_items": null,
       "left": null,
       "margin": null,
       "max_height": null,
       "max_width": null,
       "min_height": null,
       "min_width": null,
       "object_fit": null,
       "object_position": null,
       "order": null,
       "overflow": null,
       "overflow_x": null,
       "overflow_y": null,
       "padding": null,
       "right": null,
       "top": null,
       "visibility": null,
       "width": null
      }
     },
     "f3e547f01bbd462bb24c4ae39002a906": {
      "model_module": "@jupyter-widgets/base",
      "model_module_version": "1.2.0",
      "model_name": "LayoutModel",
      "state": {
       "_model_module": "@jupyter-widgets/base",
       "_model_module_version": "1.2.0",
       "_model_name": "LayoutModel",
       "_view_count": null,
       "_view_module": "@jupyter-widgets/base",
       "_view_module_version": "1.2.0",
       "_view_name": "LayoutView",
       "align_content": null,
       "align_items": null,
       "align_self": null,
       "border": null,
       "bottom": null,
       "display": null,
       "flex": null,
       "flex_flow": null,
       "grid_area": null,
       "grid_auto_columns": null,
       "grid_auto_flow": null,
       "grid_auto_rows": null,
       "grid_column": null,
       "grid_gap": null,
       "grid_row": null,
       "grid_template_areas": null,
       "grid_template_columns": null,
       "grid_template_rows": null,
       "height": null,
       "justify_content": null,
       "justify_items": null,
       "left": null,
       "margin": null,
       "max_height": null,
       "max_width": null,
       "min_height": null,
       "min_width": null,
       "object_fit": null,
       "object_position": null,
       "order": null,
       "overflow": null,
       "overflow_x": null,
       "overflow_y": null,
       "padding": null,
       "right": null,
       "top": null,
       "visibility": null,
       "width": null
      }
     },
     "f974dfcf81c5463a8222409fd5e82bc7": {
      "model_module": "@jupyter-widgets/base",
      "model_module_version": "1.2.0",
      "model_name": "LayoutModel",
      "state": {
       "_model_module": "@jupyter-widgets/base",
       "_model_module_version": "1.2.0",
       "_model_name": "LayoutModel",
       "_view_count": null,
       "_view_module": "@jupyter-widgets/base",
       "_view_module_version": "1.2.0",
       "_view_name": "LayoutView",
       "align_content": null,
       "align_items": null,
       "align_self": null,
       "border": null,
       "bottom": null,
       "display": null,
       "flex": null,
       "flex_flow": null,
       "grid_area": null,
       "grid_auto_columns": null,
       "grid_auto_flow": null,
       "grid_auto_rows": null,
       "grid_column": null,
       "grid_gap": null,
       "grid_row": null,
       "grid_template_areas": null,
       "grid_template_columns": null,
       "grid_template_rows": null,
       "height": null,
       "justify_content": null,
       "justify_items": null,
       "left": null,
       "margin": null,
       "max_height": null,
       "max_width": null,
       "min_height": null,
       "min_width": null,
       "object_fit": null,
       "object_position": null,
       "order": null,
       "overflow": null,
       "overflow_x": null,
       "overflow_y": null,
       "padding": null,
       "right": null,
       "top": null,
       "visibility": null,
       "width": null
      }
     },
     "facc633d6ca3467281f6213564740f59": {
      "model_module": "@jupyter-widgets/base",
      "model_module_version": "1.2.0",
      "model_name": "LayoutModel",
      "state": {
       "_model_module": "@jupyter-widgets/base",
       "_model_module_version": "1.2.0",
       "_model_name": "LayoutModel",
       "_view_count": null,
       "_view_module": "@jupyter-widgets/base",
       "_view_module_version": "1.2.0",
       "_view_name": "LayoutView",
       "align_content": null,
       "align_items": null,
       "align_self": null,
       "border": null,
       "bottom": null,
       "display": null,
       "flex": null,
       "flex_flow": null,
       "grid_area": null,
       "grid_auto_columns": null,
       "grid_auto_flow": null,
       "grid_auto_rows": null,
       "grid_column": null,
       "grid_gap": null,
       "grid_row": null,
       "grid_template_areas": null,
       "grid_template_columns": null,
       "grid_template_rows": null,
       "height": null,
       "justify_content": null,
       "justify_items": null,
       "left": null,
       "margin": null,
       "max_height": null,
       "max_width": null,
       "min_height": null,
       "min_width": null,
       "object_fit": null,
       "object_position": null,
       "order": null,
       "overflow": null,
       "overflow_x": null,
       "overflow_y": null,
       "padding": null,
       "right": null,
       "top": null,
       "visibility": null,
       "width": null
      }
     }
    },
    "version_major": 2,
    "version_minor": 0
   }
  }
 },
 "nbformat": 4,
 "nbformat_minor": 5
}
